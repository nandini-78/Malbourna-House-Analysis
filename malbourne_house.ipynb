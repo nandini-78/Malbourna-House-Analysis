{
  "nbformat": 4,
  "nbformat_minor": 0,
  "metadata": {
    "colab": {
      "provenance": []
    },
    "kernelspec": {
      "name": "python3",
      "display_name": "Python 3"
    },
    "language_info": {
      "name": "python"
    }
  },
  "cells": [
    {
      "cell_type": "markdown",
      "source": [
        "**1. Drop the null values row from the dataset. (Hints- use dropna method)**"
      ],
      "metadata": {
        "id": "PzTyPfpc9ynC"
      }
    },
    {
      "cell_type": "code",
      "execution_count": null,
      "metadata": {
        "id": "XBhNteSv9gJJ"
      },
      "outputs": [],
      "source": [
        "import numpy as np\n",
        "import pandas as pd\n",
        "\n",
        "\n",
        "df=pd.read_csv(\"/content/Melbourne_house - Eval_1_melbourne_house.csv\")\n"
      ]
    },
    {
      "cell_type": "code",
      "source": [
        "df.dropna()"
      ],
      "metadata": {
        "colab": {
          "base_uri": "https://localhost:8080/",
          "height": 467
        },
        "id": "SIgvgkTa9p8J",
        "outputId": "93cbd78c-5e15-4fd5-df69-166d38267d53"
      },
      "execution_count": null,
      "outputs": [
        {
          "output_type": "execute_result",
          "data": {
            "text/plain": [
              "          Suburban           Address  Rooms Type      Price Method   SellerG  \\\n",
              "0       Abbotsford     49 Lithgow St      3    h  1490000.0      S    Jellis   \n",
              "1       Abbotsford     59A Turner St      3    h  1220000.0      S  Marshall   \n",
              "2       Abbotsford     119B Yarra St      3    h  1420000.0      S    Nelson   \n",
              "3       Aberfeldie        68 Vida St      3    h  1515000.0      S     Barry   \n",
              "4     Airport West  92 Clydesdale Rd      2    h   670000.0      S    Nelson   \n",
              "...            ...               ...    ...  ...        ...    ...       ...   \n",
              "9019     Reservoir      36 Anstey Av      3    h   600000.0     PI       Ray   \n",
              "9020     Reservoir    2/37 Ashton St      2    t   562000.0      S     Barry   \n",
              "9021     Reservoir       9 Bourke St      3    h   900000.0      S    Nelson   \n",
              "9023     Reservoir   2/33 Byfield St      3    h   700500.0      S       Ray   \n",
              "9024     Reservoir   4/8 Chaleyer St      3    t   560000.0      S     Barry   \n",
              "\n",
              "            Date  Postcode             Regionname  Propertycount  Distance  \\\n",
              "0     01-04-2017      3067  Northern Metropolitan           4019       3.0   \n",
              "1     01-04-2017      3067  Northern Metropolitan           4019       3.0   \n",
              "2     01-04-2017      3067  Northern Metropolitan           4019       3.0   \n",
              "3     01-04-2017      3040   Western Metropolitan           1543       7.5   \n",
              "4     01-04-2017      3042   Western Metropolitan           3464      10.4   \n",
              "...          ...       ...                    ...            ...       ...   \n",
              "9019  06-01-2018      3073  Northern Metropolitan          21650      12.0   \n",
              "9020  06-01-2018      3073  Northern Metropolitan          21650      12.0   \n",
              "9021  06-01-2018      3073  Northern Metropolitan          21650      12.0   \n",
              "9023  06-01-2018      3073  Northern Metropolitan          21650      12.0   \n",
              "9024  06-01-2018      3073  Northern Metropolitan          21650      12.0   \n",
              "\n",
              "                     CouncilArea  \n",
              "0             Yarra City Council  \n",
              "1             Yarra City Council  \n",
              "2             Yarra City Council  \n",
              "3     Moonee Valley City Council  \n",
              "4     Moonee Valley City Council  \n",
              "...                          ...  \n",
              "9019        Darebin City Council  \n",
              "9020        Darebin City Council  \n",
              "9021        Darebin City Council  \n",
              "9023        Darebin City Council  \n",
              "9024                         Dar  \n",
              "\n",
              "[6911 rows x 13 columns]"
            ],
            "text/html": [
              "\n",
              "  <div id=\"df-67d6ca1f-7b19-46ac-9a37-d9cb81d09f29\">\n",
              "    <div class=\"colab-df-container\">\n",
              "      <div>\n",
              "<style scoped>\n",
              "    .dataframe tbody tr th:only-of-type {\n",
              "        vertical-align: middle;\n",
              "    }\n",
              "\n",
              "    .dataframe tbody tr th {\n",
              "        vertical-align: top;\n",
              "    }\n",
              "\n",
              "    .dataframe thead th {\n",
              "        text-align: right;\n",
              "    }\n",
              "</style>\n",
              "<table border=\"1\" class=\"dataframe\">\n",
              "  <thead>\n",
              "    <tr style=\"text-align: right;\">\n",
              "      <th></th>\n",
              "      <th>Suburban</th>\n",
              "      <th>Address</th>\n",
              "      <th>Rooms</th>\n",
              "      <th>Type</th>\n",
              "      <th>Price</th>\n",
              "      <th>Method</th>\n",
              "      <th>SellerG</th>\n",
              "      <th>Date</th>\n",
              "      <th>Postcode</th>\n",
              "      <th>Regionname</th>\n",
              "      <th>Propertycount</th>\n",
              "      <th>Distance</th>\n",
              "      <th>CouncilArea</th>\n",
              "    </tr>\n",
              "  </thead>\n",
              "  <tbody>\n",
              "    <tr>\n",
              "      <th>0</th>\n",
              "      <td>Abbotsford</td>\n",
              "      <td>49 Lithgow St</td>\n",
              "      <td>3</td>\n",
              "      <td>h</td>\n",
              "      <td>1490000.0</td>\n",
              "      <td>S</td>\n",
              "      <td>Jellis</td>\n",
              "      <td>01-04-2017</td>\n",
              "      <td>3067</td>\n",
              "      <td>Northern Metropolitan</td>\n",
              "      <td>4019</td>\n",
              "      <td>3.0</td>\n",
              "      <td>Yarra City Council</td>\n",
              "    </tr>\n",
              "    <tr>\n",
              "      <th>1</th>\n",
              "      <td>Abbotsford</td>\n",
              "      <td>59A Turner St</td>\n",
              "      <td>3</td>\n",
              "      <td>h</td>\n",
              "      <td>1220000.0</td>\n",
              "      <td>S</td>\n",
              "      <td>Marshall</td>\n",
              "      <td>01-04-2017</td>\n",
              "      <td>3067</td>\n",
              "      <td>Northern Metropolitan</td>\n",
              "      <td>4019</td>\n",
              "      <td>3.0</td>\n",
              "      <td>Yarra City Council</td>\n",
              "    </tr>\n",
              "    <tr>\n",
              "      <th>2</th>\n",
              "      <td>Abbotsford</td>\n",
              "      <td>119B Yarra St</td>\n",
              "      <td>3</td>\n",
              "      <td>h</td>\n",
              "      <td>1420000.0</td>\n",
              "      <td>S</td>\n",
              "      <td>Nelson</td>\n",
              "      <td>01-04-2017</td>\n",
              "      <td>3067</td>\n",
              "      <td>Northern Metropolitan</td>\n",
              "      <td>4019</td>\n",
              "      <td>3.0</td>\n",
              "      <td>Yarra City Council</td>\n",
              "    </tr>\n",
              "    <tr>\n",
              "      <th>3</th>\n",
              "      <td>Aberfeldie</td>\n",
              "      <td>68 Vida St</td>\n",
              "      <td>3</td>\n",
              "      <td>h</td>\n",
              "      <td>1515000.0</td>\n",
              "      <td>S</td>\n",
              "      <td>Barry</td>\n",
              "      <td>01-04-2017</td>\n",
              "      <td>3040</td>\n",
              "      <td>Western Metropolitan</td>\n",
              "      <td>1543</td>\n",
              "      <td>7.5</td>\n",
              "      <td>Moonee Valley City Council</td>\n",
              "    </tr>\n",
              "    <tr>\n",
              "      <th>4</th>\n",
              "      <td>Airport West</td>\n",
              "      <td>92 Clydesdale Rd</td>\n",
              "      <td>2</td>\n",
              "      <td>h</td>\n",
              "      <td>670000.0</td>\n",
              "      <td>S</td>\n",
              "      <td>Nelson</td>\n",
              "      <td>01-04-2017</td>\n",
              "      <td>3042</td>\n",
              "      <td>Western Metropolitan</td>\n",
              "      <td>3464</td>\n",
              "      <td>10.4</td>\n",
              "      <td>Moonee Valley City Council</td>\n",
              "    </tr>\n",
              "    <tr>\n",
              "      <th>...</th>\n",
              "      <td>...</td>\n",
              "      <td>...</td>\n",
              "      <td>...</td>\n",
              "      <td>...</td>\n",
              "      <td>...</td>\n",
              "      <td>...</td>\n",
              "      <td>...</td>\n",
              "      <td>...</td>\n",
              "      <td>...</td>\n",
              "      <td>...</td>\n",
              "      <td>...</td>\n",
              "      <td>...</td>\n",
              "      <td>...</td>\n",
              "    </tr>\n",
              "    <tr>\n",
              "      <th>9019</th>\n",
              "      <td>Reservoir</td>\n",
              "      <td>36 Anstey Av</td>\n",
              "      <td>3</td>\n",
              "      <td>h</td>\n",
              "      <td>600000.0</td>\n",
              "      <td>PI</td>\n",
              "      <td>Ray</td>\n",
              "      <td>06-01-2018</td>\n",
              "      <td>3073</td>\n",
              "      <td>Northern Metropolitan</td>\n",
              "      <td>21650</td>\n",
              "      <td>12.0</td>\n",
              "      <td>Darebin City Council</td>\n",
              "    </tr>\n",
              "    <tr>\n",
              "      <th>9020</th>\n",
              "      <td>Reservoir</td>\n",
              "      <td>2/37 Ashton St</td>\n",
              "      <td>2</td>\n",
              "      <td>t</td>\n",
              "      <td>562000.0</td>\n",
              "      <td>S</td>\n",
              "      <td>Barry</td>\n",
              "      <td>06-01-2018</td>\n",
              "      <td>3073</td>\n",
              "      <td>Northern Metropolitan</td>\n",
              "      <td>21650</td>\n",
              "      <td>12.0</td>\n",
              "      <td>Darebin City Council</td>\n",
              "    </tr>\n",
              "    <tr>\n",
              "      <th>9021</th>\n",
              "      <td>Reservoir</td>\n",
              "      <td>9 Bourke St</td>\n",
              "      <td>3</td>\n",
              "      <td>h</td>\n",
              "      <td>900000.0</td>\n",
              "      <td>S</td>\n",
              "      <td>Nelson</td>\n",
              "      <td>06-01-2018</td>\n",
              "      <td>3073</td>\n",
              "      <td>Northern Metropolitan</td>\n",
              "      <td>21650</td>\n",
              "      <td>12.0</td>\n",
              "      <td>Darebin City Council</td>\n",
              "    </tr>\n",
              "    <tr>\n",
              "      <th>9023</th>\n",
              "      <td>Reservoir</td>\n",
              "      <td>2/33 Byfield St</td>\n",
              "      <td>3</td>\n",
              "      <td>h</td>\n",
              "      <td>700500.0</td>\n",
              "      <td>S</td>\n",
              "      <td>Ray</td>\n",
              "      <td>06-01-2018</td>\n",
              "      <td>3073</td>\n",
              "      <td>Northern Metropolitan</td>\n",
              "      <td>21650</td>\n",
              "      <td>12.0</td>\n",
              "      <td>Darebin City Council</td>\n",
              "    </tr>\n",
              "    <tr>\n",
              "      <th>9024</th>\n",
              "      <td>Reservoir</td>\n",
              "      <td>4/8 Chaleyer St</td>\n",
              "      <td>3</td>\n",
              "      <td>t</td>\n",
              "      <td>560000.0</td>\n",
              "      <td>S</td>\n",
              "      <td>Barry</td>\n",
              "      <td>06-01-2018</td>\n",
              "      <td>3073</td>\n",
              "      <td>Northern Metropolitan</td>\n",
              "      <td>21650</td>\n",
              "      <td>12.0</td>\n",
              "      <td>Dar</td>\n",
              "    </tr>\n",
              "  </tbody>\n",
              "</table>\n",
              "<p>6911 rows × 13 columns</p>\n",
              "</div>\n",
              "      <button class=\"colab-df-convert\" onclick=\"convertToInteractive('df-67d6ca1f-7b19-46ac-9a37-d9cb81d09f29')\"\n",
              "              title=\"Convert this dataframe to an interactive table.\"\n",
              "              style=\"display:none;\">\n",
              "        \n",
              "  <svg xmlns=\"http://www.w3.org/2000/svg\" height=\"24px\"viewBox=\"0 0 24 24\"\n",
              "       width=\"24px\">\n",
              "    <path d=\"M0 0h24v24H0V0z\" fill=\"none\"/>\n",
              "    <path d=\"M18.56 5.44l.94 2.06.94-2.06 2.06-.94-2.06-.94-.94-2.06-.94 2.06-2.06.94zm-11 1L8.5 8.5l.94-2.06 2.06-.94-2.06-.94L8.5 2.5l-.94 2.06-2.06.94zm10 10l.94 2.06.94-2.06 2.06-.94-2.06-.94-.94-2.06-.94 2.06-2.06.94z\"/><path d=\"M17.41 7.96l-1.37-1.37c-.4-.4-.92-.59-1.43-.59-.52 0-1.04.2-1.43.59L10.3 9.45l-7.72 7.72c-.78.78-.78 2.05 0 2.83L4 21.41c.39.39.9.59 1.41.59.51 0 1.02-.2 1.41-.59l7.78-7.78 2.81-2.81c.8-.78.8-2.07 0-2.86zM5.41 20L4 18.59l7.72-7.72 1.47 1.35L5.41 20z\"/>\n",
              "  </svg>\n",
              "      </button>\n",
              "      \n",
              "  <style>\n",
              "    .colab-df-container {\n",
              "      display:flex;\n",
              "      flex-wrap:wrap;\n",
              "      gap: 12px;\n",
              "    }\n",
              "\n",
              "    .colab-df-convert {\n",
              "      background-color: #E8F0FE;\n",
              "      border: none;\n",
              "      border-radius: 50%;\n",
              "      cursor: pointer;\n",
              "      display: none;\n",
              "      fill: #1967D2;\n",
              "      height: 32px;\n",
              "      padding: 0 0 0 0;\n",
              "      width: 32px;\n",
              "    }\n",
              "\n",
              "    .colab-df-convert:hover {\n",
              "      background-color: #E2EBFA;\n",
              "      box-shadow: 0px 1px 2px rgba(60, 64, 67, 0.3), 0px 1px 3px 1px rgba(60, 64, 67, 0.15);\n",
              "      fill: #174EA6;\n",
              "    }\n",
              "\n",
              "    [theme=dark] .colab-df-convert {\n",
              "      background-color: #3B4455;\n",
              "      fill: #D2E3FC;\n",
              "    }\n",
              "\n",
              "    [theme=dark] .colab-df-convert:hover {\n",
              "      background-color: #434B5C;\n",
              "      box-shadow: 0px 1px 3px 1px rgba(0, 0, 0, 0.15);\n",
              "      filter: drop-shadow(0px 1px 2px rgba(0, 0, 0, 0.3));\n",
              "      fill: #FFFFFF;\n",
              "    }\n",
              "  </style>\n",
              "\n",
              "      <script>\n",
              "        const buttonEl =\n",
              "          document.querySelector('#df-67d6ca1f-7b19-46ac-9a37-d9cb81d09f29 button.colab-df-convert');\n",
              "        buttonEl.style.display =\n",
              "          google.colab.kernel.accessAllowed ? 'block' : 'none';\n",
              "\n",
              "        async function convertToInteractive(key) {\n",
              "          const element = document.querySelector('#df-67d6ca1f-7b19-46ac-9a37-d9cb81d09f29');\n",
              "          const dataTable =\n",
              "            await google.colab.kernel.invokeFunction('convertToInteractive',\n",
              "                                                     [key], {});\n",
              "          if (!dataTable) return;\n",
              "\n",
              "          const docLinkHtml = 'Like what you see? Visit the ' +\n",
              "            '<a target=\"_blank\" href=https://colab.research.google.com/notebooks/data_table.ipynb>data table notebook</a>'\n",
              "            + ' to learn more about interactive tables.';\n",
              "          element.innerHTML = '';\n",
              "          dataTable['output_type'] = 'display_data';\n",
              "          await google.colab.output.renderOutput(dataTable, element);\n",
              "          const docLink = document.createElement('div');\n",
              "          docLink.innerHTML = docLinkHtml;\n",
              "          element.appendChild(docLink);\n",
              "        }\n",
              "      </script>\n",
              "    </div>\n",
              "  </div>\n",
              "  "
            ]
          },
          "metadata": {},
          "execution_count": 3
        }
      ]
    },
    {
      "cell_type": "markdown",
      "source": [
        "**2. Print the unique value from “SellerG” column.**"
      ],
      "metadata": {
        "id": "I51bJmwa_IhH"
      }
    },
    {
      "cell_type": "code",
      "source": [
        "df.columns"
      ],
      "metadata": {
        "colab": {
          "base_uri": "https://localhost:8080/"
        },
        "id": "yGUic-cW9p95",
        "outputId": "b7bf34a8-e681-4e9d-963c-ae81105d91b2"
      },
      "execution_count": null,
      "outputs": [
        {
          "output_type": "execute_result",
          "data": {
            "text/plain": [
              "Index(['Suburban', 'Address', 'Rooms', 'Type', 'Price', 'Method', 'SellerG',\n",
              "       'Date', 'Postcode', 'Regionname', 'Propertycount', 'Distance',\n",
              "       'CouncilArea'],\n",
              "      dtype='object')"
            ]
          },
          "metadata": {},
          "execution_count": 4
        }
      ]
    },
    {
      "cell_type": "code",
      "source": [
        "df['SellerG'].unique()"
      ],
      "metadata": {
        "colab": {
          "base_uri": "https://localhost:8080/"
        },
        "id": "iIZDec9D9qBK",
        "outputId": "51fd30f2-6ae7-454b-b1e3-8bcf3fa7fcb3"
      },
      "execution_count": null,
      "outputs": [
        {
          "output_type": "execute_result",
          "data": {
            "text/plain": [
              "array(['Jellis', 'Marshall', 'Nelson', 'Barry', 'hockingstuart', 'Cayzer',\n",
              "       'Douglas', 'Bells', 'Miles', 'Barlow', 'Hunter', 'Ray',\n",
              "       'Fletchers', 'Walshe', 'Noel', 'Philip', 'Buxton', 'Hodges',\n",
              "       'Woodards', 'Point', 'Stockdale', 'Purplebricks', 'Biggin',\n",
              "       'Village', 'Boran', 'Jas', 'Kay', 'Prof', 'YPA', 'Rombotis',\n",
              "       'Brad', 'J', 'RT', 'Garvey', 'Prowse', 'Domain', 'Sweeney',\n",
              "       'Donovan', 'Gary', \"O'Brien\", 'LJ', 'Darras', 'C21', 'Peter',\n",
              "       'Del', 'Jason', 'Bombay', 'iSell', 'Carter', 'McLennan',\n",
              "       'buyMyplace', 'Raine', 'Mason', 'Lindellas', 'Parkes', 'Caine',\n",
              "       'hockingstuart/hockingstuart', 'Morrison', 'Chisholm', 'Whiting',\n",
              "       'Harcourts', 'Love', 'Frank', 'Rendina', 'Win', 'Schroeder',\n",
              "       'Collins', 'McGrath', 'Eview', 'Aquire', 'Wilson', 'LLC', 'Roger',\n",
              "       'Darren', 'Buckingham', 'Nick', 'Prof.', 'Greg', 'Haughton',\n",
              "       'Edward', 'Iconek', \"Sotheby's\", \"Abercromby's\", 'Obrien',\n",
              "       'Grantham', 'Hoskins', 'Benchmark', 'Thomson', 'Alexkarbon',\n",
              "       'Matthew', 'RW', 'RE', 'U', 'MICM', 'Compton', 'FN', 'Westside',\n",
              "       'Considine', 'ASL', 'Reliance', 'Langwell', 'Gardiner', 'Triwest',\n",
              "       'Williams', 'Gunn&Co', 'Moonee', 'McDonald', 'Appleby',\n",
              "       'Nicholson', 'Bekdon', 'Metro', \"Grant's\", 'Melbourne', '@Realty',\n",
              "       'Ham', 'Morleys', 'Burnham', 'LITTLE', 'William', 'PRDNationwide',\n",
              "       'Max', 'Only', 'Leyton', 'Maitland', 'Lucas', 'Rounds',\n",
              "       'Millership', 'L', 'iTRAK', 'Emerson', 'People', 'Paul', 'HAR',\n",
              "       'JRW', 'Pride', 'PNJ', 'Harcourts/Biggin', 'Red', 'Area', 'Skad',\n",
              "       'Finders', 'Home', 'The', 'Elite', 'Fletchers/Fletchers',\n",
              "       'Leeburn', 'Benlor', 'Wyndham', 'Upside', 'R&H', 'Tim', 'Besser',\n",
              "       'Branon', 'Property', 'Savoy', 'Hamilton', \"Buxton/O'Brien\",\n",
              "       'Boutique', 'Collings', 'iHomes', 'Dawson', 'David', 'Zed',\n",
              "       'Follett', 'Exchanged', 'Rexhepi', 'W.B.', 'Scott', 'Munn',\n",
              "       'Cocoon', 'United', 'GL', 'Ruralco', 'voglwalpole', 'Hall',\n",
              "       'REMAX', 'hockingstuart/Sweeney', 'Ash', 'Gold', 'Hill', 'Ryder',\n",
              "       'hockingstuart/Biggin', 'Bayside', 'Janice', 'Harrington', 'R',\n",
              "       'G&H', 'Charlton', 'Commercial', 'PSP', 'Flannagan', 'Geoff',\n",
              "       'S&L', 'hockingstuart/Cayzer', 'Leading', 'Real', 'OBrien', 'LJH',\n",
              "       'Le', 'Nguyen', 'Rodney', 'Unity', 'Steller', 'Jim', 'Ace', 'JMRE',\n",
              "       'Castran', 'WeSell', 'M.J', 'iProperty', 'Hayeswinckle',\n",
              "       'Nardella', 'Brace', 'Century', 'Ross', 'Rayner', 'Asset',\n",
              "       'Allens', 'Zahn', 'Sanctuary', 'Dingle', 'VICPROP', 'Crane', 'One',\n",
              "       'Kaye', 'Community', 'Meadows', 'Just', 'McNaughton', 'Cooper',\n",
              "       'Black', 'North', 'Naison', 'Reach', 'Homes', 'New', \"D'Aprano\",\n",
              "       'Len', 'Leased', 'Blue', 'hockingstuart/Village', 'Ascend', 'Ken',\n",
              "       'Buxton/Buxton', 'Daniel', 'Inner', 'Maddison', 'Peake',\n",
              "       \"Tiernan's\", 'Re', 'Professionals', 'Holland', 'Avion', 'Reed',\n",
              "       'hockingstuart/Barry', 'K.R.Peters', 'Christopher', 'Joseph',\n",
              "       'Belmar', 'Pagan', 'Galldon', 'Beller', 'Dixon', 'Abley',\n",
              "       'Chambers', 'Marvelli', 'Kennedy', 'Harrison', 'Trimson', 'Gross',\n",
              "       'Parkinson', 'Johnston', 'hockingstuart/Harcourts', 'Bowman',\n",
              "       'Sell', 'Charter', 'MJ', 'Hodges/Hodges', 'Buxton/Marshall', 'A',\n",
              "       'Collin', 'Watermark', 'Matrix', 'Calder', 'Thomas', 'Shape',\n",
              "       'Spencer'], dtype=object)"
            ]
          },
          "metadata": {},
          "execution_count": 5
        }
      ]
    },
    {
      "cell_type": "markdown",
      "source": [
        "**3. Print the value count of the region name.**"
      ],
      "metadata": {
        "id": "UC84Jnq6_h59"
      }
    },
    {
      "cell_type": "code",
      "source": [
        "df[\"Regionname\"].value_counts()"
      ],
      "metadata": {
        "colab": {
          "base_uri": "https://localhost:8080/"
        },
        "id": "y_cjk9k09qCt",
        "outputId": "d5176aac-09cf-4f8a-e540-c09519a230d3"
      },
      "execution_count": null,
      "outputs": [
        {
          "output_type": "execute_result",
          "data": {
            "text/plain": [
              "Southern Metropolitan         2682\n",
              "Northern Metropolitan         2354\n",
              "Western Metropolitan          1630\n",
              "Eastern Metropolitan          1461\n",
              "South-Eastern Metropolitan     709\n",
              "Eastern Victoria                76\n",
              "Northern Victoria               75\n",
              "Western Victoria                38\n",
              "Name: Regionname, dtype: int64"
            ]
          },
          "metadata": {},
          "execution_count": 6
        }
      ]
    },
    {
      "cell_type": "markdown",
      "source": [
        "**4. How many unique value in postcode column?**"
      ],
      "metadata": {
        "id": "Ye9hl6U9qqMY"
      }
    },
    {
      "cell_type": "code",
      "source": [
        "df['Postcode'].nunique()"
      ],
      "metadata": {
        "id": "3KDzJgkpAQsh",
        "colab": {
          "base_uri": "https://localhost:8080/"
        },
        "outputId": "582145af-dda5-48e9-c526-ed9b83a356e7"
      },
      "execution_count": null,
      "outputs": [
        {
          "output_type": "execute_result",
          "data": {
            "text/plain": [
              "200"
            ]
          },
          "metadata": {},
          "execution_count": 7
        }
      ]
    },
    {
      "cell_type": "markdown",
      "source": [
        "**5. Number of house in each Suburban value?**"
      ],
      "metadata": {
        "id": "l0UKeC00rb2f"
      }
    },
    {
      "cell_type": "code",
      "source": [
        "df['Type'].unique()"
      ],
      "metadata": {
        "id": "KUP_UjGWAQo5",
        "colab": {
          "base_uri": "https://localhost:8080/"
        },
        "outputId": "e3519163-9acb-4bd5-ab62-213a44bd8af2"
      },
      "execution_count": null,
      "outputs": [
        {
          "output_type": "execute_result",
          "data": {
            "text/plain": [
              "array(['h', 't', 'u'], dtype=object)"
            ]
          },
          "metadata": {},
          "execution_count": 8
        }
      ]
    },
    {
      "cell_type": "code",
      "source": [
        "df[df['Type']=='h'].groupby('Suburban')['Suburban'].count().to_frame()"
      ],
      "metadata": {
        "id": "q_6aMmp0AQm_",
        "colab": {
          "base_uri": "https://localhost:8080/",
          "height": 455
        },
        "outputId": "c800b010-3a01-4265-e79a-b606def0b386"
      },
      "execution_count": null,
      "outputs": [
        {
          "output_type": "execute_result",
          "data": {
            "text/plain": [
              "              Suburban\n",
              "Suburban              \n",
              "Abbotsford          12\n",
              "Aberfeldie           8\n",
              "Airport West        26\n",
              "Albanvale            7\n",
              "Albert Park         27\n",
              "...                ...\n",
              "Wollert             19\n",
              "Wyndham Vale        18\n",
              "Yallambie            8\n",
              "Yan Yean             1\n",
              "Yarraville          65\n",
              "\n",
              "[324 rows x 1 columns]"
            ],
            "text/html": [
              "\n",
              "  <div id=\"df-58d729e1-4bfe-4401-9f28-4fc25262b2a2\">\n",
              "    <div class=\"colab-df-container\">\n",
              "      <div>\n",
              "<style scoped>\n",
              "    .dataframe tbody tr th:only-of-type {\n",
              "        vertical-align: middle;\n",
              "    }\n",
              "\n",
              "    .dataframe tbody tr th {\n",
              "        vertical-align: top;\n",
              "    }\n",
              "\n",
              "    .dataframe thead th {\n",
              "        text-align: right;\n",
              "    }\n",
              "</style>\n",
              "<table border=\"1\" class=\"dataframe\">\n",
              "  <thead>\n",
              "    <tr style=\"text-align: right;\">\n",
              "      <th></th>\n",
              "      <th>Suburban</th>\n",
              "    </tr>\n",
              "    <tr>\n",
              "      <th>Suburban</th>\n",
              "      <th></th>\n",
              "    </tr>\n",
              "  </thead>\n",
              "  <tbody>\n",
              "    <tr>\n",
              "      <th>Abbotsford</th>\n",
              "      <td>12</td>\n",
              "    </tr>\n",
              "    <tr>\n",
              "      <th>Aberfeldie</th>\n",
              "      <td>8</td>\n",
              "    </tr>\n",
              "    <tr>\n",
              "      <th>Airport West</th>\n",
              "      <td>26</td>\n",
              "    </tr>\n",
              "    <tr>\n",
              "      <th>Albanvale</th>\n",
              "      <td>7</td>\n",
              "    </tr>\n",
              "    <tr>\n",
              "      <th>Albert Park</th>\n",
              "      <td>27</td>\n",
              "    </tr>\n",
              "    <tr>\n",
              "      <th>...</th>\n",
              "      <td>...</td>\n",
              "    </tr>\n",
              "    <tr>\n",
              "      <th>Wollert</th>\n",
              "      <td>19</td>\n",
              "    </tr>\n",
              "    <tr>\n",
              "      <th>Wyndham Vale</th>\n",
              "      <td>18</td>\n",
              "    </tr>\n",
              "    <tr>\n",
              "      <th>Yallambie</th>\n",
              "      <td>8</td>\n",
              "    </tr>\n",
              "    <tr>\n",
              "      <th>Yan Yean</th>\n",
              "      <td>1</td>\n",
              "    </tr>\n",
              "    <tr>\n",
              "      <th>Yarraville</th>\n",
              "      <td>65</td>\n",
              "    </tr>\n",
              "  </tbody>\n",
              "</table>\n",
              "<p>324 rows × 1 columns</p>\n",
              "</div>\n",
              "      <button class=\"colab-df-convert\" onclick=\"convertToInteractive('df-58d729e1-4bfe-4401-9f28-4fc25262b2a2')\"\n",
              "              title=\"Convert this dataframe to an interactive table.\"\n",
              "              style=\"display:none;\">\n",
              "        \n",
              "  <svg xmlns=\"http://www.w3.org/2000/svg\" height=\"24px\"viewBox=\"0 0 24 24\"\n",
              "       width=\"24px\">\n",
              "    <path d=\"M0 0h24v24H0V0z\" fill=\"none\"/>\n",
              "    <path d=\"M18.56 5.44l.94 2.06.94-2.06 2.06-.94-2.06-.94-.94-2.06-.94 2.06-2.06.94zm-11 1L8.5 8.5l.94-2.06 2.06-.94-2.06-.94L8.5 2.5l-.94 2.06-2.06.94zm10 10l.94 2.06.94-2.06 2.06-.94-2.06-.94-.94-2.06-.94 2.06-2.06.94z\"/><path d=\"M17.41 7.96l-1.37-1.37c-.4-.4-.92-.59-1.43-.59-.52 0-1.04.2-1.43.59L10.3 9.45l-7.72 7.72c-.78.78-.78 2.05 0 2.83L4 21.41c.39.39.9.59 1.41.59.51 0 1.02-.2 1.41-.59l7.78-7.78 2.81-2.81c.8-.78.8-2.07 0-2.86zM5.41 20L4 18.59l7.72-7.72 1.47 1.35L5.41 20z\"/>\n",
              "  </svg>\n",
              "      </button>\n",
              "      \n",
              "  <style>\n",
              "    .colab-df-container {\n",
              "      display:flex;\n",
              "      flex-wrap:wrap;\n",
              "      gap: 12px;\n",
              "    }\n",
              "\n",
              "    .colab-df-convert {\n",
              "      background-color: #E8F0FE;\n",
              "      border: none;\n",
              "      border-radius: 50%;\n",
              "      cursor: pointer;\n",
              "      display: none;\n",
              "      fill: #1967D2;\n",
              "      height: 32px;\n",
              "      padding: 0 0 0 0;\n",
              "      width: 32px;\n",
              "    }\n",
              "\n",
              "    .colab-df-convert:hover {\n",
              "      background-color: #E2EBFA;\n",
              "      box-shadow: 0px 1px 2px rgba(60, 64, 67, 0.3), 0px 1px 3px 1px rgba(60, 64, 67, 0.15);\n",
              "      fill: #174EA6;\n",
              "    }\n",
              "\n",
              "    [theme=dark] .colab-df-convert {\n",
              "      background-color: #3B4455;\n",
              "      fill: #D2E3FC;\n",
              "    }\n",
              "\n",
              "    [theme=dark] .colab-df-convert:hover {\n",
              "      background-color: #434B5C;\n",
              "      box-shadow: 0px 1px 3px 1px rgba(0, 0, 0, 0.15);\n",
              "      filter: drop-shadow(0px 1px 2px rgba(0, 0, 0, 0.3));\n",
              "      fill: #FFFFFF;\n",
              "    }\n",
              "  </style>\n",
              "\n",
              "      <script>\n",
              "        const buttonEl =\n",
              "          document.querySelector('#df-58d729e1-4bfe-4401-9f28-4fc25262b2a2 button.colab-df-convert');\n",
              "        buttonEl.style.display =\n",
              "          google.colab.kernel.accessAllowed ? 'block' : 'none';\n",
              "\n",
              "        async function convertToInteractive(key) {\n",
              "          const element = document.querySelector('#df-58d729e1-4bfe-4401-9f28-4fc25262b2a2');\n",
              "          const dataTable =\n",
              "            await google.colab.kernel.invokeFunction('convertToInteractive',\n",
              "                                                     [key], {});\n",
              "          if (!dataTable) return;\n",
              "\n",
              "          const docLinkHtml = 'Like what you see? Visit the ' +\n",
              "            '<a target=\"_blank\" href=https://colab.research.google.com/notebooks/data_table.ipynb>data table notebook</a>'\n",
              "            + ' to learn more about interactive tables.';\n",
              "          element.innerHTML = '';\n",
              "          dataTable['output_type'] = 'display_data';\n",
              "          await google.colab.output.renderOutput(dataTable, element);\n",
              "          const docLink = document.createElement('div');\n",
              "          docLink.innerHTML = docLinkHtml;\n",
              "          element.appendChild(docLink);\n",
              "        }\n",
              "      </script>\n",
              "    </div>\n",
              "  </div>\n",
              "  "
            ]
          },
          "metadata": {},
          "execution_count": 9
        }
      ]
    },
    {
      "cell_type": "markdown",
      "source": [
        "**6. Which Suburban area 3 rooms is maximum?**"
      ],
      "metadata": {
        "id": "aat0txr2BZZJ"
      }
    },
    {
      "cell_type": "code",
      "source": [
        "x=df.groupby('Suburban')['Rooms'].max().to_frame()\n",
        "x[x['Rooms']==3]"
      ],
      "metadata": {
        "id": "V3q2aPtnAQXT",
        "colab": {
          "base_uri": "https://localhost:8080/",
          "height": 833
        },
        "outputId": "94046583-32eb-4a50-feab-b4eab13870f8"
      },
      "execution_count": null,
      "outputs": [
        {
          "output_type": "execute_result",
          "data": {
            "text/plain": [
              "                    Rooms\n",
              "Suburban                 \n",
              "Burnside                3\n",
              "Campbellfield           3\n",
              "Chelsea Heights         3\n",
              "Collingwood             3\n",
              "Cranbourne North        3\n",
              "Cranbourne West         3\n",
              "Darley                  3\n",
              "Diggers Rest            3\n",
              "Doveton                 3\n",
              "Emerald                 3\n",
              "Ferny Creek             3\n",
              "Frankston North         3\n",
              "Gisborne South          3\n",
              "Hallam                  3\n",
              "Healesville             3\n",
              "Huntingdale             3\n",
              "Lynbrook                3\n",
              "Montrose                3\n",
              "Riddells Creek          3\n",
              "Sandhurst               3\n",
              "Southbank               3\n",
              "Strathmore Heights      3\n",
              "Wallan                  3\n",
              "Yan Yean                3"
            ],
            "text/html": [
              "\n",
              "  <div id=\"df-a4d59460-07bc-4472-8dda-c2d216266455\">\n",
              "    <div class=\"colab-df-container\">\n",
              "      <div>\n",
              "<style scoped>\n",
              "    .dataframe tbody tr th:only-of-type {\n",
              "        vertical-align: middle;\n",
              "    }\n",
              "\n",
              "    .dataframe tbody tr th {\n",
              "        vertical-align: top;\n",
              "    }\n",
              "\n",
              "    .dataframe thead th {\n",
              "        text-align: right;\n",
              "    }\n",
              "</style>\n",
              "<table border=\"1\" class=\"dataframe\">\n",
              "  <thead>\n",
              "    <tr style=\"text-align: right;\">\n",
              "      <th></th>\n",
              "      <th>Rooms</th>\n",
              "    </tr>\n",
              "    <tr>\n",
              "      <th>Suburban</th>\n",
              "      <th></th>\n",
              "    </tr>\n",
              "  </thead>\n",
              "  <tbody>\n",
              "    <tr>\n",
              "      <th>Burnside</th>\n",
              "      <td>3</td>\n",
              "    </tr>\n",
              "    <tr>\n",
              "      <th>Campbellfield</th>\n",
              "      <td>3</td>\n",
              "    </tr>\n",
              "    <tr>\n",
              "      <th>Chelsea Heights</th>\n",
              "      <td>3</td>\n",
              "    </tr>\n",
              "    <tr>\n",
              "      <th>Collingwood</th>\n",
              "      <td>3</td>\n",
              "    </tr>\n",
              "    <tr>\n",
              "      <th>Cranbourne North</th>\n",
              "      <td>3</td>\n",
              "    </tr>\n",
              "    <tr>\n",
              "      <th>Cranbourne West</th>\n",
              "      <td>3</td>\n",
              "    </tr>\n",
              "    <tr>\n",
              "      <th>Darley</th>\n",
              "      <td>3</td>\n",
              "    </tr>\n",
              "    <tr>\n",
              "      <th>Diggers Rest</th>\n",
              "      <td>3</td>\n",
              "    </tr>\n",
              "    <tr>\n",
              "      <th>Doveton</th>\n",
              "      <td>3</td>\n",
              "    </tr>\n",
              "    <tr>\n",
              "      <th>Emerald</th>\n",
              "      <td>3</td>\n",
              "    </tr>\n",
              "    <tr>\n",
              "      <th>Ferny Creek</th>\n",
              "      <td>3</td>\n",
              "    </tr>\n",
              "    <tr>\n",
              "      <th>Frankston North</th>\n",
              "      <td>3</td>\n",
              "    </tr>\n",
              "    <tr>\n",
              "      <th>Gisborne South</th>\n",
              "      <td>3</td>\n",
              "    </tr>\n",
              "    <tr>\n",
              "      <th>Hallam</th>\n",
              "      <td>3</td>\n",
              "    </tr>\n",
              "    <tr>\n",
              "      <th>Healesville</th>\n",
              "      <td>3</td>\n",
              "    </tr>\n",
              "    <tr>\n",
              "      <th>Huntingdale</th>\n",
              "      <td>3</td>\n",
              "    </tr>\n",
              "    <tr>\n",
              "      <th>Lynbrook</th>\n",
              "      <td>3</td>\n",
              "    </tr>\n",
              "    <tr>\n",
              "      <th>Montrose</th>\n",
              "      <td>3</td>\n",
              "    </tr>\n",
              "    <tr>\n",
              "      <th>Riddells Creek</th>\n",
              "      <td>3</td>\n",
              "    </tr>\n",
              "    <tr>\n",
              "      <th>Sandhurst</th>\n",
              "      <td>3</td>\n",
              "    </tr>\n",
              "    <tr>\n",
              "      <th>Southbank</th>\n",
              "      <td>3</td>\n",
              "    </tr>\n",
              "    <tr>\n",
              "      <th>Strathmore Heights</th>\n",
              "      <td>3</td>\n",
              "    </tr>\n",
              "    <tr>\n",
              "      <th>Wallan</th>\n",
              "      <td>3</td>\n",
              "    </tr>\n",
              "    <tr>\n",
              "      <th>Yan Yean</th>\n",
              "      <td>3</td>\n",
              "    </tr>\n",
              "  </tbody>\n",
              "</table>\n",
              "</div>\n",
              "      <button class=\"colab-df-convert\" onclick=\"convertToInteractive('df-a4d59460-07bc-4472-8dda-c2d216266455')\"\n",
              "              title=\"Convert this dataframe to an interactive table.\"\n",
              "              style=\"display:none;\">\n",
              "        \n",
              "  <svg xmlns=\"http://www.w3.org/2000/svg\" height=\"24px\"viewBox=\"0 0 24 24\"\n",
              "       width=\"24px\">\n",
              "    <path d=\"M0 0h24v24H0V0z\" fill=\"none\"/>\n",
              "    <path d=\"M18.56 5.44l.94 2.06.94-2.06 2.06-.94-2.06-.94-.94-2.06-.94 2.06-2.06.94zm-11 1L8.5 8.5l.94-2.06 2.06-.94-2.06-.94L8.5 2.5l-.94 2.06-2.06.94zm10 10l.94 2.06.94-2.06 2.06-.94-2.06-.94-.94-2.06-.94 2.06-2.06.94z\"/><path d=\"M17.41 7.96l-1.37-1.37c-.4-.4-.92-.59-1.43-.59-.52 0-1.04.2-1.43.59L10.3 9.45l-7.72 7.72c-.78.78-.78 2.05 0 2.83L4 21.41c.39.39.9.59 1.41.59.51 0 1.02-.2 1.41-.59l7.78-7.78 2.81-2.81c.8-.78.8-2.07 0-2.86zM5.41 20L4 18.59l7.72-7.72 1.47 1.35L5.41 20z\"/>\n",
              "  </svg>\n",
              "      </button>\n",
              "      \n",
              "  <style>\n",
              "    .colab-df-container {\n",
              "      display:flex;\n",
              "      flex-wrap:wrap;\n",
              "      gap: 12px;\n",
              "    }\n",
              "\n",
              "    .colab-df-convert {\n",
              "      background-color: #E8F0FE;\n",
              "      border: none;\n",
              "      border-radius: 50%;\n",
              "      cursor: pointer;\n",
              "      display: none;\n",
              "      fill: #1967D2;\n",
              "      height: 32px;\n",
              "      padding: 0 0 0 0;\n",
              "      width: 32px;\n",
              "    }\n",
              "\n",
              "    .colab-df-convert:hover {\n",
              "      background-color: #E2EBFA;\n",
              "      box-shadow: 0px 1px 2px rgba(60, 64, 67, 0.3), 0px 1px 3px 1px rgba(60, 64, 67, 0.15);\n",
              "      fill: #174EA6;\n",
              "    }\n",
              "\n",
              "    [theme=dark] .colab-df-convert {\n",
              "      background-color: #3B4455;\n",
              "      fill: #D2E3FC;\n",
              "    }\n",
              "\n",
              "    [theme=dark] .colab-df-convert:hover {\n",
              "      background-color: #434B5C;\n",
              "      box-shadow: 0px 1px 3px 1px rgba(0, 0, 0, 0.15);\n",
              "      filter: drop-shadow(0px 1px 2px rgba(0, 0, 0, 0.3));\n",
              "      fill: #FFFFFF;\n",
              "    }\n",
              "  </style>\n",
              "\n",
              "      <script>\n",
              "        const buttonEl =\n",
              "          document.querySelector('#df-a4d59460-07bc-4472-8dda-c2d216266455 button.colab-df-convert');\n",
              "        buttonEl.style.display =\n",
              "          google.colab.kernel.accessAllowed ? 'block' : 'none';\n",
              "\n",
              "        async function convertToInteractive(key) {\n",
              "          const element = document.querySelector('#df-a4d59460-07bc-4472-8dda-c2d216266455');\n",
              "          const dataTable =\n",
              "            await google.colab.kernel.invokeFunction('convertToInteractive',\n",
              "                                                     [key], {});\n",
              "          if (!dataTable) return;\n",
              "\n",
              "          const docLinkHtml = 'Like what you see? Visit the ' +\n",
              "            '<a target=\"_blank\" href=https://colab.research.google.com/notebooks/data_table.ipynb>data table notebook</a>'\n",
              "            + ' to learn more about interactive tables.';\n",
              "          element.innerHTML = '';\n",
              "          dataTable['output_type'] = 'display_data';\n",
              "          await google.colab.output.renderOutput(dataTable, element);\n",
              "          const docLink = document.createElement('div');\n",
              "          docLink.innerHTML = docLinkHtml;\n",
              "          element.appendChild(docLink);\n",
              "        }\n",
              "      </script>\n",
              "    </div>\n",
              "  </div>\n",
              "  "
            ]
          },
          "metadata": {},
          "execution_count": 10
        }
      ]
    },
    {
      "cell_type": "markdown",
      "source": [
        "**7. Identify the address of each region's maximum-price house.**"
      ],
      "metadata": {
        "id": "VOS24fB5APly"
      }
    },
    {
      "cell_type": "code",
      "source": [
        "x=df.groupby(\"Regionname\")[\"Price\"].max().to_frame().reset_index()"
      ],
      "metadata": {
        "id": "3TzjteZQ9qGe"
      },
      "execution_count": null,
      "outputs": []
    },
    {
      "cell_type": "code",
      "source": [
        "x.iloc[0][0]"
      ],
      "metadata": {
        "colab": {
          "base_uri": "https://localhost:8080/",
          "height": 36
        },
        "id": "zjl6h5iV9qI8",
        "outputId": "49f57659-cb0a-4da8-a6d6-26e7bd4151c2"
      },
      "execution_count": null,
      "outputs": [
        {
          "output_type": "execute_result",
          "data": {
            "text/plain": [
              "'Eastern Metropolitan'"
            ],
            "application/vnd.google.colaboratory.intrinsic+json": {
              "type": "string"
            }
          },
          "metadata": {},
          "execution_count": 12
        }
      ]
    },
    {
      "cell_type": "code",
      "source": [
        "# for i in range(len(x)):\n",
        "#   print(df['Address'][(df['Regionname']==x.iloc[i][0])&(df['Price']==x.iloc[i][0])])"
      ],
      "metadata": {
        "id": "Vi7LYu149qNM"
      },
      "execution_count": null,
      "outputs": []
    },
    {
      "cell_type": "code",
      "source": [
        "idx=df.groupby([\"Regionname\"])['Price'].transform(max)==df['Price']\n",
        "df[idx][['Regionname','Price']]"
      ],
      "metadata": {
        "colab": {
          "base_uri": "https://localhost:8080/",
          "height": 300
        },
        "id": "zU9ld3Ft9qOf",
        "outputId": "a5580d72-e4c8-41ff-b61c-2c66dc156f87"
      },
      "execution_count": null,
      "outputs": [
        {
          "output_type": "execute_result",
          "data": {
            "text/plain": [
              "                      Regionname      Price\n",
              "150   South-Eastern Metropolitan  4000000.0\n",
              "1593       Southern Metropolitan  6700000.0\n",
              "3174            Eastern Victoria  1150000.0\n",
              "5250       Northern Metropolitan  4525000.0\n",
              "5412        Eastern Metropolitan  3850000.0\n",
              "5568            Western Victoria   875000.0\n",
              "7328        Western Metropolitan  3130000.0\n",
              "7462           Northern Victoria  1360000.0"
            ],
            "text/html": [
              "\n",
              "  <div id=\"df-ecc93344-712d-40ac-bc5b-55406c45f4c3\">\n",
              "    <div class=\"colab-df-container\">\n",
              "      <div>\n",
              "<style scoped>\n",
              "    .dataframe tbody tr th:only-of-type {\n",
              "        vertical-align: middle;\n",
              "    }\n",
              "\n",
              "    .dataframe tbody tr th {\n",
              "        vertical-align: top;\n",
              "    }\n",
              "\n",
              "    .dataframe thead th {\n",
              "        text-align: right;\n",
              "    }\n",
              "</style>\n",
              "<table border=\"1\" class=\"dataframe\">\n",
              "  <thead>\n",
              "    <tr style=\"text-align: right;\">\n",
              "      <th></th>\n",
              "      <th>Regionname</th>\n",
              "      <th>Price</th>\n",
              "    </tr>\n",
              "  </thead>\n",
              "  <tbody>\n",
              "    <tr>\n",
              "      <th>150</th>\n",
              "      <td>South-Eastern Metropolitan</td>\n",
              "      <td>4000000.0</td>\n",
              "    </tr>\n",
              "    <tr>\n",
              "      <th>1593</th>\n",
              "      <td>Southern Metropolitan</td>\n",
              "      <td>6700000.0</td>\n",
              "    </tr>\n",
              "    <tr>\n",
              "      <th>3174</th>\n",
              "      <td>Eastern Victoria</td>\n",
              "      <td>1150000.0</td>\n",
              "    </tr>\n",
              "    <tr>\n",
              "      <th>5250</th>\n",
              "      <td>Northern Metropolitan</td>\n",
              "      <td>4525000.0</td>\n",
              "    </tr>\n",
              "    <tr>\n",
              "      <th>5412</th>\n",
              "      <td>Eastern Metropolitan</td>\n",
              "      <td>3850000.0</td>\n",
              "    </tr>\n",
              "    <tr>\n",
              "      <th>5568</th>\n",
              "      <td>Western Victoria</td>\n",
              "      <td>875000.0</td>\n",
              "    </tr>\n",
              "    <tr>\n",
              "      <th>7328</th>\n",
              "      <td>Western Metropolitan</td>\n",
              "      <td>3130000.0</td>\n",
              "    </tr>\n",
              "    <tr>\n",
              "      <th>7462</th>\n",
              "      <td>Northern Victoria</td>\n",
              "      <td>1360000.0</td>\n",
              "    </tr>\n",
              "  </tbody>\n",
              "</table>\n",
              "</div>\n",
              "      <button class=\"colab-df-convert\" onclick=\"convertToInteractive('df-ecc93344-712d-40ac-bc5b-55406c45f4c3')\"\n",
              "              title=\"Convert this dataframe to an interactive table.\"\n",
              "              style=\"display:none;\">\n",
              "        \n",
              "  <svg xmlns=\"http://www.w3.org/2000/svg\" height=\"24px\"viewBox=\"0 0 24 24\"\n",
              "       width=\"24px\">\n",
              "    <path d=\"M0 0h24v24H0V0z\" fill=\"none\"/>\n",
              "    <path d=\"M18.56 5.44l.94 2.06.94-2.06 2.06-.94-2.06-.94-.94-2.06-.94 2.06-2.06.94zm-11 1L8.5 8.5l.94-2.06 2.06-.94-2.06-.94L8.5 2.5l-.94 2.06-2.06.94zm10 10l.94 2.06.94-2.06 2.06-.94-2.06-.94-.94-2.06-.94 2.06-2.06.94z\"/><path d=\"M17.41 7.96l-1.37-1.37c-.4-.4-.92-.59-1.43-.59-.52 0-1.04.2-1.43.59L10.3 9.45l-7.72 7.72c-.78.78-.78 2.05 0 2.83L4 21.41c.39.39.9.59 1.41.59.51 0 1.02-.2 1.41-.59l7.78-7.78 2.81-2.81c.8-.78.8-2.07 0-2.86zM5.41 20L4 18.59l7.72-7.72 1.47 1.35L5.41 20z\"/>\n",
              "  </svg>\n",
              "      </button>\n",
              "      \n",
              "  <style>\n",
              "    .colab-df-container {\n",
              "      display:flex;\n",
              "      flex-wrap:wrap;\n",
              "      gap: 12px;\n",
              "    }\n",
              "\n",
              "    .colab-df-convert {\n",
              "      background-color: #E8F0FE;\n",
              "      border: none;\n",
              "      border-radius: 50%;\n",
              "      cursor: pointer;\n",
              "      display: none;\n",
              "      fill: #1967D2;\n",
              "      height: 32px;\n",
              "      padding: 0 0 0 0;\n",
              "      width: 32px;\n",
              "    }\n",
              "\n",
              "    .colab-df-convert:hover {\n",
              "      background-color: #E2EBFA;\n",
              "      box-shadow: 0px 1px 2px rgba(60, 64, 67, 0.3), 0px 1px 3px 1px rgba(60, 64, 67, 0.15);\n",
              "      fill: #174EA6;\n",
              "    }\n",
              "\n",
              "    [theme=dark] .colab-df-convert {\n",
              "      background-color: #3B4455;\n",
              "      fill: #D2E3FC;\n",
              "    }\n",
              "\n",
              "    [theme=dark] .colab-df-convert:hover {\n",
              "      background-color: #434B5C;\n",
              "      box-shadow: 0px 1px 3px 1px rgba(0, 0, 0, 0.15);\n",
              "      filter: drop-shadow(0px 1px 2px rgba(0, 0, 0, 0.3));\n",
              "      fill: #FFFFFF;\n",
              "    }\n",
              "  </style>\n",
              "\n",
              "      <script>\n",
              "        const buttonEl =\n",
              "          document.querySelector('#df-ecc93344-712d-40ac-bc5b-55406c45f4c3 button.colab-df-convert');\n",
              "        buttonEl.style.display =\n",
              "          google.colab.kernel.accessAllowed ? 'block' : 'none';\n",
              "\n",
              "        async function convertToInteractive(key) {\n",
              "          const element = document.querySelector('#df-ecc93344-712d-40ac-bc5b-55406c45f4c3');\n",
              "          const dataTable =\n",
              "            await google.colab.kernel.invokeFunction('convertToInteractive',\n",
              "                                                     [key], {});\n",
              "          if (!dataTable) return;\n",
              "\n",
              "          const docLinkHtml = 'Like what you see? Visit the ' +\n",
              "            '<a target=\"_blank\" href=https://colab.research.google.com/notebooks/data_table.ipynb>data table notebook</a>'\n",
              "            + ' to learn more about interactive tables.';\n",
              "          element.innerHTML = '';\n",
              "          dataTable['output_type'] = 'display_data';\n",
              "          await google.colab.output.renderOutput(dataTable, element);\n",
              "          const docLink = document.createElement('div');\n",
              "          docLink.innerHTML = docLinkHtml;\n",
              "          element.appendChild(docLink);\n",
              "        }\n",
              "      </script>\n",
              "    </div>\n",
              "  </div>\n",
              "  "
            ]
          },
          "metadata": {},
          "execution_count": 13
        }
      ]
    },
    {
      "cell_type": "markdown",
      "source": [
        "**8. What is the minimum, maximum, and average price of 2 rooms house?**"
      ],
      "metadata": {
        "id": "tFr4xKycETqJ"
      }
    },
    {
      "cell_type": "code",
      "source": [
        "df[df['Rooms']==2]['Price'].agg(['min','max','mean'])"
      ],
      "metadata": {
        "colab": {
          "base_uri": "https://localhost:8080/"
        },
        "id": "GGggMphT9qSJ",
        "outputId": "3c4c0668-bd0d-4026-a6a9-28e6791831e3"
      },
      "execution_count": null,
      "outputs": [
        {
          "output_type": "execute_result",
          "data": {
            "text/plain": [
              "min     2.550000e+05\n",
              "max     4.800000e+06\n",
              "mean    7.719517e+05\n",
              "Name: Price, dtype: float64"
            ]
          },
          "metadata": {},
          "execution_count": 14
        }
      ]
    },
    {
      "cell_type": "code",
      "source": [
        "df[df['Rooms']==2].agg({'Price':['min','max','mean']})"
      ],
      "metadata": {
        "colab": {
          "base_uri": "https://localhost:8080/",
          "height": 143
        },
        "id": "00Lq_1xf9qUY",
        "outputId": "d1625e5f-6393-420e-e3d3-0d30220c447e"
      },
      "execution_count": null,
      "outputs": [
        {
          "output_type": "execute_result",
          "data": {
            "text/plain": [
              "             Price\n",
              "min   2.550000e+05\n",
              "max   4.800000e+06\n",
              "mean  7.719517e+05"
            ],
            "text/html": [
              "\n",
              "  <div id=\"df-2404d605-cedc-4dd8-bf8e-1b1bce08a37a\">\n",
              "    <div class=\"colab-df-container\">\n",
              "      <div>\n",
              "<style scoped>\n",
              "    .dataframe tbody tr th:only-of-type {\n",
              "        vertical-align: middle;\n",
              "    }\n",
              "\n",
              "    .dataframe tbody tr th {\n",
              "        vertical-align: top;\n",
              "    }\n",
              "\n",
              "    .dataframe thead th {\n",
              "        text-align: right;\n",
              "    }\n",
              "</style>\n",
              "<table border=\"1\" class=\"dataframe\">\n",
              "  <thead>\n",
              "    <tr style=\"text-align: right;\">\n",
              "      <th></th>\n",
              "      <th>Price</th>\n",
              "    </tr>\n",
              "  </thead>\n",
              "  <tbody>\n",
              "    <tr>\n",
              "      <th>min</th>\n",
              "      <td>2.550000e+05</td>\n",
              "    </tr>\n",
              "    <tr>\n",
              "      <th>max</th>\n",
              "      <td>4.800000e+06</td>\n",
              "    </tr>\n",
              "    <tr>\n",
              "      <th>mean</th>\n",
              "      <td>7.719517e+05</td>\n",
              "    </tr>\n",
              "  </tbody>\n",
              "</table>\n",
              "</div>\n",
              "      <button class=\"colab-df-convert\" onclick=\"convertToInteractive('df-2404d605-cedc-4dd8-bf8e-1b1bce08a37a')\"\n",
              "              title=\"Convert this dataframe to an interactive table.\"\n",
              "              style=\"display:none;\">\n",
              "        \n",
              "  <svg xmlns=\"http://www.w3.org/2000/svg\" height=\"24px\"viewBox=\"0 0 24 24\"\n",
              "       width=\"24px\">\n",
              "    <path d=\"M0 0h24v24H0V0z\" fill=\"none\"/>\n",
              "    <path d=\"M18.56 5.44l.94 2.06.94-2.06 2.06-.94-2.06-.94-.94-2.06-.94 2.06-2.06.94zm-11 1L8.5 8.5l.94-2.06 2.06-.94-2.06-.94L8.5 2.5l-.94 2.06-2.06.94zm10 10l.94 2.06.94-2.06 2.06-.94-2.06-.94-.94-2.06-.94 2.06-2.06.94z\"/><path d=\"M17.41 7.96l-1.37-1.37c-.4-.4-.92-.59-1.43-.59-.52 0-1.04.2-1.43.59L10.3 9.45l-7.72 7.72c-.78.78-.78 2.05 0 2.83L4 21.41c.39.39.9.59 1.41.59.51 0 1.02-.2 1.41-.59l7.78-7.78 2.81-2.81c.8-.78.8-2.07 0-2.86zM5.41 20L4 18.59l7.72-7.72 1.47 1.35L5.41 20z\"/>\n",
              "  </svg>\n",
              "      </button>\n",
              "      \n",
              "  <style>\n",
              "    .colab-df-container {\n",
              "      display:flex;\n",
              "      flex-wrap:wrap;\n",
              "      gap: 12px;\n",
              "    }\n",
              "\n",
              "    .colab-df-convert {\n",
              "      background-color: #E8F0FE;\n",
              "      border: none;\n",
              "      border-radius: 50%;\n",
              "      cursor: pointer;\n",
              "      display: none;\n",
              "      fill: #1967D2;\n",
              "      height: 32px;\n",
              "      padding: 0 0 0 0;\n",
              "      width: 32px;\n",
              "    }\n",
              "\n",
              "    .colab-df-convert:hover {\n",
              "      background-color: #E2EBFA;\n",
              "      box-shadow: 0px 1px 2px rgba(60, 64, 67, 0.3), 0px 1px 3px 1px rgba(60, 64, 67, 0.15);\n",
              "      fill: #174EA6;\n",
              "    }\n",
              "\n",
              "    [theme=dark] .colab-df-convert {\n",
              "      background-color: #3B4455;\n",
              "      fill: #D2E3FC;\n",
              "    }\n",
              "\n",
              "    [theme=dark] .colab-df-convert:hover {\n",
              "      background-color: #434B5C;\n",
              "      box-shadow: 0px 1px 3px 1px rgba(0, 0, 0, 0.15);\n",
              "      filter: drop-shadow(0px 1px 2px rgba(0, 0, 0, 0.3));\n",
              "      fill: #FFFFFF;\n",
              "    }\n",
              "  </style>\n",
              "\n",
              "      <script>\n",
              "        const buttonEl =\n",
              "          document.querySelector('#df-2404d605-cedc-4dd8-bf8e-1b1bce08a37a button.colab-df-convert');\n",
              "        buttonEl.style.display =\n",
              "          google.colab.kernel.accessAllowed ? 'block' : 'none';\n",
              "\n",
              "        async function convertToInteractive(key) {\n",
              "          const element = document.querySelector('#df-2404d605-cedc-4dd8-bf8e-1b1bce08a37a');\n",
              "          const dataTable =\n",
              "            await google.colab.kernel.invokeFunction('convertToInteractive',\n",
              "                                                     [key], {});\n",
              "          if (!dataTable) return;\n",
              "\n",
              "          const docLinkHtml = 'Like what you see? Visit the ' +\n",
              "            '<a target=\"_blank\" href=https://colab.research.google.com/notebooks/data_table.ipynb>data table notebook</a>'\n",
              "            + ' to learn more about interactive tables.';\n",
              "          element.innerHTML = '';\n",
              "          dataTable['output_type'] = 'display_data';\n",
              "          await google.colab.output.renderOutput(dataTable, element);\n",
              "          const docLink = document.createElement('div');\n",
              "          docLink.innerHTML = docLinkHtml;\n",
              "          element.appendChild(docLink);\n",
              "        }\n",
              "      </script>\n",
              "    </div>\n",
              "  </div>\n",
              "  "
            ]
          },
          "metadata": {},
          "execution_count": 15
        }
      ]
    },
    {
      "cell_type": "markdown",
      "source": [
        "**9. Convert the price column value to float.**\n"
      ],
      "metadata": {
        "id": "V8Ex1a6YfBwI"
      }
    },
    {
      "cell_type": "code",
      "source": [
        "df['Price'].dtypes"
      ],
      "metadata": {
        "colab": {
          "base_uri": "https://localhost:8080/"
        },
        "id": "rUqkC-i49qX1",
        "outputId": "f0fd4a1c-a9b3-4822-cec0-2179a72ef780"
      },
      "execution_count": null,
      "outputs": [
        {
          "output_type": "execute_result",
          "data": {
            "text/plain": [
              "dtype('float64')"
            ]
          },
          "metadata": {},
          "execution_count": 16
        }
      ]
    },
    {
      "cell_type": "markdown",
      "source": [
        "**10. Create a pivot table of the region name and council area and count the number of houses are present.**"
      ],
      "metadata": {
        "id": "B5cmEx8IFDgO"
      }
    },
    {
      "cell_type": "code",
      "source": [
        "df.columns"
      ],
      "metadata": {
        "colab": {
          "base_uri": "https://localhost:8080/"
        },
        "id": "xDWSviXFfb14",
        "outputId": "55067fe7-6466-498f-d31f-90cd2bed6f79"
      },
      "execution_count": null,
      "outputs": [
        {
          "output_type": "execute_result",
          "data": {
            "text/plain": [
              "Index(['Suburban', 'Address', 'Rooms', 'Type', 'Price', 'Method', 'SellerG',\n",
              "       'Date', 'Postcode', 'Regionname', 'Propertycount', 'Distance',\n",
              "       'CouncilArea'],\n",
              "      dtype='object')"
            ]
          },
          "metadata": {},
          "execution_count": 17
        }
      ]
    },
    {
      "cell_type": "code",
      "source": [
        "pd.pivot_table(df[df['Type']==\"h\"],values='CouncilArea',index='Regionname',aggfunc=['count'])"
      ],
      "metadata": {
        "id": "cV_Ul5y49qZO",
        "colab": {
          "base_uri": "https://localhost:8080/",
          "height": 363
        },
        "outputId": "2d3bb998-ee1a-4505-91c0-0d49d4292455"
      },
      "execution_count": null,
      "outputs": [
        {
          "output_type": "execute_result",
          "data": {
            "text/plain": [
              "                                 count\n",
              "                           CouncilArea\n",
              "Regionname                            \n",
              "Eastern Metropolitan              1139\n",
              "Eastern Victoria                    73\n",
              "Northern Metropolitan             1706\n",
              "Northern Victoria                   75\n",
              "South-Eastern Metropolitan         544\n",
              "Southern Metropolitan             1568\n",
              "Western Metropolitan              1318\n",
              "Western Victoria                    36"
            ],
            "text/html": [
              "\n",
              "  <div id=\"df-5180af1d-cb96-4398-987d-70c56afd5d2e\">\n",
              "    <div class=\"colab-df-container\">\n",
              "      <div>\n",
              "<style scoped>\n",
              "    .dataframe tbody tr th:only-of-type {\n",
              "        vertical-align: middle;\n",
              "    }\n",
              "\n",
              "    .dataframe tbody tr th {\n",
              "        vertical-align: top;\n",
              "    }\n",
              "\n",
              "    .dataframe thead tr th {\n",
              "        text-align: left;\n",
              "    }\n",
              "\n",
              "    .dataframe thead tr:last-of-type th {\n",
              "        text-align: right;\n",
              "    }\n",
              "</style>\n",
              "<table border=\"1\" class=\"dataframe\">\n",
              "  <thead>\n",
              "    <tr>\n",
              "      <th></th>\n",
              "      <th>count</th>\n",
              "    </tr>\n",
              "    <tr>\n",
              "      <th></th>\n",
              "      <th>CouncilArea</th>\n",
              "    </tr>\n",
              "    <tr>\n",
              "      <th>Regionname</th>\n",
              "      <th></th>\n",
              "    </tr>\n",
              "  </thead>\n",
              "  <tbody>\n",
              "    <tr>\n",
              "      <th>Eastern Metropolitan</th>\n",
              "      <td>1139</td>\n",
              "    </tr>\n",
              "    <tr>\n",
              "      <th>Eastern Victoria</th>\n",
              "      <td>73</td>\n",
              "    </tr>\n",
              "    <tr>\n",
              "      <th>Northern Metropolitan</th>\n",
              "      <td>1706</td>\n",
              "    </tr>\n",
              "    <tr>\n",
              "      <th>Northern Victoria</th>\n",
              "      <td>75</td>\n",
              "    </tr>\n",
              "    <tr>\n",
              "      <th>South-Eastern Metropolitan</th>\n",
              "      <td>544</td>\n",
              "    </tr>\n",
              "    <tr>\n",
              "      <th>Southern Metropolitan</th>\n",
              "      <td>1568</td>\n",
              "    </tr>\n",
              "    <tr>\n",
              "      <th>Western Metropolitan</th>\n",
              "      <td>1318</td>\n",
              "    </tr>\n",
              "    <tr>\n",
              "      <th>Western Victoria</th>\n",
              "      <td>36</td>\n",
              "    </tr>\n",
              "  </tbody>\n",
              "</table>\n",
              "</div>\n",
              "      <button class=\"colab-df-convert\" onclick=\"convertToInteractive('df-5180af1d-cb96-4398-987d-70c56afd5d2e')\"\n",
              "              title=\"Convert this dataframe to an interactive table.\"\n",
              "              style=\"display:none;\">\n",
              "        \n",
              "  <svg xmlns=\"http://www.w3.org/2000/svg\" height=\"24px\"viewBox=\"0 0 24 24\"\n",
              "       width=\"24px\">\n",
              "    <path d=\"M0 0h24v24H0V0z\" fill=\"none\"/>\n",
              "    <path d=\"M18.56 5.44l.94 2.06.94-2.06 2.06-.94-2.06-.94-.94-2.06-.94 2.06-2.06.94zm-11 1L8.5 8.5l.94-2.06 2.06-.94-2.06-.94L8.5 2.5l-.94 2.06-2.06.94zm10 10l.94 2.06.94-2.06 2.06-.94-2.06-.94-.94-2.06-.94 2.06-2.06.94z\"/><path d=\"M17.41 7.96l-1.37-1.37c-.4-.4-.92-.59-1.43-.59-.52 0-1.04.2-1.43.59L10.3 9.45l-7.72 7.72c-.78.78-.78 2.05 0 2.83L4 21.41c.39.39.9.59 1.41.59.51 0 1.02-.2 1.41-.59l7.78-7.78 2.81-2.81c.8-.78.8-2.07 0-2.86zM5.41 20L4 18.59l7.72-7.72 1.47 1.35L5.41 20z\"/>\n",
              "  </svg>\n",
              "      </button>\n",
              "      \n",
              "  <style>\n",
              "    .colab-df-container {\n",
              "      display:flex;\n",
              "      flex-wrap:wrap;\n",
              "      gap: 12px;\n",
              "    }\n",
              "\n",
              "    .colab-df-convert {\n",
              "      background-color: #E8F0FE;\n",
              "      border: none;\n",
              "      border-radius: 50%;\n",
              "      cursor: pointer;\n",
              "      display: none;\n",
              "      fill: #1967D2;\n",
              "      height: 32px;\n",
              "      padding: 0 0 0 0;\n",
              "      width: 32px;\n",
              "    }\n",
              "\n",
              "    .colab-df-convert:hover {\n",
              "      background-color: #E2EBFA;\n",
              "      box-shadow: 0px 1px 2px rgba(60, 64, 67, 0.3), 0px 1px 3px 1px rgba(60, 64, 67, 0.15);\n",
              "      fill: #174EA6;\n",
              "    }\n",
              "\n",
              "    [theme=dark] .colab-df-convert {\n",
              "      background-color: #3B4455;\n",
              "      fill: #D2E3FC;\n",
              "    }\n",
              "\n",
              "    [theme=dark] .colab-df-convert:hover {\n",
              "      background-color: #434B5C;\n",
              "      box-shadow: 0px 1px 3px 1px rgba(0, 0, 0, 0.15);\n",
              "      filter: drop-shadow(0px 1px 2px rgba(0, 0, 0, 0.3));\n",
              "      fill: #FFFFFF;\n",
              "    }\n",
              "  </style>\n",
              "\n",
              "      <script>\n",
              "        const buttonEl =\n",
              "          document.querySelector('#df-5180af1d-cb96-4398-987d-70c56afd5d2e button.colab-df-convert');\n",
              "        buttonEl.style.display =\n",
              "          google.colab.kernel.accessAllowed ? 'block' : 'none';\n",
              "\n",
              "        async function convertToInteractive(key) {\n",
              "          const element = document.querySelector('#df-5180af1d-cb96-4398-987d-70c56afd5d2e');\n",
              "          const dataTable =\n",
              "            await google.colab.kernel.invokeFunction('convertToInteractive',\n",
              "                                                     [key], {});\n",
              "          if (!dataTable) return;\n",
              "\n",
              "          const docLinkHtml = 'Like what you see? Visit the ' +\n",
              "            '<a target=\"_blank\" href=https://colab.research.google.com/notebooks/data_table.ipynb>data table notebook</a>'\n",
              "            + ' to learn more about interactive tables.';\n",
              "          element.innerHTML = '';\n",
              "          dataTable['output_type'] = 'display_data';\n",
              "          await google.colab.output.renderOutput(dataTable, element);\n",
              "          const docLink = document.createElement('div');\n",
              "          docLink.innerHTML = docLinkHtml;\n",
              "          element.appendChild(docLink);\n",
              "        }\n",
              "      </script>\n",
              "    </div>\n",
              "  </div>\n",
              "  "
            ]
          },
          "metadata": {},
          "execution_count": 18
        }
      ]
    },
    {
      "cell_type": "markdown",
      "source": [
        "**11. Create a pivot table of the region name and postcode and count the number of houses present.**"
      ],
      "metadata": {
        "id": "hXLDeUNTorE6"
      }
    },
    {
      "cell_type": "code",
      "source": [
        "pd.pivot_table(df[df['Type']==\"h\"],values='Postcode',index='Regionname',aggfunc=['count'])"
      ],
      "metadata": {
        "id": "xx_dtEG79qc9",
        "colab": {
          "base_uri": "https://localhost:8080/",
          "height": 363
        },
        "outputId": "ac6130c5-663f-4ae4-a96f-02e77ba892a8"
      },
      "execution_count": null,
      "outputs": [
        {
          "output_type": "execute_result",
          "data": {
            "text/plain": [
              "                              count\n",
              "                           Postcode\n",
              "Regionname                         \n",
              "Eastern Metropolitan           1139\n",
              "Eastern Victoria                 73\n",
              "Northern Metropolitan          1706\n",
              "Northern Victoria                75\n",
              "South-Eastern Metropolitan      544\n",
              "Southern Metropolitan          1568\n",
              "Western Metropolitan           1318\n",
              "Western Victoria                 36"
            ],
            "text/html": [
              "\n",
              "  <div id=\"df-fad5beee-1308-4fd0-bdb1-cccb6c44d8db\">\n",
              "    <div class=\"colab-df-container\">\n",
              "      <div>\n",
              "<style scoped>\n",
              "    .dataframe tbody tr th:only-of-type {\n",
              "        vertical-align: middle;\n",
              "    }\n",
              "\n",
              "    .dataframe tbody tr th {\n",
              "        vertical-align: top;\n",
              "    }\n",
              "\n",
              "    .dataframe thead tr th {\n",
              "        text-align: left;\n",
              "    }\n",
              "\n",
              "    .dataframe thead tr:last-of-type th {\n",
              "        text-align: right;\n",
              "    }\n",
              "</style>\n",
              "<table border=\"1\" class=\"dataframe\">\n",
              "  <thead>\n",
              "    <tr>\n",
              "      <th></th>\n",
              "      <th>count</th>\n",
              "    </tr>\n",
              "    <tr>\n",
              "      <th></th>\n",
              "      <th>Postcode</th>\n",
              "    </tr>\n",
              "    <tr>\n",
              "      <th>Regionname</th>\n",
              "      <th></th>\n",
              "    </tr>\n",
              "  </thead>\n",
              "  <tbody>\n",
              "    <tr>\n",
              "      <th>Eastern Metropolitan</th>\n",
              "      <td>1139</td>\n",
              "    </tr>\n",
              "    <tr>\n",
              "      <th>Eastern Victoria</th>\n",
              "      <td>73</td>\n",
              "    </tr>\n",
              "    <tr>\n",
              "      <th>Northern Metropolitan</th>\n",
              "      <td>1706</td>\n",
              "    </tr>\n",
              "    <tr>\n",
              "      <th>Northern Victoria</th>\n",
              "      <td>75</td>\n",
              "    </tr>\n",
              "    <tr>\n",
              "      <th>South-Eastern Metropolitan</th>\n",
              "      <td>544</td>\n",
              "    </tr>\n",
              "    <tr>\n",
              "      <th>Southern Metropolitan</th>\n",
              "      <td>1568</td>\n",
              "    </tr>\n",
              "    <tr>\n",
              "      <th>Western Metropolitan</th>\n",
              "      <td>1318</td>\n",
              "    </tr>\n",
              "    <tr>\n",
              "      <th>Western Victoria</th>\n",
              "      <td>36</td>\n",
              "    </tr>\n",
              "  </tbody>\n",
              "</table>\n",
              "</div>\n",
              "      <button class=\"colab-df-convert\" onclick=\"convertToInteractive('df-fad5beee-1308-4fd0-bdb1-cccb6c44d8db')\"\n",
              "              title=\"Convert this dataframe to an interactive table.\"\n",
              "              style=\"display:none;\">\n",
              "        \n",
              "  <svg xmlns=\"http://www.w3.org/2000/svg\" height=\"24px\"viewBox=\"0 0 24 24\"\n",
              "       width=\"24px\">\n",
              "    <path d=\"M0 0h24v24H0V0z\" fill=\"none\"/>\n",
              "    <path d=\"M18.56 5.44l.94 2.06.94-2.06 2.06-.94-2.06-.94-.94-2.06-.94 2.06-2.06.94zm-11 1L8.5 8.5l.94-2.06 2.06-.94-2.06-.94L8.5 2.5l-.94 2.06-2.06.94zm10 10l.94 2.06.94-2.06 2.06-.94-2.06-.94-.94-2.06-.94 2.06-2.06.94z\"/><path d=\"M17.41 7.96l-1.37-1.37c-.4-.4-.92-.59-1.43-.59-.52 0-1.04.2-1.43.59L10.3 9.45l-7.72 7.72c-.78.78-.78 2.05 0 2.83L4 21.41c.39.39.9.59 1.41.59.51 0 1.02-.2 1.41-.59l7.78-7.78 2.81-2.81c.8-.78.8-2.07 0-2.86zM5.41 20L4 18.59l7.72-7.72 1.47 1.35L5.41 20z\"/>\n",
              "  </svg>\n",
              "      </button>\n",
              "      \n",
              "  <style>\n",
              "    .colab-df-container {\n",
              "      display:flex;\n",
              "      flex-wrap:wrap;\n",
              "      gap: 12px;\n",
              "    }\n",
              "\n",
              "    .colab-df-convert {\n",
              "      background-color: #E8F0FE;\n",
              "      border: none;\n",
              "      border-radius: 50%;\n",
              "      cursor: pointer;\n",
              "      display: none;\n",
              "      fill: #1967D2;\n",
              "      height: 32px;\n",
              "      padding: 0 0 0 0;\n",
              "      width: 32px;\n",
              "    }\n",
              "\n",
              "    .colab-df-convert:hover {\n",
              "      background-color: #E2EBFA;\n",
              "      box-shadow: 0px 1px 2px rgba(60, 64, 67, 0.3), 0px 1px 3px 1px rgba(60, 64, 67, 0.15);\n",
              "      fill: #174EA6;\n",
              "    }\n",
              "\n",
              "    [theme=dark] .colab-df-convert {\n",
              "      background-color: #3B4455;\n",
              "      fill: #D2E3FC;\n",
              "    }\n",
              "\n",
              "    [theme=dark] .colab-df-convert:hover {\n",
              "      background-color: #434B5C;\n",
              "      box-shadow: 0px 1px 3px 1px rgba(0, 0, 0, 0.15);\n",
              "      filter: drop-shadow(0px 1px 2px rgba(0, 0, 0, 0.3));\n",
              "      fill: #FFFFFF;\n",
              "    }\n",
              "  </style>\n",
              "\n",
              "      <script>\n",
              "        const buttonEl =\n",
              "          document.querySelector('#df-fad5beee-1308-4fd0-bdb1-cccb6c44d8db button.colab-df-convert');\n",
              "        buttonEl.style.display =\n",
              "          google.colab.kernel.accessAllowed ? 'block' : 'none';\n",
              "\n",
              "        async function convertToInteractive(key) {\n",
              "          const element = document.querySelector('#df-fad5beee-1308-4fd0-bdb1-cccb6c44d8db');\n",
              "          const dataTable =\n",
              "            await google.colab.kernel.invokeFunction('convertToInteractive',\n",
              "                                                     [key], {});\n",
              "          if (!dataTable) return;\n",
              "\n",
              "          const docLinkHtml = 'Like what you see? Visit the ' +\n",
              "            '<a target=\"_blank\" href=https://colab.research.google.com/notebooks/data_table.ipynb>data table notebook</a>'\n",
              "            + ' to learn more about interactive tables.';\n",
              "          element.innerHTML = '';\n",
              "          dataTable['output_type'] = 'display_data';\n",
              "          await google.colab.output.renderOutput(dataTable, element);\n",
              "          const docLink = document.createElement('div');\n",
              "          docLink.innerHTML = docLinkHtml;\n",
              "          element.appendChild(docLink);\n",
              "        }\n",
              "      </script>\n",
              "    </div>\n",
              "  </div>\n",
              "  "
            ]
          },
          "metadata": {},
          "execution_count": 19
        }
      ]
    },
    {
      "cell_type": "markdown",
      "source": [
        "**12. Identify the min, max, and average of distance columns**"
      ],
      "metadata": {
        "id": "3cwg_nnOf3hL"
      }
    },
    {
      "cell_type": "code",
      "source": [
        "df.agg({'Distance':['min','max','mean']})"
      ],
      "metadata": {
        "colab": {
          "base_uri": "https://localhost:8080/",
          "height": 143
        },
        "id": "eImWCGCJ9qkV",
        "outputId": "331085aa-2eb6-4632-af03-fee48ece9e01"
      },
      "execution_count": null,
      "outputs": [
        {
          "output_type": "execute_result",
          "data": {
            "text/plain": [
              "       Distance\n",
              "min    0.000000\n",
              "max   64.100000\n",
              "mean  12.697587"
            ],
            "text/html": [
              "\n",
              "  <div id=\"df-aa9038e3-6911-461f-90da-0d12caa5a493\">\n",
              "    <div class=\"colab-df-container\">\n",
              "      <div>\n",
              "<style scoped>\n",
              "    .dataframe tbody tr th:only-of-type {\n",
              "        vertical-align: middle;\n",
              "    }\n",
              "\n",
              "    .dataframe tbody tr th {\n",
              "        vertical-align: top;\n",
              "    }\n",
              "\n",
              "    .dataframe thead th {\n",
              "        text-align: right;\n",
              "    }\n",
              "</style>\n",
              "<table border=\"1\" class=\"dataframe\">\n",
              "  <thead>\n",
              "    <tr style=\"text-align: right;\">\n",
              "      <th></th>\n",
              "      <th>Distance</th>\n",
              "    </tr>\n",
              "  </thead>\n",
              "  <tbody>\n",
              "    <tr>\n",
              "      <th>min</th>\n",
              "      <td>0.000000</td>\n",
              "    </tr>\n",
              "    <tr>\n",
              "      <th>max</th>\n",
              "      <td>64.100000</td>\n",
              "    </tr>\n",
              "    <tr>\n",
              "      <th>mean</th>\n",
              "      <td>12.697587</td>\n",
              "    </tr>\n",
              "  </tbody>\n",
              "</table>\n",
              "</div>\n",
              "      <button class=\"colab-df-convert\" onclick=\"convertToInteractive('df-aa9038e3-6911-461f-90da-0d12caa5a493')\"\n",
              "              title=\"Convert this dataframe to an interactive table.\"\n",
              "              style=\"display:none;\">\n",
              "        \n",
              "  <svg xmlns=\"http://www.w3.org/2000/svg\" height=\"24px\"viewBox=\"0 0 24 24\"\n",
              "       width=\"24px\">\n",
              "    <path d=\"M0 0h24v24H0V0z\" fill=\"none\"/>\n",
              "    <path d=\"M18.56 5.44l.94 2.06.94-2.06 2.06-.94-2.06-.94-.94-2.06-.94 2.06-2.06.94zm-11 1L8.5 8.5l.94-2.06 2.06-.94-2.06-.94L8.5 2.5l-.94 2.06-2.06.94zm10 10l.94 2.06.94-2.06 2.06-.94-2.06-.94-.94-2.06-.94 2.06-2.06.94z\"/><path d=\"M17.41 7.96l-1.37-1.37c-.4-.4-.92-.59-1.43-.59-.52 0-1.04.2-1.43.59L10.3 9.45l-7.72 7.72c-.78.78-.78 2.05 0 2.83L4 21.41c.39.39.9.59 1.41.59.51 0 1.02-.2 1.41-.59l7.78-7.78 2.81-2.81c.8-.78.8-2.07 0-2.86zM5.41 20L4 18.59l7.72-7.72 1.47 1.35L5.41 20z\"/>\n",
              "  </svg>\n",
              "      </button>\n",
              "      \n",
              "  <style>\n",
              "    .colab-df-container {\n",
              "      display:flex;\n",
              "      flex-wrap:wrap;\n",
              "      gap: 12px;\n",
              "    }\n",
              "\n",
              "    .colab-df-convert {\n",
              "      background-color: #E8F0FE;\n",
              "      border: none;\n",
              "      border-radius: 50%;\n",
              "      cursor: pointer;\n",
              "      display: none;\n",
              "      fill: #1967D2;\n",
              "      height: 32px;\n",
              "      padding: 0 0 0 0;\n",
              "      width: 32px;\n",
              "    }\n",
              "\n",
              "    .colab-df-convert:hover {\n",
              "      background-color: #E2EBFA;\n",
              "      box-shadow: 0px 1px 2px rgba(60, 64, 67, 0.3), 0px 1px 3px 1px rgba(60, 64, 67, 0.15);\n",
              "      fill: #174EA6;\n",
              "    }\n",
              "\n",
              "    [theme=dark] .colab-df-convert {\n",
              "      background-color: #3B4455;\n",
              "      fill: #D2E3FC;\n",
              "    }\n",
              "\n",
              "    [theme=dark] .colab-df-convert:hover {\n",
              "      background-color: #434B5C;\n",
              "      box-shadow: 0px 1px 3px 1px rgba(0, 0, 0, 0.15);\n",
              "      filter: drop-shadow(0px 1px 2px rgba(0, 0, 0, 0.3));\n",
              "      fill: #FFFFFF;\n",
              "    }\n",
              "  </style>\n",
              "\n",
              "      <script>\n",
              "        const buttonEl =\n",
              "          document.querySelector('#df-aa9038e3-6911-461f-90da-0d12caa5a493 button.colab-df-convert');\n",
              "        buttonEl.style.display =\n",
              "          google.colab.kernel.accessAllowed ? 'block' : 'none';\n",
              "\n",
              "        async function convertToInteractive(key) {\n",
              "          const element = document.querySelector('#df-aa9038e3-6911-461f-90da-0d12caa5a493');\n",
              "          const dataTable =\n",
              "            await google.colab.kernel.invokeFunction('convertToInteractive',\n",
              "                                                     [key], {});\n",
              "          if (!dataTable) return;\n",
              "\n",
              "          const docLinkHtml = 'Like what you see? Visit the ' +\n",
              "            '<a target=\"_blank\" href=https://colab.research.google.com/notebooks/data_table.ipynb>data table notebook</a>'\n",
              "            + ' to learn more about interactive tables.';\n",
              "          element.innerHTML = '';\n",
              "          dataTable['output_type'] = 'display_data';\n",
              "          await google.colab.output.renderOutput(dataTable, element);\n",
              "          const docLink = document.createElement('div');\n",
              "          docLink.innerHTML = docLinkHtml;\n",
              "          element.appendChild(docLink);\n",
              "        }\n",
              "      </script>\n",
              "    </div>\n",
              "  </div>\n",
              "  "
            ]
          },
          "metadata": {},
          "execution_count": 19
        }
      ]
    },
    {
      "cell_type": "markdown",
      "source": [
        "**13. Which council area has the lowest number of 3 rooms house?**"
      ],
      "metadata": {
        "id": "UctNXXXkgCou"
      }
    },
    {
      "cell_type": "code",
      "source": [
        "df[(df['Rooms']==3)]['CouncilArea'].value_counts().to_frame().sort_values('CouncilArea')\n"
      ],
      "metadata": {
        "colab": {
          "base_uri": "https://localhost:8080/",
          "height": 1000
        },
        "id": "E7tRrhHJ9qnu",
        "outputId": "208b9cb3-4feb-4478-f8bf-5f5df4a9e3c6"
      },
      "execution_count": null,
      "outputs": [
        {
          "output_type": "execute_result",
          "data": {
            "text/plain": [
              "                                CouncilArea\n",
              "Moorabool Shire Council                   5\n",
              "Mitchell Shire Council                    6\n",
              "Cardinia Shire Council                    9\n",
              "Macedon Ranges Shire Council             22\n",
              "Nillumbik Shire Council                  30\n",
              "Yarra Ranges Shire Council               36\n",
              "Casey City Council                       73\n",
              "Melton City Council                     105\n",
              "Port Phillip City Council               119\n",
              "Knox City Council                       129\n",
              "Frankston City Council                  158\n",
              "Greater Dandenong City Council          162\n",
              "Yarra City Council                      176\n",
              "Stonnington City Council                187\n",
              "Maroondah City Council                  201\n",
              "Melbourne City Council                  219\n",
              "Whitehorse City Council                 222\n",
              "Manningham City Council                 226\n",
              "Hobsons Bay City Council                231\n",
              "Wyndham City Council                    278\n",
              "Maribyrnong City Council                280\n",
              "Glen Eira City Council                  313\n",
              "Moonee Valley City Council              324\n",
              "Kingston City Council                   339\n",
              "Bayside City Council                    376\n",
              "Whittlesea City Council                 391\n",
              "Moreland City Council                   396\n",
              "Boroondara City Council                 441\n",
              "Hume City Council                       465\n",
              "Monash City Council                     472\n",
              "Banyule City Council                    530\n",
              "Brimbank City Council                   547\n",
              "Darebin City Council                    582"
            ],
            "text/html": [
              "\n",
              "  <div id=\"df-38fe19b0-6975-4d6e-b442-3a4ad59b9ade\">\n",
              "    <div class=\"colab-df-container\">\n",
              "      <div>\n",
              "<style scoped>\n",
              "    .dataframe tbody tr th:only-of-type {\n",
              "        vertical-align: middle;\n",
              "    }\n",
              "\n",
              "    .dataframe tbody tr th {\n",
              "        vertical-align: top;\n",
              "    }\n",
              "\n",
              "    .dataframe thead th {\n",
              "        text-align: right;\n",
              "    }\n",
              "</style>\n",
              "<table border=\"1\" class=\"dataframe\">\n",
              "  <thead>\n",
              "    <tr style=\"text-align: right;\">\n",
              "      <th></th>\n",
              "      <th>CouncilArea</th>\n",
              "    </tr>\n",
              "  </thead>\n",
              "  <tbody>\n",
              "    <tr>\n",
              "      <th>Moorabool Shire Council</th>\n",
              "      <td>5</td>\n",
              "    </tr>\n",
              "    <tr>\n",
              "      <th>Mitchell Shire Council</th>\n",
              "      <td>6</td>\n",
              "    </tr>\n",
              "    <tr>\n",
              "      <th>Cardinia Shire Council</th>\n",
              "      <td>9</td>\n",
              "    </tr>\n",
              "    <tr>\n",
              "      <th>Macedon Ranges Shire Council</th>\n",
              "      <td>22</td>\n",
              "    </tr>\n",
              "    <tr>\n",
              "      <th>Nillumbik Shire Council</th>\n",
              "      <td>30</td>\n",
              "    </tr>\n",
              "    <tr>\n",
              "      <th>Yarra Ranges Shire Council</th>\n",
              "      <td>36</td>\n",
              "    </tr>\n",
              "    <tr>\n",
              "      <th>Casey City Council</th>\n",
              "      <td>73</td>\n",
              "    </tr>\n",
              "    <tr>\n",
              "      <th>Melton City Council</th>\n",
              "      <td>105</td>\n",
              "    </tr>\n",
              "    <tr>\n",
              "      <th>Port Phillip City Council</th>\n",
              "      <td>119</td>\n",
              "    </tr>\n",
              "    <tr>\n",
              "      <th>Knox City Council</th>\n",
              "      <td>129</td>\n",
              "    </tr>\n",
              "    <tr>\n",
              "      <th>Frankston City Council</th>\n",
              "      <td>158</td>\n",
              "    </tr>\n",
              "    <tr>\n",
              "      <th>Greater Dandenong City Council</th>\n",
              "      <td>162</td>\n",
              "    </tr>\n",
              "    <tr>\n",
              "      <th>Yarra City Council</th>\n",
              "      <td>176</td>\n",
              "    </tr>\n",
              "    <tr>\n",
              "      <th>Stonnington City Council</th>\n",
              "      <td>187</td>\n",
              "    </tr>\n",
              "    <tr>\n",
              "      <th>Maroondah City Council</th>\n",
              "      <td>201</td>\n",
              "    </tr>\n",
              "    <tr>\n",
              "      <th>Melbourne City Council</th>\n",
              "      <td>219</td>\n",
              "    </tr>\n",
              "    <tr>\n",
              "      <th>Whitehorse City Council</th>\n",
              "      <td>222</td>\n",
              "    </tr>\n",
              "    <tr>\n",
              "      <th>Manningham City Council</th>\n",
              "      <td>226</td>\n",
              "    </tr>\n",
              "    <tr>\n",
              "      <th>Hobsons Bay City Council</th>\n",
              "      <td>231</td>\n",
              "    </tr>\n",
              "    <tr>\n",
              "      <th>Wyndham City Council</th>\n",
              "      <td>278</td>\n",
              "    </tr>\n",
              "    <tr>\n",
              "      <th>Maribyrnong City Council</th>\n",
              "      <td>280</td>\n",
              "    </tr>\n",
              "    <tr>\n",
              "      <th>Glen Eira City Council</th>\n",
              "      <td>313</td>\n",
              "    </tr>\n",
              "    <tr>\n",
              "      <th>Moonee Valley City Council</th>\n",
              "      <td>324</td>\n",
              "    </tr>\n",
              "    <tr>\n",
              "      <th>Kingston City Council</th>\n",
              "      <td>339</td>\n",
              "    </tr>\n",
              "    <tr>\n",
              "      <th>Bayside City Council</th>\n",
              "      <td>376</td>\n",
              "    </tr>\n",
              "    <tr>\n",
              "      <th>Whittlesea City Council</th>\n",
              "      <td>391</td>\n",
              "    </tr>\n",
              "    <tr>\n",
              "      <th>Moreland City Council</th>\n",
              "      <td>396</td>\n",
              "    </tr>\n",
              "    <tr>\n",
              "      <th>Boroondara City Council</th>\n",
              "      <td>441</td>\n",
              "    </tr>\n",
              "    <tr>\n",
              "      <th>Hume City Council</th>\n",
              "      <td>465</td>\n",
              "    </tr>\n",
              "    <tr>\n",
              "      <th>Monash City Council</th>\n",
              "      <td>472</td>\n",
              "    </tr>\n",
              "    <tr>\n",
              "      <th>Banyule City Council</th>\n",
              "      <td>530</td>\n",
              "    </tr>\n",
              "    <tr>\n",
              "      <th>Brimbank City Council</th>\n",
              "      <td>547</td>\n",
              "    </tr>\n",
              "    <tr>\n",
              "      <th>Darebin City Council</th>\n",
              "      <td>582</td>\n",
              "    </tr>\n",
              "  </tbody>\n",
              "</table>\n",
              "</div>\n",
              "      <button class=\"colab-df-convert\" onclick=\"convertToInteractive('df-38fe19b0-6975-4d6e-b442-3a4ad59b9ade')\"\n",
              "              title=\"Convert this dataframe to an interactive table.\"\n",
              "              style=\"display:none;\">\n",
              "        \n",
              "  <svg xmlns=\"http://www.w3.org/2000/svg\" height=\"24px\"viewBox=\"0 0 24 24\"\n",
              "       width=\"24px\">\n",
              "    <path d=\"M0 0h24v24H0V0z\" fill=\"none\"/>\n",
              "    <path d=\"M18.56 5.44l.94 2.06.94-2.06 2.06-.94-2.06-.94-.94-2.06-.94 2.06-2.06.94zm-11 1L8.5 8.5l.94-2.06 2.06-.94-2.06-.94L8.5 2.5l-.94 2.06-2.06.94zm10 10l.94 2.06.94-2.06 2.06-.94-2.06-.94-.94-2.06-.94 2.06-2.06.94z\"/><path d=\"M17.41 7.96l-1.37-1.37c-.4-.4-.92-.59-1.43-.59-.52 0-1.04.2-1.43.59L10.3 9.45l-7.72 7.72c-.78.78-.78 2.05 0 2.83L4 21.41c.39.39.9.59 1.41.59.51 0 1.02-.2 1.41-.59l7.78-7.78 2.81-2.81c.8-.78.8-2.07 0-2.86zM5.41 20L4 18.59l7.72-7.72 1.47 1.35L5.41 20z\"/>\n",
              "  </svg>\n",
              "      </button>\n",
              "      \n",
              "  <style>\n",
              "    .colab-df-container {\n",
              "      display:flex;\n",
              "      flex-wrap:wrap;\n",
              "      gap: 12px;\n",
              "    }\n",
              "\n",
              "    .colab-df-convert {\n",
              "      background-color: #E8F0FE;\n",
              "      border: none;\n",
              "      border-radius: 50%;\n",
              "      cursor: pointer;\n",
              "      display: none;\n",
              "      fill: #1967D2;\n",
              "      height: 32px;\n",
              "      padding: 0 0 0 0;\n",
              "      width: 32px;\n",
              "    }\n",
              "\n",
              "    .colab-df-convert:hover {\n",
              "      background-color: #E2EBFA;\n",
              "      box-shadow: 0px 1px 2px rgba(60, 64, 67, 0.3), 0px 1px 3px 1px rgba(60, 64, 67, 0.15);\n",
              "      fill: #174EA6;\n",
              "    }\n",
              "\n",
              "    [theme=dark] .colab-df-convert {\n",
              "      background-color: #3B4455;\n",
              "      fill: #D2E3FC;\n",
              "    }\n",
              "\n",
              "    [theme=dark] .colab-df-convert:hover {\n",
              "      background-color: #434B5C;\n",
              "      box-shadow: 0px 1px 3px 1px rgba(0, 0, 0, 0.15);\n",
              "      filter: drop-shadow(0px 1px 2px rgba(0, 0, 0, 0.3));\n",
              "      fill: #FFFFFF;\n",
              "    }\n",
              "  </style>\n",
              "\n",
              "      <script>\n",
              "        const buttonEl =\n",
              "          document.querySelector('#df-38fe19b0-6975-4d6e-b442-3a4ad59b9ade button.colab-df-convert');\n",
              "        buttonEl.style.display =\n",
              "          google.colab.kernel.accessAllowed ? 'block' : 'none';\n",
              "\n",
              "        async function convertToInteractive(key) {\n",
              "          const element = document.querySelector('#df-38fe19b0-6975-4d6e-b442-3a4ad59b9ade');\n",
              "          const dataTable =\n",
              "            await google.colab.kernel.invokeFunction('convertToInteractive',\n",
              "                                                     [key], {});\n",
              "          if (!dataTable) return;\n",
              "\n",
              "          const docLinkHtml = 'Like what you see? Visit the ' +\n",
              "            '<a target=\"_blank\" href=https://colab.research.google.com/notebooks/data_table.ipynb>data table notebook</a>'\n",
              "            + ' to learn more about interactive tables.';\n",
              "          element.innerHTML = '';\n",
              "          dataTable['output_type'] = 'display_data';\n",
              "          await google.colab.output.renderOutput(dataTable, element);\n",
              "          const docLink = document.createElement('div');\n",
              "          docLink.innerHTML = docLinkHtml;\n",
              "          element.appendChild(docLink);\n",
              "        }\n",
              "      </script>\n",
              "    </div>\n",
              "  </div>\n",
              "  "
            ]
          },
          "metadata": {},
          "execution_count": 110
        }
      ]
    },
    {
      "cell_type": "markdown",
      "source": [
        "**14. Create a pie chart to visualize the proportion of each property type.**"
      ],
      "metadata": {
        "id": "wFYHCMhwgbHB"
      }
    },
    {
      "cell_type": "code",
      "source": [
        "import matplotlib.pyplot as plt\n",
        "import seaborn as sns"
      ],
      "metadata": {
        "id": "66-pNYrhgJ-S"
      },
      "execution_count": null,
      "outputs": []
    },
    {
      "cell_type": "code",
      "source": [
        "df['Type'].unique()"
      ],
      "metadata": {
        "colab": {
          "base_uri": "https://localhost:8080/"
        },
        "id": "rLYubmEAiKf4",
        "outputId": "f09cc0e5-5332-4519-e429-67b3f4cd8aca"
      },
      "execution_count": null,
      "outputs": [
        {
          "output_type": "execute_result",
          "data": {
            "text/plain": [
              "array(['h', 't', 'u'], dtype=object)"
            ]
          },
          "metadata": {},
          "execution_count": 37
        }
      ]
    },
    {
      "cell_type": "code",
      "source": [
        "plt.pie(df['Type'].value_counts())\n"
      ],
      "metadata": {
        "colab": {
          "base_uri": "https://localhost:8080/",
          "height": 357
        },
        "id": "okL-9O4dgJ7b",
        "outputId": "9b6099ff-359e-40e7-aa92-be362310cd19"
      },
      "execution_count": null,
      "outputs": [
        {
          "output_type": "execute_result",
          "data": {
            "text/plain": [
              "([<matplotlib.patches.Wedge at 0x7f44b3401760>,\n",
              "  <matplotlib.patches.Wedge at 0x7f44b3401b20>,\n",
              "  <matplotlib.patches.Wedge at 0x7f44b344b040>],\n",
              " [Text(-0.6839139661930506, 0.8615461025656672, ''),\n",
              "  Text(0.3912620101180606, -1.028063246808471, ''),\n",
              "  Text(1.0484667294276397, -0.3327424188216895, '')])"
            ]
          },
          "metadata": {},
          "execution_count": 41
        },
        {
          "output_type": "display_data",
          "data": {
            "text/plain": [
              "<Figure size 432x288 with 1 Axes>"
            ],
            "image/png": "[encoded data removed]"
          },
          "metadata": {}
        }
      ]
    },
    {
      "cell_type": "code",
      "source": [
        "df.columns"
      ],
      "metadata": {
        "colab": {
          "base_uri": "https://localhost:8080/"
        },
        "id": "otWYd7gojIJ3",
        "outputId": "40b1f52c-3f1a-4748-a0dc-2e9eab2ec7d6"
      },
      "execution_count": null,
      "outputs": [
        {
          "output_type": "execute_result",
          "data": {
            "text/plain": [
              "Index(['Suburban', 'Address', 'Rooms', 'Type', 'Price', 'Method', 'SellerG',\n",
              "       'Date', 'Postcode', 'Regionname', 'Propertycount', 'Distance',\n",
              "       'CouncilArea'],\n",
              "      dtype='object')"
            ]
          },
          "metadata": {},
          "execution_count": 42
        }
      ]
    },
    {
      "cell_type": "markdown",
      "source": [
        "**15. Create a scatter plot to visualize the relationship between distance and price.**"
      ],
      "metadata": {
        "id": "Ho0m6CAXivtI"
      }
    },
    {
      "cell_type": "code",
      "source": [
        "plt.figure(figsize=(25,6))\n",
        "plt.scatter(df['Distance'],df['Price'])"
      ],
      "metadata": {
        "colab": {
          "base_uri": "https://localhost:8080/",
          "height": 367
        },
        "id": "hroQX9LKgJ33",
        "outputId": "93c4333c-2a9a-4113-c527-963aeb3399d5"
      },
      "execution_count": null,
      "outputs": [
        {
          "output_type": "execute_result",
          "data": {
            "text/plain": [
              "<matplotlib.collections.PathCollection at 0x7f44b12c1df0>"
            ]
          },
          "metadata": {},
          "execution_count": 58
        },
        {
          "output_type": "display_data",
          "data": {
            "text/plain": [
              "<Figure size 1800x432 with 1 Axes>"
            ],
            "image/png": "[encoded data removed]"
          },
          "metadata": {
            "needs_background": "light"
          }
        }
      ]
    },
    {
      "cell_type": "markdown",
      "source": [
        "**16. Create a bar chart to compare each property type's average number of rooms.**"
      ],
      "metadata": {
        "id": "36m_jSxkl8EL"
      }
    },
    {
      "cell_type": "code",
      "source": [
        "df['Type'].unique()"
      ],
      "metadata": {
        "colab": {
          "base_uri": "https://localhost:8080/"
        },
        "id": "-lHkd7MtmNqk",
        "outputId": "b9255689-1d8c-4261-cfa5-70aefd94268f"
      },
      "execution_count": null,
      "outputs": [
        {
          "output_type": "execute_result",
          "data": {
            "text/plain": [
              "array(['h', 't', 'u'], dtype=object)"
            ]
          },
          "metadata": {},
          "execution_count": 59
        }
      ]
    },
    {
      "cell_type": "code",
      "source": [
        "x=df[df['Type']=='h'].count().mean()\n",
        "x=round(x,0)"
      ],
      "metadata": {
        "id": "moFefD2gmWqR"
      },
      "execution_count": null,
      "outputs": []
    },
    {
      "cell_type": "code",
      "source": [
        "y=df[df['Type']=='t'].count().mean()\n",
        "y=round(y,0)"
      ],
      "metadata": {
        "id": "ZJkz61pmm4ri"
      },
      "execution_count": null,
      "outputs": []
    },
    {
      "cell_type": "code",
      "source": [
        "z=df[df['Type']=='u'].count().mean()\n",
        "z=round(z,0)"
      ],
      "metadata": {
        "id": "5e-tJdU7m4hF"
      },
      "execution_count": null,
      "outputs": []
    },
    {
      "cell_type": "code",
      "source": [
        "data={'h':x, 't':y, 'u':z}"
      ],
      "metadata": {
        "id": "3XcddIQkooBM"
      },
      "execution_count": null,
      "outputs": []
    },
    {
      "cell_type": "code",
      "source": [
        "data"
      ],
      "metadata": {
        "colab": {
          "base_uri": "https://localhost:8080/"
        },
        "id": "Nk28-Vecon-K",
        "outputId": "de8e914d-6dc6-4507-f72e-7f80c71e051f"
      },
      "execution_count": null,
      "outputs": [
        {
          "output_type": "execute_result",
          "data": {
            "text/plain": [
              "{'h': 12648.0, 't': 1737.0, 'u': 3354.0}"
            ]
          },
          "metadata": {},
          "execution_count": 96
        }
      ]
    },
    {
      "cell_type": "code",
      "source": [
        "a=list(data.keys())\n",
        "b=list(data.values())\n"
      ],
      "metadata": {
        "colab": {
          "base_uri": "https://localhost:8080/"
        },
        "id": "Z85vbrEHo41W",
        "outputId": "218a6ff0-e167-46f6-fdd8-172c4a77499d"
      },
      "execution_count": null,
      "outputs": [
        {
          "output_type": "execute_result",
          "data": {
            "text/plain": [
              "(['h', 't', 'u'], [12648.0, 1737.0, 3354.0])"
            ]
          },
          "metadata": {},
          "execution_count": 97
        }
      ]
    },
    {
      "cell_type": "code",
      "source": [
        "plt.bar(a,b,color=\"maroon\",width = 0.4)"
      ],
      "metadata": {
        "colab": {
          "base_uri": "https://localhost:8080/",
          "height": 283
        },
        "id": "W82rHjPzgJ2U",
        "outputId": "fdf9fd1b-e245-4bf8-fb52-8d8c7584925b"
      },
      "execution_count": null,
      "outputs": [
        {
          "output_type": "execute_result",
          "data": {
            "text/plain": [
              "<BarContainer object of 3 artists>"
            ]
          },
          "metadata": {},
          "execution_count": 100
        },
        {
          "output_type": "display_data",
          "data": {
            "text/plain": [
              "<Figure size 432x288 with 1 Axes>"
            ],
            "image/png": "[encoded data removed]"
          },
          "metadata": {
            "needs_background": "light"
          }
        }
      ]
    },
    {
      "cell_type": "markdown",
      "source": [
        "**17. Create a histogram chart of price columns.**\n"
      ],
      "metadata": {
        "id": "NKW6nYP6qCCD"
      }
    },
    {
      "cell_type": "code",
      "source": [
        "plt.hist(df['Price'])"
      ],
      "metadata": {
        "colab": {
          "base_uri": "https://localhost:8080/",
          "height": 369
        },
        "id": "SIUYiO0xqBc3",
        "outputId": "bd11afb2-66cd-4849-c593-93659baae43c"
      },
      "execution_count": null,
      "outputs": [
        {
          "output_type": "execute_result",
          "data": {
            "text/plain": [
              "(array([5.780e+03, 5.866e+03, 1.548e+03, 4.290e+02, 1.240e+02, 5.400e+01,\n",
              "        2.200e+01, 1.300e+01, 1.200e+01, 5.000e+00]),\n",
              " array([  85000.,  746500., 1408000., 2069500., 2731000., 3392500.,\n",
              "        4054000., 4715500., 5377000., 6038500., 6700000.]),\n",
              " <BarContainer object of 10 artists>)"
            ]
          },
          "metadata": {},
          "execution_count": 101
        },
        {
          "output_type": "display_data",
          "data": {
            "text/plain": [
              "<Figure size 432x288 with 1 Axes>"
            ],
            "image/png": "[encoded data removed]"
          },
          "metadata": {
            "needs_background": "light"
          }
        }
      ]
    },
    {
      "cell_type": "markdown",
      "source": [
        "**18. Create the line chart for the date and price column**"
      ],
      "metadata": {
        "id": "NnuYDU1aqdd1"
      }
    },
    {
      "cell_type": "code",
      "source": [
        "df.columns"
      ],
      "metadata": {
        "colab": {
          "base_uri": "https://localhost:8080/"
        },
        "id": "ID6i-iOlqooo",
        "outputId": "fc85dc2f-e021-4ff6-fc8a-3e652cac4c7a"
      },
      "execution_count": null,
      "outputs": [
        {
          "output_type": "execute_result",
          "data": {
            "text/plain": [
              "Index(['Suburban', 'Address', 'Rooms', 'Type', 'Price', 'Method', 'SellerG',\n",
              "       'Date', 'Postcode', 'Regionname', 'Propertycount', 'Distance',\n",
              "       'CouncilArea'],\n",
              "      dtype='object')"
            ]
          },
          "metadata": {},
          "execution_count": 103
        }
      ]
    },
    {
      "cell_type": "code",
      "source": [
        "plt.figure(figsize=(25,6))\n",
        "plt.plot(df['Date'],df['Price'])"
      ],
      "metadata": {
        "colab": {
          "base_uri": "https://localhost:8080/",
          "height": 367
        },
        "id": "VCYaQMZTgJy0",
        "outputId": "e7cdb27b-4682-47bb-afae-fa3230bef790"
      },
      "execution_count": null,
      "outputs": [
        {
          "output_type": "execute_result",
          "data": {
            "text/plain": [
              "[<matplotlib.lines.Line2D at 0x7f44b34f77c0>]"
            ]
          },
          "metadata": {},
          "execution_count": 106
        },
        {
          "output_type": "display_data",
          "data": {
            "text/plain": [
              "<Figure size 1800x432 with 1 Axes>"
            ],
            "image/png": "[encoded data removed]"
          },
          "metadata": {
            "needs_background": "light"
          }
        }
      ]
    },
    {
      "cell_type": "markdown",
      "source": [
        "**19. As a Data Analyst, you can create your own KPIs from the above-attached datasets.**"
      ],
      "metadata": {
        "id": "ivYOqAGwrFvc"
      }
    },
    {
      "cell_type": "markdown",
      "source": [
        "![pie.png](data:image/png;base64,iVBORw0KGgoAAAANSUhEUgAAAOcAAADnCAYAAADl9EEgAAAAOXRFWHRTb2Z0d2FyZQBNYXRwbG90bGliIHZlcnNpb24zLjUuMywgaHR0cHM6Ly9tYXRwbG90bGliLm9yZy/NK7nSAAAACXBIWXMAAAsTAAALEwEAmpwYAAAS+UlEQVR4nO3de5AV5ZnH8W+fAzNy9wIuImJrJGowahDFCxEvrAitMaXRZNfLGBMkqzFLzG7Sial41rXWNpsYY0VL40ZTGkvXWO5KaLfcmF3AKAwSRQ/ehllocBzECQNn5DbM5ewffcZMyIzMnDmnn7e7n0/VFJZa8/6Q+dl9up/u1yoWiyilzJORDqCU6puWUylDaTmVMpSWUylDaTmVMpSWUylDaTmVMpSWUylDaTmVMpSWUylDaTmVMpSWUylDaTmVMpSWUylDaTmVMpSWUylDaTmVMpSWUylDaTmVMpSWUylDaTmVMpSWUylDaTmVMpSWUylDaTmVMpSWUylDaTmVMtQw6QCqf7br1wBHlr6mAJOAw4BDgdHASGBU6deRwAHAXqAd2FP6agd2AVuAzUBz6Wsz0ARsDDynO7LflBowSzcyMoPt+lOAk3p9nQgcQ/XPbnYDbwFrgTdKv74WeM57VV5X7YeWU4Dt+hZh+c4DzgVmAQeJhvpLm4BlwHJgWeA564TzpI6WMyK26x8GXALMAWYD42UTDdpmYCnwDOAHnrNDNk7yaTmryHb9ScBlwOXAWSTnAtwe4HngaWBx4DlbhfMkkpazwmzXHwtcCfwtcCbJKWR/ugiL+iDwTOA5ncJ5EkPLWSG2658E/B1hMUcLx5HyPvBL4MHAc9YLZ4k9LecQlG51XAHcAJwhHMckReC3wD2B5/jSYeJKy1mGUim/AriE9x9V//LAncATged0SYeJEy3nINiuXwt8lbCUk4XjxM064HbgMS3pwGg5B8B2/SywAPg+cLhwnLh7B/iWnu7un5ZzP2zXnw3cQzg0oCrnOeDmwHPelA5iKi1nP2zXPwL4EeEFH1UdncD9wK2B57RKhzGNlnMftusPB74NfI9wmFxVXyuwKPCcR6WDmETL2Yvt+tOAR4Dp0llS6hlgYeA5W6SDmEDLCdiunwFuJryaWCscJ+22AjcFnvO4dBBpqS+n7fpHEU61nC0cRf25p4GvBp6zTTqIlFSX03b9LwAPAWOks6g+bQAuCzznVekgElJZTtv1hwE/BL4pnUXt1x7gxsBzHpIOErXUldN2/fHAr4FzhKOowfkF8PXAc/ZIB4lKqsppu/6JhFcEbeEoqjyrgYvScjU3NeW0Xf884D/Rz5dxtx6YG3hOo3SQakv6g8AA2K5/GfAsWswkOBp4yXb9U6WDVFviy2m7/vXAk+j9yySZAPyv7frzpINUU6LLabv+LcADJPz3mVKjgMW2639JOki1JPaH1nb9HOHEj0quYcCjtutfKh2kGhJ5Qch2/W8RPlGi0qEDuDTwnCXSQSopceW0XX8h4WNIKl3agUsCz3lOOkilJKqctutfSfhUSWJP19XH2g3MDzxnqXSQSkhMOW3XdwjvY+rmTOm2HTg98Jx3pIMMVSLKWXoOcwV6H1OFGoGZcX+7QuxP/2zXPxhYjBZT/ckxwNOlt1rEVqzLWXq65CnCqRGleptNzC8MxrqcwE8Jt9BTqi/X2a6/SDpEuWL7mdN2/asJr8wq9XH2AmcEnvOKdJDBimU5bdc/GliDfs5UA7MOmB63PUVjd1pb+pz5GFpMNXBTgfukQwxW7MoJ/AA4XTqEip2rSx+FYiNWp7W2688i3Po8KxxFxdMO4ITAczZKBxmI2Bw5bdc/AHgYLaYq32jCRwhjITblBL5LeHNZqaGYG5fT21ic1tquP5VwE1Z9m4GqhBbgONPH++Jy5LwXLaaqnAnAHdIh9sf4I6ft+l8EnpDOoRKnCJwWeM5q6SD9MfrIWboI9GPpHCqRLOBO6RAfx+hyAjei27yr6jnPdv0LpEP0x9jTWtv1xxC+QHi8dBaVaK8AMwLPMa4IJh85v4kWU1XfdOAK6RB9MfLIWXqAegMwVjqLSoVG4PjAczqlg/Rm6pHzH9Fiqugcg4FHT+PKabv+KOBr0jlU6twsHWBfxpUTqAMOlA6hUucU2/VnS4fozahy2q5vAd+QzqFSy6ijp1HlBOYCx0qHUKl1cWmO2wimlfPvpQOoVLOAm6RD9DDmVkrpvUCNhP+BlJKyFTgs8JwO6SAmHTmvQYup5B0CzJcOAWaVMxYPwKpUMOJn0YjTWtv1zwBeks6hVEk7MDHwnO2SIUw5cn5ROoBSvdRiwM+keDlt188Al0vnUGof4uN84uUEZgCTpEMotY9ZtuuPlgxgQjnnSgdQqg81wBzJAFpOpfonektFtJy2648FZkpmUOpjzJNcXPrIeT4wTDiDUv2ZbLv+p6UWly6nsS9XUqpE7DEy6XLOEl5fqf0R+9glVk7b9UcCx0utr9QAnSa1sOSR82R0xzBlvqm26x8ksbBkOWcIrq3UQFkIHT0ly3mK4NpKDYaWUylDnSCxqEg5S8Pun5RYW6kyiGzaLHXknAwMF1pbqcFKVTmPElpXqXKMtV3/0KgX1XIqNTCRHz21nEoNjJZTKUNF/kIAqXL+ldC6SpXr4KgXlCrnOKF1lSqXllMpQ6WmnAcKratUuVJTTj1yqrhJfjlt1x8OjIh6XaWGaGTUC0ocOWsE1lRqqCJ/9liinF0Cayo1VJGXU+LNd90Ca6bCNGtD4+kT7w6eHDfyxCJFfathRWXawIl0RYk/QD1yVsnnsis2L9zWMufC3bVvLpx46MgOy7KlMyVHd1vUK0Z+Wht4jpazSs7LvJoFOHVP+6d+v7FpwrT29hekMyVI5D+3UrdS5DcFTaCjrM1Tev56ZLE46onmLZ+9tWVrvVUsbpXMlRB7o15Qqpw7hNZNrMNp2TzM6p6879//wo6dM59/t7lrQmfnaolcCdIa9YJS5fyj0LqJdWH25aC/f3ZoV9ehv3u3+ZQrC23LKBb3RBgrSSI/+5AqZ4vQuok1N/vyx552WWC5rdtnP9n8/nsHdHe/E1WuBIn8gKLlTIgTrGDiQP694/d2fOLFjU1Hnblr9zKKRf3sP3CpKaee1lbQaHa1jaB9wE/q10DNA1taZt/9wR/XZIrFzdXMliB6WqsG75zMa+ssa/ATLOfv2v2Z5ZveG3FkR8eKauRKmNQcOZuE1k0kJ7uy7Kvf47q7D1zStPmMb7Ruf5FiMfIb7TES+c+sVDn1gkQFnZZ5e+xQv8eCQttZftPmtjFd3a9XIlMCvR31glLlbBBaN3GydHUezIcVeXv+lM7OyS9sapo2f8fOpRSLnZX4ngmxC3g36kWlyhkA7UJrJ8oM650Gy2JUpb5fFrJ3tmw956H3P2gYXiwGlfq+MdeQr8tHfmVbpJyB53QDjRJrJ42Tra/KxTWdz/0zkZ/SguwuY/q5swJmZ16rrdb31vncj6SunHnBtRNjstVydLXX0Pnc9JXzZcG1E+Foq3lj1ipGssFOz3zuVYW25Smcz62XWFSynKsE106E+Zn6SO+9WWB9p3X72Smbz23K1+UDiYXFyhl4Tgt6UWhILsiuFnnlS8rmc1+UWljyyAnwe+H1Y+1YqynyzXV6pGg+V+xnVLqcepm+TAfR1lpDR9UvBu1PCuZzU1vO3wmvH1t/nf1Do2VhSeeARM/ntgFi44yi5Qw8ZyOwVjJDXM3LrNolnWFfCZzPXZavy4u9ylX6yAnwG+kAcTQ9s+4Q6Qx96ZnPdZIxn7tYcnEtZwzV0NE+ll0VGXavhixkvfjP5xaBJZIBTChnPfrw9aCckXmjwbKo2thepfTM554Qz/ncVfm6/PuSAcTLWRqCf1Y6R5xclFkZ+WsayzWyWBz1eDznc38tHUC8nCX/Lh0gTs7Kro3dFooxnM99SjqAKeX8b6BZOkQ8FIsTaZ0qnaIcMZrPrc/X5TdKhzCinKX9Ux6RzhEH06xgfcbiIOkc5YrJfO6/SQcAQ8pZ8rB0gDiYn61PxBmGwfO5bcDj0iHAoHIGntMAvCSdw3TnZ1415s9sqAydz/1Vvi6/UzoEGFTOkoekA5juE1bzlP3/W/HSaz7XhP853y8doIdp5XwM+EA6hKkm0rpluNV1hHSOaijN554pPJ/7Ur4ub8wbOowqZ+A5e4CfSecw1dzsyxukM1Sb8HyuMUdNMKycJfcCRpzzm+bCzKpUvE5UaD53I/BERGsNiHHlDDynFfiFdA4TfTqzIZL3BZlAYD73X/J1+Y4I1hkw48pZchcQ9ycaKmoUu3eMYo+xw+7VEtF87iYMvJVnZDlLz3nqUEIvn8283lDOTmJJEMF8rnFHTTC0nCU/AHZLhzDFRdn6D6UzSKvSfO67GHjUBIPLGXjOe8BPpHOYYmbmrTHSGUxQhfncO/J1+b0V+D4VZ2w5S+5En/UkQ3fXeAqp+7zZnwrO564FHqxUrkozupyB57QBt0nnkPYZa906y2K0dA7T9MznnrVr99Iy53NvzNfljb3waHQ5Sx4g5ZseXZRdqVNT/aiBmvu3tJxTxnzu4/m6/PKqBasA48sZeE4HsIDwnS6pNDvz2nDpDKYb5Hzuh8A/VDvTUBlfToDAc14Afi6dQ8qR1ge2dIY4GMR87m35urzxj97Fopwl3yaFb0s40nq/KWt1HyadI072M5+7Fvhp1JnKEZtyli4O3SCdI2rzMqs2SWeIo37mczuAq00cOOhLbMoJEHjOM8CT0jmiNDe7uks6Q1z1MZ97W74uv0Y41oDFqpwlC4HEPzrV43hr40TpDHF36p72Ty3b2LQeuEM6y2DErpyB52wHvkR4ipJoY9lRqKXjGOkcCbB9TLF4Xb4uH6uzkNiVEyDwnFXAd6RzVNuczCsNpuwkFnMLyRXEX3U5WLEsJ0DgOT9BeKOZapufrdeHzofux+QKsbxOEdtyllwLrJcOUS2nZBoOls4Qc/9FeAsulmJdzsBztgEOsE06S6UNp3PvgezUYffyvQ38DbmC2P6aQxXrcgIEnvM2cClg5GM/5ZqZeesdy+IA6RwxtQ24mFyhIB1kKGJfToDAc5YSzt8mRpx2EjNMJ3AFuUKjdJChSkQ5AQLPeYQEPV42K5vXo+bgdQPXkCs8Lx2kEhJTToDAc24lIQPyk9iq9zcHpwhcT65gxD4nlZCocpZ8jZi/HOw4a9OGjFU8RDpHzCwiV0jUK1UTV87Ac4rAlwm3doiledn6JukMMfM9coV7pENUWuLKCR9tZX8NMT2Czsm8olNBA5cjV4jVzOxAJbKc8FFBv0wMP4NOtZoSuVlRhXUDN5Ir/JN0kGqxzNq3tDps1/8+8M/SOQZiPNtbVh9wwwTpHIZrB64iV3hKOkg1JfbI2VvgObcTnuYa/yTL3OzqxI4jVkgBuDDpxYSUlBMg8JxHgQsJ/3CNNT9TX4kXJSdVM3A2ucJS6SBRSE05AQLP+R9gFgYPy5+YWT9eOoOhlgLTyRUk9u0UkapyAgSesxaYDvyHdJZ9jaB912h267D7X/pXYA65whbpIFFKxQWh/tiuvwj4IWDEe2EvyKxe8/Oau06WzmGQNuBacgXj/kcahdQdOXsLPOdu4GzCnabEOdmV26UzGOR14NS0FhNSXk6AwHNWAidjwETR6Zk3dSex8KmS2wmL2SAdRlKqT2v3Zbv+RcD9wOFRr23R3b2+9qodlsXYqNc2yOuEp7GvSgcxQeqPnL0FnrMEmIbAtnAnWesbU1zMDsLH/WZoMf9Ej5z9sF3/POBnwPFRrHfLsF8tXzDs2bOjWMswSwmfKHlNOohp9MjZj9I90RMJt4Co+ga+52bWDKv2GoZpAD5PrnCuFrNveuQcANv1xwLfBRZBdd7r01h7VfMwq3tSNb63YVoJT2HvI1cwfpxSkpZzEGzXnwLcClxNBe+NHmF90PxC7aKkF7ON8GKbR66QuLclVoOWswy2608GbgauB0YN9fstyPov3TL8sTOHHMxMWwi33Lsv7m/Di5qWcwhs1z8YuKn0VfZrRZ6qyS2fkWlI2sWg9cCPgIfJFXSYvwxazgqwXX8EcDnwFcKJo0F5q/bahhHW3iTM1HYDzxHeilpMrhCrjYNMo+WsMNv1pwLXAXXAfnekHsPOwuu1C8ZYVqyvnP8f8CjhUVI3+60QLWeV2K4/DLgA+DxwMdDnPpufy7z4h3tq7j0lwmiVEgBLgCfIFV4UzpJIWs4I2K5vATOBS0pfHw02PDD8rqVzs6vPEYo2GF3ASsJC/oZc4Q3hPImn5RRgu74NzAZmr6j9+sTDrNZ5wpH6shdYQ1jIFcBvyRW2iiZKGS2nCXLjxgOnAzMIj6rHAVOBEREl2En4ufEtoJ6wkK+QK7RHtL7qg5bTVLlxGWAKYVGPBSYBE4Dx+/w6Fvrd/bqdcMet1tKvPX/9HtBY+lpHrrC5ar8PVTYtZ1LkxlmEs9I9X0VyhURti5g2Wk6lDBXne2tKJZqWUylDaTmVMpSWUylDaTmVMpSWUylDaTmVMpSWUylDaTmVMpSWUylDaTmVMpSWUylDaTmVMpSWUylDaTmVMpSWUylDaTmVMpSWUylDaTmVMpSWUylDaTmVMpSWUylDaTmVMpSWUylDaTmVMpSWUylDaTmVMtT/A9PWJNP3BIKfAAAAAElFTkSuQmCC)"
      ],
      "metadata": {
        "id": "tBN3l1WIqaN0"
      }
    },
    {
      "cell_type": "markdown",
      "source": [
        "![scatter.png](data:image/png;base64,iVBORw0KGgoAAAANSUhEUgAABY4AAAFwCAYAAAAfRe+XAAAAOXRFWHRTb2Z0d2FyZQBNYXRwbG90bGliIHZlcnNpb24zLjUuMywgaHR0cHM6Ly9tYXRwbG90bGliLm9yZy/NK7nSAAAACXBIWXMAAAsTAAALEwEAmpwYAACEYElEQVR4nO39f5Bc5Z3n+X6eSqWghL0UcsvdKC0hrPEWYY2AajRITE1sNNrwVK8xTLVomtHCjY27E/ifuRtD46mNUrfiIibklm5UrLv3j9mNNTN9d26ANbJAzgWLGLVjRUfvapFsqUtytbqtdcuA5MRtaIvCtlRGRencP0qnyMw6z/l98vzI9yvCYfRUZdaTeU6ePOd7vs/3axzHEQAAAAAAAAAAroG8JwAAAAAAAAAAKBYCxwAAAAAAAACADgSOAQAAAAAAAAAdCBwDAAAAAAAAADoQOAYAAAAAAAAAdCBwDAAAAAAAAADokFng2Bjzp8aYd40xfxXy93/PGPPXxphzxphvZDUvAAAAAAAAAIA/4zhONk9szH8h6ZeS/n+O4/zDgN/9nKRvStruOM77xphPO47zbiYTAwAAAAAAAAD4yizj2HGcv5B0uX3MGLPRGPOfjDGnjTH/hzHmrhs/ekrSv3Uc5/0bjyVoDAAAAAAAAAA56XWN469L+u8cx7lP0r+W9D/dGP/PJf3nxpjjxpgTxpjf7vG8AAAAAAAAAAA3rOjVHzLGfELSP5Z0yBjjDt/UNo/PSfotSZ+R9BfGmM2O48z2an4AAAAAAAAAgEU9CxxrMbt51nGcez1+9mNJJx3HmZf0pjHm/9ZiIPl7PZwfAAAAAAAAAEA9LFXhOM7PtRgUfkySzKJ7bvy4qcVsYxljfk2LpSt+1Ku5AQAAAAAAAAA+llng2BhzQNIbkoaNMT82xvwLSU9I+hfGmLOSzkn6Zzd+/aiknxlj/lrS65ImHMf5WVZzAwAAAAAAAADYGcdx8p4DAAAAAAAAAKBAAjOOjTHDxpgzbf/7uTHm6R7MDQAAAAAAAACQg0gZx8aYmqSWpK2O47yd2awAAAAAAAAAALlZEfH3/0tJF4KCxr/2a7/mbNiwIfakAAAAAAAAAADZO3369N87jrOmezxq4PifSzrg9QNjzJclfVmS1q9fr1OnTkWeJAAAAAAAAACgd4wxnknCgTWO255gpaRHJB3y+rnjOF93HGeL4zhb1qxZFqAGAAAAAAAAAJRE6MCxpP9K0l86jvPTrCYDAAAAAAAAAMhflMDxTlnKVAAAAAAAAAAAqiNU4NgYc4ukL0g6nO10AAAAAAAAAAB5C9Ucz3GcK5I+lfFcAAAAAAAAAAAFEKVUBQAAAAAAAACgDxA4BgAAAAAAAAB0IHAMAAAAAAAAAOhA4BgAAAAAAAAA0CFUczygaprTLU0dPa93Zue0dmhQE2PDGh9p5D0tAAAAAAAAoBAIHKPvNKdb2nV4RnPzC5Kk1uycdh2ekSSCxwAAAAAAAIAoVYE+NHX0/FLQ2DU3v6Cpo+dzmhEAAAAAAABQLASO0XfemZ2LNA4AAAAAAAD0GwLH6DtrhwYjjQMAAAAAAAD9hhrH6DsTY8MdNY4labBe08TYcI6ziiZscz+aAAIAAAAAACAOAsfoO27gtKwB1bDN/WgCCAAAAAAAgLgIHKMvjY80Shs89Wvu1/6awv4eAAAAAAAA0I0ax0DJhG3uRxNAAAAAAAAAxEXgGCiZsM39aAIIAAAAAACAuAgcAyUzMTaswXqtY8yruV/Y3wMAAAAAAAC6UeMYKJmwzf3K3gQQAAAAAAAA+TGO46T+pFu2bHFOnTqV+vMCAAAAAAAAANJjjDntOM6W7nFKVQAAAAAAAAAAOlCqArlrTrcopwAAAAAAAAAUCIFj5Ko53dKuwzOam1+QJLVm57Tr8IwkETwGAAAAAAAAckKpCuRq6uj5paCxa25+QVNHz+c0IwAAAAAAAAAEjpGrd2bnIo0DAAAAAAAAyB6BY+Rq7dBgpHEAAAAAAAAA2SNwjFxNjA1rsF7rGBus1zQxNpzTjAAAAAAAAADQHA+5chvgTR09r3dm57R2aFATY8M0xgMAAAAAAAByROAYuRsfafRtoLg53SJoDgAAAAAAgMIhcAzkpDnd0q7DM5qbX5AktWbntOvwjCQRPAYAAAAAAECuqHEM5GTq6PmloLFrbn5BU0fP5zQjAAAAAAAAYBGBYyAn78zORRoHAAAAAAAAeoXAMZCTtUODkcYBAAAAAACAXiFwDORkYmxYg/Vax9hgvaaJseGcZgQAAAAAAAAsojkekBO3Ad7U0fN6Z3ZOa4cGNTE2TGM8AAAAAAAA5I7AMZCj8ZEGgWIAAAAAAAAUDqUqAAAAAAAAAAAdCBwDAAAAAAAAADqEKlVhjBmS9O8k/UNJjqT/1nGcNzKcF5Cp5nSL2sIAAAAAAACARdgax/+jpP/kOM7vGmNWSlqV4ZyATDWnW9p1eEZz8wuSpNbsnHYdnpEkgscAAAAAAACAQpSqMMbcKum/kPTvJclxnGuO48xmPC8gM1NHzy8FjV1z8wuaOno+pxkBAAAAAAAAxRKmxvGdkt6T9P81xkwbY/6dMeaWjOcFZOad2blI4wAAAAAAAEC/CRM4XiHpNyX9z47jjEi6Immy+5eMMV82xpwyxpx67733Up4mkJ61Q4ORxgEAAAAAAIB+EyZw/GNJP3Yc5+SNf7+kxUByB8dxvu44zhbHcbasWbMmzTkCqZoYG9ZgvdYxNlivaWJsOKcZAQAAAAAAAMUSGDh2HOfvJF0yxrhRtf9S0l9nOisgQ+MjDe3bsVmNoUEZSY2hQe3bsZnGeAAAAAAAAMANK0L+3n8n6UVjzEpJP5L0/8xuSkD2xkcaBIoBAAAAAAAAi1CBY8dxzkjaku1UAAAAAAAAAABFEKbGMQAAAAAAAACgj4QtVQEA6KHmdEtTR8/rndk5rR0a1MTYMOVVAAAAAABAzxA4BoCCaU63tOvwjObmFyRJrdk57To8I0kEjwEAAAAAQE9QqgIACmbq6PmloLFrbn5BU0fP5zQjAAAAAADQbwgcA0DBvDM7F2kcAAAAAAAgbZSqAHJA/Vr4WTs0qJZHkHjt0GAOswEAAAAAAP2IjGOgx9z6ta3ZOTn6uH5tc7qV99RQEBNjwxqs1zrGBus1TYwN5zQjAAAAAADQbwgcAz1G/VoEGR9paN+OzWoMDcpIagwNat+OzWSlAwAAAACAnqFUBdBj1K9FGOMjDQLFAAAAAAAgN2QcAz1mq1NL/VoAAAAAAAAUBYFj5K453dLo/mO6c/KIRvcfq3ytX+rXAgAAAAAAoOgoVYFcuY3i3Jq/bqM4SZVdpu++rqmj5/XO7JzWDg1qYmy4sq8XAAAAAAAA5UPgGLnyaxRX5UAq9WsBAAAAAABQZJSqQK5oFAcAAAAAAAAUDxnHyNXaoUG1PILEWTeK292c0YGTl7TgOKoZo51b12nv+OZM/2a75nSLUhXw9cTzb+j4hctL/x7duFovPvVAjjMCAAAAAAD9hIxj5CqPRnG7mzN64cRFLTiOJGnBcfTCiYva3ZzJ7G+2c+s6t2bn5Ojjus5VbwqI8LqDxpJ0/MJlPfH8GznNCAAAAAAA9BsCx8jV+EhD+3ZsVmNoUEZSY2hQ+3ZszjT79sDJS5HG0+ZX1xmQtCxoHDQOAAAAAACQNgLH6DtupnHY8bRR1xkAAAAAAABFR+AYucqjbEPNmEjjabPVb866rjMAAAAAAAAQFoFj5CqPsg07t66LNJ62POo6V1FzuqXR/cd05+QRje4/Vqka0aMbV0caBwAAAAAASBuBY+Qqj7INe8c368lt65cyjGvG6Mlt67V3fHNmf7NdHnWdq6bqDQZffOqBZUHi0Y2r9eJTD+Q0IwAAAAAA0G+Mk0Fd1y1btjinTp1K/XlRPaP7j6nlESRuDA3q+OT2HGaEMmC/AQAAAAAASIcx5rTjOFu6x8k4Rq4o24A4aDAIAAAAAACQLQLHyBVlGxAHDQYBAAAAAACytSLvCQDjIw0CxYhkYmxYuw7PdDRWJFMdAAAAAAAgPQSOkbnmdEtTR8/rndk5rR0a1MTYMIFiJOLuP+xXAAAAAAAA2SBwjEw1p1sdmaGt2TntOjwjSQT5kAiZ6gAAAAAAANmhxjEyNXX0fEc5AUmam1/Q1NHzOc0IAAAAAAAAQBAyjpGpd2bnIo33m6zLeFS5TEiVXxsAAAAAAEDeCBwjU2uHBtXyCBKvHRrMYTbFknUZjyqXCanyawMAAAAAACgCSlUgUxNjwxqs1zrGBus1TYwN5zSj4si6jEeVy4RU+bUBAAAAAAAUARnHyJSb/UlJgeWyLuNR5TIhVX5tAAAAAAAARUDgGJkbH2kQKO7SnG5pwBgtOM6yn6VVxqPKZUKq/NoAAAAAAACKgFIVQI+59Xm9gsZplvF48K41kcbLhBIoAAAAAAAA2SLjGOgxr/q8klQzRvt2bE4tO/v1H7wXabxMKIECAAAAAACQLQLHQI/Z6vBed5xUA59VrwNMCRQAAAAAAIDshCpVYYx5yxgzY4w5Y4w5lfWkgCqz1eFNuz5vr/4OAAAAAAAAqidKjeMHHce513GcLZnNBpXUnG5pdP8x3Tl5RKP7j6k53cp7SrmaGBtWvWY6xuo1k3p9XuoAAwAAAAAAIC5KVSBTbiM4t6Zva3ZOuw7PSFJ/lxno7ou3vE9eYtQBBgAAAAAAQFxhA8eOpD8zxjiS/hfHcb6e4ZxQIV6N4ObmFzR19HzfBjCnjp7X/PXOSPH8dSeT94Q6wAAAAAAAAIgjbOD4nziO0zLGfFrSd4wxP3Ac5y/af8EY82VJX5ak9evXpzxNlFXVG7TFwXsCAAAAAACAogsVOHYcp3Xj/981xnxL0v2S/qLrd74u6euStGXLlgwW3qOM1g4NquUREO3nBm1pvCfN6Vbfl6DgPQAAAAAAAMhOYHM8Y8wtxphPuv8t6Z9K+qusJ4ZqoEHbcknfE7dudGt2To4+rhvdT00HeQ8AAAAAAACyFSbj+NclfcsY4/7+NxzH+U+ZzgqVQYO25ZK+J0WsG93r7N8ivgcAAAAAAABVEhg4dhznR5Lu6cFcUFE0aFsuyXtStBrJbvavG8h1s38lhX6NUQPPRXsPAAAAAAAAqiawVAWAYrHVQs6rbrRf9m8YccpOFO09AAAAAAAAqBoCx0COmtMtje4/pjsnj2h0/7FQNXqLVjc6afZvnMBz0d4DAAAAAACAqglT4xhABuKWeCha3ei1Q4NqeQSJw2b/xgk8F+09AAAAAAAAqBoCx0BOkjR4K1Ld6Imx4Y4AuBQt+zdu4LlI7wEAAAAAAEDVUKoCyElVGryNjzS0b8dmNYYGZSQ1hga1b8fm0EFdyk4AAAAAAAAUDxnHQE6SlngokiTZv3HLTjSnW5SqAAAAAAAAyAiBYyAnSUs8VEnUwHPc+tBAUXEjBAAAAABQNJSqAHKStMRDP/OrDw2UjXsjpDU7J0cf3whpTrfynhoAAAAAoI+RcQzkiAZv8VSlPjQgJWuUCQAAAABAVsg4BlA6tjrQZawPDXAjBAAAAABQRGQcA8jd7uaMDpy8pAXHUc0Y7dy6TnvHN1t/n/rQqJIqNcoEAAAAAFQHGccAcrW7OaMXTlzUguNIkhYcRy+cuKjdzRnrY6gPjSqZGBvWYL3WMcaNEAAAAABA3oxzI1iTpi1btjinTp1K/XkBVM/GXa8tBY3b1YzRhX1fzGFGQO81p1uaOnpe78zOae3QoCbGhrkRAgAAAADoCWPMacdxtnSPU6qiYgg+hBO1NAKy4xU09hsHqohGmQAAAACAoiFwXCHN6VZH3dfW7Jx2HV5c7k9A4mNuaQSXWxpBEsHjHNSMsWYcAwAAAAAAIB/UOK6QqaPnO5qFSdLc/IKmjp7PaUbFdODkpUjjyNbOresijVdRc7ql0f3HdOfkEY3uP6bmdCvvKQEAAAAAgD5HxnGFvDM7F2m8X1EaoVjcLO9+LR3CSgEAAAAAAFBEBI4rZO3QoFoeQeK1Q4M5zKa4KI1QPHvHN/dNoLib30oBAscAAAAAACAvlKqokImxYQ3Wax1jg/WaJsaGc5pRMVEaAUXCSgEAAAAAAFBEZBxXiJudOHX0vN6ZndPaoUFNjA2Ttdil30sjoFhYKQAAAAAAAIrIOBnUdd2yZYtz6tSp1J8XAKqmu8axtLhSYN+Ozdz0AQAAAAAAmTPGnHYcZ0v3OBnHQI6a061YGeJxH1dUcV5PVd4DVgoAAAAAAIAiIuMYyEncTNOqZajGeT1Vew8AAAAAAADyYss4pjke+lJzuqXR/cd05+QRje4/puZ0q+dzmDp6viPwKUlz8wuaOno+k8cVVZzXU7X3AAAAAAAAoGgoVYG+052t2pqd067DM5LU02zVdzwaovmNJ31cUcV5PVV7DwAAAAAAAIqGjGP0naJkq64dGow0nvRxRRXn9VTtPfBShKx4AAAAAADQvwgco+8UJVt1YmxYg/Vax9hgvaaJseFMHldUD961JtK4VL33oFtzuqWJQ2fVmp2To8Ws+IlDZwkeAwAAAACAniFwjL5TlGzV8ZGG9u3YrMbQoIykxtBgqOZucR9XVK//4L1I41L13oNue145p/nrnY1L56872vPKuZxmBAAAAAAA+g01jtF3JsaGO2ocS/llq46PNGIFO+M+rojiZoBX6T3oNjs3H2kcAAAAAAAgbWQco+9UPVu1bIqSAQ4AAAAAAICPkXFcMc3plqaOntc7s3NaOzSoibFhAqIeqpytWjZFygAvittW1fX+1eXZxbetqucwGwAAAAAA0I/IOK6Q5nRLuw7PdDTU2nV4hoZaKDQywJd79uFNqg2YjrHagNGzD2/KaUYAAAAAAKDfkHFcIVNHz3dkbUrS3PyCpo6e7+sgnJd+ycwuy+uMkwFeltcW14Ckha5/AwAAAAAA9AqxiAqJ22Ss3/RLZnaVX2eVX5u0eBNo/rrTMTZ/3dHU0fM5zQgAAAAAAPQbAscVQpOxcPwys6ukqK+zOd3S6P5junPyiEb3H4sV7C3qa0sLN4EAAAAAAEDeCBxXyMTYsAbrtY6xfm8y5qVfgnJFfJ1pZQoX8bWliZtAAAAAAAAgb6FrHBtjapJOSWo5jvOl7KaEuNz6rlWu+5qGtUODankEGKsWlCvi67RlCv/B4e/rK988qwXHUc0Y7dy6TnvHN1ufp4ivLU0TY8PadXim473iJhDyUvV64gAAAAAAb1Ga4/0rSX8j6T/LaC5IQZwmY/3mwbvW6IUTFz3Hq6SIwUdbRvDV+etL/73gOEvbxxY8LuJrSxM3gVAU7ioB97PmrhKQxP4IAAAAABUXKnBsjPmMpIckfVXSM5nOCMjY6z94L9J4WRUx+GjLFPZy4OQla+C4iK8tbdwEQhH41RNn/wQAAACAagubcfwnkv57SZ+0/YIx5suSvixJ69evTzwxICtVr4/brmjBx4mxYU0cOqv5607g7y44/r9TtNcGVFE/HS8BAAAAAJ0CA8fGmC9JetdxnNPGmN+y/Z7jOF+X9HVJ2rJlS3BUCMhJkerj9mXtUBPu12om5C+i0PpyH6+QIh0vAQAAAAC9NRDid0YlPWKMeUvSf5S03RjzQqazAjI0MTaswXqtYyyP+rhu7dDW7JwcfVw7tDnd6uk8emnq6HnNL4S7r7Rz67qMZ4Os9eM+XjVFOV4CAAAAAHovMOPYcZxdknZJ0o2M43/tOM6T2U4LVZJ1xmHU5y9Kfdx+rB3qt7y9ZowWHEc1Y7Rz6zprfeMiIqvWWz/u41VTlOMlAAAAAKD3wtY4BmJxMw7d4JGbcSgplcBD3OcvQn3cJLVDixaoDDsfv+Z4v3Hrzbm/jjiy3sfLjPq41VCE4yUAAAAAoPfClKpY4jjOnzuO86WsJoPs7W7OaOOu17Rh8og27npNu5szmf49v4zDMjx/lmw1QoNqhxZt+X+U+Xgte3fl/TriKvM+mLW4+zgAAAAAAMhfpMAxym13c0YvnLioBWexxuyC4+iFExczDR5nnXFY5ozGibFh1QY6G8DVBkxg7dCgQGVzuqXR/cd05+QRje4/lnkgNkrgdHykoX07NqthCRyWMeBa5n0wa9THBQAAAACgvAgc95EDJy9FGk9D1hmHZc5oPPX2ZS1c72wUt3Dd0am3L/s+zlbqoTU7l0s2ctTA6fhIQ8cnt8t4/rR8Adcy74NZa79RYCQ1hga1b8dmyh4AAAAAAFAC1DjuI26msd942rVzJ8aGO+q/SulkHLrzbM3OyUhqf2VlyWj0C+T7NYZzm8h5jefRjMxWtzgocBr3cUWT9T5elDrWcVEfFwAAAACAciLjuI/UjHeOpzueRbZqFhmH7fOUFoPG7isrU0ZjmEB+1MflUTYhbjmCqpQxyHofL0IdawAAAAAA0H/IOO4jO7eu0wsnLnqOS/61apMEwdLOOPSap6PFgN3xye2p/Z2s+WUO+2lYMnUbQ4O68uFHmp2bX/azWwfr8ScaYHykoUOnLur4hY9LbPzm+lsDt7n7c7Jql8sjcxzISlWy5wEAAACg3xA47iNu+YMDJy9pwXFUM0Y7t65bGi9Lk6+yzDNIUCDfxq80wnOvnvN8TEAsOpHdzZmOoLEkHb9wWbubM74lN6TqlDFIOzBWlX0cxZBn4NbNnnePV272vKRKfPYBAAAAoMoIHPeZveObrcG8stScTWOeRciA23LHan3j5EW198cbMIvjfvwydX//4BnPx8xeXZ6FnJa4tZrb7W7OWG9o2BRhG7rzSDswtmplTVeuLXiOA1HkHbglex4AAAAAyosax1hSlpqzSedZlPqxz716riNoLEnXHVmzhtuNjzR0fHK73tz/kI5Pbl8KwNiC51kG/+PWanbtbs7ohRMXl35/wXH0womL2t2csT6mKNtQ8g+MxXXVI2jsNw7YZLF/RkH2PAAAAACUF4FjLMmiyVcWks4z70CK631LFrBtPAyvoLrRYmB1dP+xTAKrQU0Xg/hlLNsUZRtK8QNjzemWRvcf052TR5ZtG1vIPVwoHvhY3oHbPG5mAQAAAADSQakKdChLzdkk88w7kJKl9jIWrdk5GX0cbMxqiXrUWs3dJSbiZCwXaRvGKZ0SVD4gbuNElFdWpVfyLkHkV5MdAAAAAFBsZByj7xQlA25osB5pPCy3jEVjaHBZhmoWWbl7xzfryW3rl4KaNWP05Lb1njWKvUpM2PgFSYuyDaV4pVOCMqZtQfegxokopyxLr+RdgqgsK1kAAAAAAMuRcYzc9brJWVEy4PY8skkTh85qvq3QcX3AaM8jm1J5/l5m5fo1XWznFTC18QuSFmUbSv7NCm2Cts2WO1brGycu6nrbzwYU3DgR5ZRlA7k4+2fayrKSBQAAAADQicAxchW0ZD8LRQikuPM49fZlHTh5SQuOo5oxevz+danNI+8l6l78gtZueYaaMdq5dZ1vILoo27B9PlH+dtC2mTp6viNoLEnXb4wTgKuerG/yELgFAAAAAMRB4Lhiep29m1SWmXZ+ihBIaU639PLp1lIt2wXH0cunW9pyx+pU5lakrFyXLWDaGBrU8cntkZ6rCNswrqBtU6QazsheEW/yAAAAAABAjeMKybJOZlb6OUAWVOc2qbi1RZvTLY3uP6Y7J49odP+xUPtP2Mc8eNeaSONVFbRtbrXUubaNo9zyrkMMAAAAAIAXMo4rJK/s3ST6OdOuF0HzqFm5cUqHRHnM6z94z/M5bONV5rdtbH0BffoFosSKVnoFAAAAAACJwHGllDF7t4jlFHolSdA8q5IkcW4+RHlMGffRPMxenY80jvIrc+kVAAAAAEA1UaqiQmwBxyJn78Ytp1AFE2PDqg90ppDWB0xg0DzLkiRxArtRHkMJhnDK+FkGAAAAAADVQsZxhZQ1ezdOpl3ZmgDaXA/4t5csS5LEyYKO8hhKMIRT1s8yAAAAAACoDjKOK6RfsnfL2ATQy3OvntPCdadjbOG6o+dePef7uCzLPcRp0hWl4R0lGMLpl88yAAAAAAAoLjKOK6Yf6mSWsQmgl/ctwVLbuCvLhoJxmnRFaXjXz80Qo+qHzzIAAAAAACguAsdIXPah12UjqtBgLUl2dFAZg6TbI2rAMsr28Jq70WLW+Oj+Y5HmWpVyJQAAAAAAAEVE4LjPuWUf3ECeW/ZBUqggXNLHx1H2rFX3PbMZCmgU55cVXPTt0T731uycjCS3WEeUuebxOgEAAAAAAPoJNY77nF/Zh148Po44dXiLxOs9c9UHjPY8sinwOcZHGjo+uV1v7n9Ixye3dwRki7493Lk3hgbldP0s7FzzeJ1+mtMtje4/pjsnj2h0/7HS1dsGAAAAAADoRsZxn0ta9iGPshFx6vAWid978/j96xK9jjJtjyRz9cpw9hvPEtnPAAAAAACgiggc97mkZR/yKhvRXofXrXX7+wfPlCKIbHvPJOnl0y1tuWN17PkXYXuEZZvrgDFqTrd8n69mjBac7nzlxfFei9usMahGMzWcs8N7CwAAAABAMEpV9LmkZR/yLhvhZnu2Zufk6ONszyKXCnjwrjXWnyUtt5D39gjDLevg1jjutuA4gdvQK2jsN56lONnPQfttGffrsuC9BQAAAAAgHALHfW58pKF9OzarMTQoI6kxNKh9OzaHzr4bH2no0fsaS5meNWP06H3Rsk+T1IctWq3bML599ie+P09SViLp9owr7DZsD9pJWlbj2BW0DRuWDGrbeJYGLEnOtnEpeL8t435dFry3AAAAAACEQ6kKxCoz4GpOt/Ty6dZSpueC40Qqt5C0PmweNX2Tmp2b9/150rISSbZnHFG2oV9jwG5+GbsP3rVGL5y46Dnea9ct0W/buBS835Zxvy4L3lsAAAAAAMIh4xiJJM3eS/p4W5A165q+WSlaWYkwomzDKM3r/OoVv/6D9yKNF03Qflu1/bpIivreJll5AQAAAABAFggcI5Gk2XtJH1+Gmr7dbltV9xwfMOpJWYkgUQNYUbZhlOZ1fvWKi5Q1OjTovT1t41LwfmvLnM4jo7pqinjMoO4yAAAAAKCICBwjkaTZe0OWIKptvFteNX2TePbhTarXOgOo9ZrR137v3tznHSeAFWUfiNK8zq9e8a2WoKxtPEt7HtmkeldB4/qA0Z5HNlkfE7Tflj2jusiKeMyg7jIAAAAAoIiocYxEJsaGO+rbStGy92xxxAjxxZ7X9E3KnevU0fN6Z3ZOa4cGNTE2HOk17G7O6MDJS1pwHNWM0c6t67R3fHPiufkFsGzzi1JveGiwHljjWQreh+YXrkcaz9L4SEOn3r7csT0ev39dpO15+cqHeuabZ/T0wTOqGWMNsFOHNx2n3r6sv/vgV3Ik/d0Hv9Kpty97bq/mdCvR5zSsImXQAwAAAADgInCMRJIGQT+wBBFt41WRJNi9uznTEahdcJylfycNHscJYEXJjr32kXdjPCOpPVT6m+tv9X1/rlzzfh7beJbiNIjsbig4N/9xwNsvKzvvOrxVEPbzk7RxZxRrhwY963+zvQEAAAAAeaJUBRIbH2no+OR2vbn/IR2f3B4pqFLURlW9Eqch1oGTlyKNRxFne0QJNl+d984I7g6VHr9wWbubM9a/WSRxygx4PSZI3nV4qyLs56eX5SOKWHcZAAAAAAACx8hVkQImcYK4Sf9enIZYtozUKPWDbSbGhj3r9fptj6yC/984ubz8hStOQ7qsxMnSDluCoEh1eKsi7Oenl+Ujilh3GQAAAACAwFIVxpibJf2FpJtu/P5LjuM8m/XEUB5J6oCmUe83DWGWpadd7zROPWFJ1hq4NWOWzXNoVV2Os1j6I/ScTcC/u0yMDWvi0FnNX/94TkHB5jCu+8TB9zyyyfNv+jWky0qcMgO2x7QbCHjfEU/Q58fV6/IRZavVHkWvakUDAAAAANIVJuP4Q0nbHce5R9K9kn7bGLMt01mhNOJmzbZLUuoiLUHL0tN4nd3iZjTu3LrOOt49z/evzmt2bj70nKeOntf8QmdQbX7BsS7Pb063tOeVcx0BXEmBweakxkcamnrsno4MzanH7sll34mTNe/1mGUcpbq/YZHf56ddkVZDlFkWx04AAAAAQG8EZhw7juNI+uWNf9Zv/C/5mnhUQtys2XZFyEYLCuKm8Tq7xc1odBt4HTh5SQuOo5ox2rl1nfaOb9bo/mO+tXOD5hwlmN2dpd3ODTYn2Y6Ddf/7WkXJ0IyTNd/+GFvmcXc16KT7Gxb5fX7aFWU1RNllcewEAAAAAPRGYOBYkowxNUmnJf0DSf/WcZyTHr/zZUlflqT169enOUcUWNI6oM3pVkfJgdbsnCYOnZUk36BC2sHmoCBuFvVOJ8aGlwVeuzMaba9zyx2r9foP3tM7s3P6jVtv1pY7Voeej9/vRAlmBzV4S1oLdt+Ou31/XoQbDq44QWz3MRt3vRa6PnUW9XX70d7xzcsCxV6KcnOizHpZKxoAAAAAkK5QzfEcx1lwHOdeSZ+RdL8x5h96/M7XHcfZ4jjOljVr1qQ8TWQpSVO4MI3R/J7fq8zB/HVHe1455zvftJc+By1Lz6IBXFBDLNvr3N2csb7+MPPx+52JsWHVuorr1iz1ioMCP15/J2wFi3rN/zersPzd/VxEaWqYVX1dICtZNc8EAAAAAGQvVODY5TjOrKTXJf12JrNBz7kZv+0BuIlDZ0MH4IICrkEBvtm5ec/ntY1LwfWI4wgK4qZd79QNGv7+wTOSpD9+/N5l9Z1tr/PAyUvW1x9UOzdozqfevqyFrkD+wnVHp96+vOx3gwI/D961/AZS2BCpX11lKZt9oJfaPxdReL2nQJFRKxoAAAAAyiswcGyMWWOMGbrx34OSviDpBxnPCz0SJ+O3XVDANYsAX1ZLn/2a9AW9zijCZsvaXo8tQ/Wd2TmNjzT06H0N1cxixq4x0qr6QOg5Hzh5KfR4UJD69R+8Z/1ZGH7b0xZwjRqIzUtQmQ+bg9+9mMFsgOykeewEAAAAAPRWmBrHt0v6DzfqHA9I+qbjON/OdlrolTgZv9386oAGBXmNkbzioManUkHcpnJJpVXvNGyzKNvrrBnjGTxeOzSo5nRLB793aennjrN4I+CPH7831NxtQWmvcff5nr6RNd3Na9sPGOl6yLRjv+1pew9qfjtOgcS9yTHf3TEPKAFqRQMAAABAOQVmHDuO833HcUYcx7nbcZx/6DjOv+nFxFANQfUtbeVd/cq+ln3pc9iMadvr3Ll1nfX1P/fqOc0vdGWQLzh67tVwGeS2wKttfHykodtW1T1/NuQxHjZoHLQ9owS4i2jlikhVgnwlqVEOhME+BgAAAAD9KUzGMSrstlV1vX91eXaxLRgY1cTYsHYdnunIsE0a5G0vg/HO7JzWDg1qYmw4UkZbc7oV+fFxHuMlbMZ00Os8cHIxs7hmjB69bzGjz5b967WNvezcuk4vnFheDmHn1nXWx3xoKbnw4fyCdjdnOuYZ1m+uv9X3va0PeGff1tOLx2bqw4/SSR12y564ny+37IkkMjx9pPVZ7gfsYwAAAADQvwgc97lnH96kiZfOdmSp1mtGzz68KZXnTyPIa3veuM8RJxCSZvAkSjDd63U2p1t6+XRrKbt2wXH08umWttyxOtI8vOwd3yypMyi9c+u6pXEvVy31E67OX+8IQkfJBj5+4bJ2N2esf9dWsqHqpRw+9+lbOv4dtuwJPkYgNBr2MQAAAADoXyXJz0NWxkcamvrdezoaF0397j2pBgT8ms7lIU7DvjSb/CVtFuU3l6FBS9kIy7iXLXes1m/cerOMpN+49eZUAtJx2Br19bOr1zoj41k1iqyyLBp2Vhn7GAAAAAD0LzKO0XeNi+IEQtIOniR5z/3m8seP36uJQ2c131ZMuD5gtOeRcBnkRcrGLEu9Yil66YPPffoW/fDdK5H/Tve2z6tRZJkVNRBa1PIZ7GMAAAAA0L/IOEauGpbgg23claRZU1DDvrQekxWvpnPu+PhIQ4/fv26pnnDNGD1+/7pUspltotbDHjDqyLaOY3Sjdxa0bTxLbrC9NTsnRx8H2/32ye7M4bC6t33ZG0XmoUifZVecfahX0tjHaK4HAAAAAOVE4BiZ8wsaPHjXGs/H2Mbd50sSZIkTCMkqQLe7OaONu17Thskj2rjrNe1uzgQ+xpaI6zj2+sdh3xuvzEK/cUl66O7bPce76/G6/uut6ztKl9ha5vm10rtzzScijWcpTrA9bnZr97ZPUvakX4N5UT7LcT6fcYTZh5JsrySPHR9p6NH7Gh03o9xmnGH/dlGD4gAAAAAAf5SqQKZLpINKH7z+g/c8H2cbl5I3a4rTsG98pKFTb1/uaBoXJXjSrTnd0h8c/n5HY7kFx1lqJufXjG52bt46bntvnj54RlNHzwe+zpoxniUi3KCRF9u2+vtfXtOApPbc2gFpWc1kW0EKv0IVtvrHB05e8n3vshCn9IFt+b+0GPy1/cxr28cpe1KkkiS9FvazvLs5s6y5Y5jPZxxBN2ySbK+k29qvGWeYx9NcDwAAAADKi4zjPpd1NlhQJl1e9YajNuxLmsnb/Vy7Ds90BI3bBTWFswVxa8b4vgdhtq2trrBfvWHb33z/6ry6X+F1SXteOdeR/RhHnHlmJU7pg4mxYdUHOrdjfcDoTx6/V8cnt/tu4zT0c4O4sJ/lF9uCxmHGkwja3km2V9JtnfTxRa0pDQAAAAAIRuC4z/llqLpLmpMscw4KGpSl3nCagTav52oXFPz0C5oGvQdBcx4atNRPtoxL0d/32bn5jhsVccQpb5GVVSu9D6O28SXdk237d9aB8TglSaoi7Gc5TiZ8XEHbO0nwNWngNunji1hTGgAAAAAQDoHjPheUofqVQ2c1cehs7IzkoKDBxNiw6rWuzMua8a0dHKcuclJpZs0FBeeCskr9shO96rd285uz7U/7TclWM9Yv2ByG3/uwcoX3ocs2nqUfvnsl0ri0GLycX+gMFs4vOD3L+M06o7ld0WopFzEDNqhJaJLga9LAbdLH08ARAMqpaN/fAAAgHwSO+1zQxf/CdUfz1zsDXFEybUMFDbqT7QJS+uLURU5qaJUlE9cy7icoOLdz6zrfn/tlJ7Y3S7Px2+azVy31ky3jkr1B25fu8W6aF5Zfdu2HH3mX+bCNF03eGb+9KvVRxMZoYT/Lt6z0vgFjG08i6DiZJPiaNHCb9PFJGjgCAPJRxO9vAACQD5rj9bmJseGOxklhhc3OC2pEN3X0/LLA9Px1x7dxUh4Zg7Z4Wpw4m19w7slt6wMbb9map7nBYrdZWndTLCk44GNr2hZ0g8GrQVvS7Fm/4HfZGXnfH+lVqY2gfSgtRWyMFvaz/NXf2ayvHDqrhbbjU23A6Ku/k37zxaDjZJLmnHGagab5ePc5CBQDQHkU8fsbAADkg8Bxn2sPCkTJdoxSn9IvaBAnCGwLbjqSRvcfixzUCOODOe+MW9u4n9tW1fW+RwbvbavqgUFjyTvY7xUQjhPwCfvc3ZrTrWV/J2kg36/0yKr6gGdzwVX1ciyi6GX9XC8P3rVGL3g0eUu73EsRy0KE/SynETCNwu84aWvot+WO1aGDx0nmTeAXAPpLEb+/AQBAPggcYykocO9zf6bZEIHQNOtTxslwtQW9pI+X0klKNdARNxPXS9Ls5SgBragBnzjBsu7MZncb3DpYD7U/2fiVHlm5ouYZOF65Iv0yAr02uv9Y5n8j63Iv7o0E2y6dZ2O0KJ/logRMy5755XVjqQzzBoB+leZ5LwAAKLdypOehJ/Y8skn1ga5GdQNGT25bn6g+pV9zjYmxYXX9SQ0Y+Qamg4JbUWowh5VmgydbMDVJkLVd0mYm4yMNHZ/crjf3P6Tjk9sDg8Zf+eZZz6CWMQps1OfHL6sl6/cwT36Z/2llVGeZSdReF9FLfcC/+WXWNnzK+6LXNt4rfp/bMmd+UScTAMqHxqYAAMBFxjGWZLE025aN6v69U29fVleJY113pFNvX45c3iLq70TR62XrfvzeU0m+73cW87DVbH7/6rz+5PF7O96z2avXdOVauHraflktNWM8/25Q48EsDFkyq4cG7Y0TB+sDmvPImA5iUnp9WWYSeWXHduj9Jurwxo8uRxrvhaDjpC17/1affawoyp4tDQD9qEjnvQAAIF8EjtEh7aXZQUGDAycveT7uwMlL1nq/tqBX9++kLcp7k9bSbK/n8XtP3f/2+lnaJ/tBAcKaMcves3uf+zNJ4QLHfhmgtmC1X+PBrMwveAeAbeOSdHO9FitwHDboHmTDp7w/Q2lk3QbdtJlf8G9+mbXuG1VB470QdJy03S/I4T5JZGXOli4DyoAAyEpRyjUBAIB8EThGpoKCBn4BQFujO78ax1L8pXRpBnv9sgcHjHeQqrtkR3O6pYmXzmp+wVl6nvZ/d/MLxGQRpAkK3ntt2yjNBE/86H3rzxqWmweNHGrv2YK5fkFer+aIvWR7b/3e87DC3NghaNgp6Dg5a9lfbONpS3JspE5mdoK+a9L6GwSmAQAAgP5FjWNkyhYccMf9SgvYamH61TiOU4NZCleHc3dzRht3vaYNk0e0cddr2t2c8XyuoIzgm1Z4f+y6x5979dyyIPH8grMswOxaOzRoXboeZUn7E8+/oQ2TR5b+98Tzb4R+bDuvIG6UYJFf9vCDd62JNF40tm0YxK/8RRRZZmx71UXsRtCwU9BxMujnWUpao5g6mdkJ+q5JivrUAAAAAAgcI1NBAb6dW9f5Pt7rItgvmzGomZtN0AX47uaMXjhxcSmwtuA4euHERc/gsW1+7ritREH3uC0r1bakftXKAevS9dm5+VCN8p54/g0dv9BZ6/X4hcuRg8duYKi74deqlekccg6c9M44t41nyRbM9QvyximLUB8w2vPIpugP7LHxkYb27di8dOOge5ckaLjcxNiwZ2NS933KM/iaNDjZvj/EbbAKb1mXAck6MA0AAACg+ChVgQ5xlqX6PcaWHeyO7x3frDff++WyYGW7XixrD7oAj1KLOa/GbT9894pv37Ewy5ht28Fv+3jZt2PxPeleRp0WS7UO63iW9jyySROHzmq+LRqcNMhrJH36kyv1019cWxrb8GurShNsa6+LWOal7j2de/eHt+3feTYpokZxcWVdBoRtDwAAAIDAMZZ41Uv8/YNn9PTBM2pYAhVBNRaDLjyb0y395cUPfOc1tCqd5fl+gi7AoyztT6sMwNBgXbMRagJLwfVl02yUN7pxtWdAeXTjao2PNDS6/5hv87yqyCKo50gdQWNp8cbAE8+/oRefeiDJdCX1tkZ0WZvr9KJ+rGvq6HnPsjTtn9W83seb6wOeqyRurodbPdDL97HfTIwNd7y3UrqZ6NSnBgAAAECpCizxWpbqhjJstQ2DlrIG1eb0eny3FMquBgpaCm7LFvYatwXfwgTl2ktffOme2wN/v9vE2LDqNf/M5rSyxV586gGNbly9bPytn82pOd3qq6y08ZGGjk9u15v7HwpVLiVu7nnUzG8br/2kXjN9UUIi7Oezl8v0i5zZ+eFH3qV1bOMut0zN0wfPUO4gI1mXAaE+NQAAAAAyjrEkKEgxN7+gr3zzrKSPM8WCAh4P3rVGL5xYXnfWrXEcJjDyQcSs2ziCska3ffY2z6Ddts/etmwsSRaY+17tHd9sLfMxIMkrZPO5T9+y+B8BgXa/bDG/LGIvLz71gJrTLT198MzSWGt2Tk8fPKPbVtWtdZr7XZr3QmKXU+ieRA5lPvIQdExyRQ3mJilrUeTMTls9br863d1Zxl7SLF3Tz7LMRM+zRAoAAACAYiBwXDFZBC/aLThOxzLjoIBHUI3jW0OUY2gPnjSnW9YawkmX2ftdgJ975xehx4Mutm1lAlwvnrioveObrQEqW57fe7+4trjk3SeiExTAfvGpB5Y1yBvduNq3PMIzbUHjdu9fnddgvdYX5SryErcMgNd+Mn/dSa2MSZEd+f5PrOPt9cqHLDc+vErnJC3HsOFT3seEDZ/KP3Acp2Z7mJUkKIeylpoBAAAAkA4CxxWSNHhhy8Tr1l4nd2JsWM8cPNMRzByQloKTQVl7Qf3i2gOd7uvzCmJkvXzWFty2jftdbAe9z+6rCxPI756LX3a2rU61q/2mQ9DvunY3Z6yBbGmxSV57AL2qWYa7mzM6cPKSFhxHNWO0c+u6ZU0Twwq6sdDOr5yC37azPX+Zt0/YbWDLgu8e/5Ul8Ok1Hnc7uE786P1I4720c+s6z+PVzq3rrI8pQokNAAAAAEByBI4rJGnwwpaJ58UNDJx6+/KywOH1G+NhMpJnfUoZdAcvbVlsNWNSreuYBq/Mb2nxNYQNzk2MDWvi0NmOzND6gPHNKLa9342hQR2f3O4736g3HXY3ZwJvNHQH0DdMHvH9/TLqfh8WHKej5IgXI+/KEEbS8cntod+nuLVx/f5+GcXZBkG8GsLZxpPWKE6roWYW3Pcvyo2RKt8kAgAAAPpFkhXtqA4CxxWSNHgRpR6tG/g9cPKS588PnLykveObF4OfL53V/EJb8LOtCVeUQKftdfQiuDJgvGt6DnhE2ryCsBMvnZUc+QZ9PXU/v5FuWVnTlWvLA+i3rapr1Urvfpe2cVecmw4vhshO3/rV7+inv7gW+Hu9lPaXX9BnwMsT29Z7Bt2f2LY+0t+OWxvXthfmH6aMx7YvumVfslbkGsVp2Du+OdL76FXnHQAAAEB5JF3RjurwjyahVGxBirSDF+1lIUJlyvk04YrStd3vdUwcOqvmdMt/4glEaRDlFYSdX3AiB42njp7vCLi7z3Pd8p4/dPft+uG7Vzx/9sN3r2h0/zHrexTnpkOYV1PEoPHES2fVmp2To4+D+kn2nTjZoid/9LNI4zZRPj9VFiUQvqpuubnSNX6bRy1j23jVt0NzuqXR/cd05+QR3+OIa3ykoX07NieuO4/8Rd32AAAAqAa/5DL0FwLHFRImeOF3ETg06B0oWVUfUGNoUEaLmcBRykL4NeGSFgMMj97XWGq0VDNGj97nXR/Y6/W1P+fTB89kdmFrC4B4jSet7+lmMduex7aE3taI0OXeIfR6f2xB+QFjKhUoeO7Vc57B+OdePdfTefgF+KNoD9BF+XzaSlKUtVRFFDdZjiHd488+vEn1Wuc7Uq8ZPfvwpmWPjbsdosgrgBf3Zsv4SMO3PA6Kz80yad/2tu8QAAAAVEvSFe2oDkpVpKQItV/aawF7zSNoqcGeRzZ51tT9ox13x34tQQeb5nRLL59uLWVnLjiOXj7d0pY7Vi/7m+6/nz54xvr3lspCyH/5RNTt5bX02i8zOkl9T/ftj/o8YQ7gtvITtqXlC45TqeUoYRuj5Wl0/zHdtGJAH360/AbBLSu9g55R/eONq3X8wmXP8TKylW/xer/C7gNBx9Nufg0xk8pzmZjfzZYqHBNgl7RvAgAAAMqr6uX4EB4ZxykoUlaOm+X15v6HdHxye8fFXdBSg/GRhqYeu6cja27qsXsSXSAGlc+IuvwhzFyCMkjjbK8oGYVemdH1mlHdqyCyhxvJ15oYG172mPqAsS6hD3sA9wowu6/Pzfxux3KU3mrNznkGjSXp3nW3dvw77rHnrZ9532SwjRfdV39ns2pdn5XagNFXf2d5XV7bx9Br3O942kt5LhNLerMlymoNFAtZJgAAAP2r6uX4EB4ZxykoS1ZOmIvAqFlzq+oDuupROsGtFxrUHM+WUeuXaWvLLmznF9Swba89r5zzzS4M+97YMhXdsaAs4o7SuB7N8R66+3Z948RFtb/rA1p8r/2ysV1DlsDz+EhDv295vNe+Y8uKLbKhwbpm55bvG7YyLUVz4kfvd/w77rEnzueuyMZHGjr19mUdOHlJC46jmjHaef86z/cgSr3yoihzAO/Bu9Z4NoJ88K41OcymeIqwWsmGLBMAAID+FXUFJqqLwHEKynJRn8VF4B/tuFvPfPNMR9BlwCyOL/FpjhfHXEDQOIhtu8zOzS8FFZMuBbcFmcdHGrr3uT/zDF52szXHe/n0j9Udrr0u6dTbl1Uzxrcpm9QVmO7it490BzjKFjSWZC3HsueR5XVri6h725bl2JO1KCVviqhh+dy5WblDq+qeN8NsN4GK5PDpH1vH944vzwjvJ0XvVB2lRBMAAACqJ8tyfCgPAscpKEtWTpjMr6jZT0F3ofya48U9AIUJV7oZz17C1g7uztxMKzPMoxpEB7cURdTmeAdOXtLOres8t3G7D3yC1qtWer9vHy0sLAtw9FL3ex/nMd37ZRXumpY5oJimKJnXQask2vUqGzQoQGe72RNwj6gQ2axe77XfeD8p+mqlqh0vkY8iHIcAAAAQH4HjFEyMDXtmMRYtK+f1H7znOx43+8nvLlRQRqQtQ9ar1m4UK1fYm4jZGsF5aW/il1ZmmF8ZjXrN6NmHF7NfozbHW3Ac7R3frDff+6Vn4zPXzT5B9R++e8Vz/Ke/uBZ6Hmnzeu/jPKZ9e1XlojVuQDGrz11eomRer1xR8wxadh8zepkNGhSgs93s8bsJVPRsVpRjxUCVjpdlULUgK8chAACA8gtsjmeMWWeMed0Y89fGmHPGmH/Vi4mVjkct2qIJukiN24CpOd3S6P5junPyiEb3H+tozBXUHG/bZ2/z/LltPCy/gMr4SEOP3tdYCpLVjNEtK70DzXGb+H3ha3+uDZNHlv73ha/9eah5b/jUqqWLqYmxYc+GX36a0y298SN70Hhx3uXI9HMPTl7vfZBeNhOzNSv0Gnc/K2mJE1CUpJ1b10UaLzpbhrXXuK1MTPd4ng3pugUdR70Uaf7wFme7orqK1Gg5LRyHAAAAyi8wcCzpI0lfcRzn85K2SfqXxpjPZzutcrHVoi3aiXHQRWqchllBFzpBnTjPvfMLz+e1jUuST8LsEr+sWq96qNc+uq56rTMo2z7PKJlhX/jany/L3P3hu1dCBY9/+O4VPfH8G5IWaxYvdJX56P53tz84/P1CN/mKwg1vx8m+62Xzt8/f/slQ4+2flbhWdu2jt1qa+tnGXW++98tI40X3K8uNBa9xW1Z193gv96Gg46itkZxfg7kyZLP2uzjbFdVVxSArxyEAAIDyCwzBOY7zE8dx/vLGf/9C0t9IYn1Zm7KcGAcFccMGVNoFXeiMjzS0b8dmNYYGZbTY7Gnfjs1LWbVhs//ahenJ5te4zWvO89cd3bJyhXWeUTLDbOUebOPd3DITB05eCvX77bKsG9p9sBiQNLpxdWZ/zxUn+85vX/bLkI/jxI/eDzUeJ3O62+/9o86MYNtHM6jihK2UiV+JkyKzZdF7jduaR3aPxzkexhV0HA0qM+SFbNbii7NdUV1lOZeMguMQAABA+UWqcWyM2SBpRNJJj599WdKXJWn9+vVpzK00ytIcL6iOpl9AZeOu17TgOKoZo51b12nv+GZJ4S500q6RaGsI1s4v69Y25w/m5nXm2X/q+bOJsWFNvHS2I7O8Xsu2jrVte9gYSWEeETfs1R2Cuy7pxJveQdM0RalJ7fLbl9Outxg2EJnGxf/h0z9e+uxJ0qzlc2Abx2JQ3WuTdceDw27XNAQdR+NkPwc13AtraLDueSNvKCCrHcF6mdUe1+7mjA6cvOT5/Y90leVcMoq0jkMAAADIT5hSFZIkY8wnJL0s6WnHcX7e/XPHcb7uOM4Wx3G2rFnTX8ssgzJ5i2R8pKHjk9v15v6HdHxye0ewrOFzcdJe1uGFExe1u7kYbMsjm+TDEAFEv6zA2HPujhdlXBIiamZj2On8g0/fEn0yFkGlM9LglbUexPY7NWNyWwqcxmeiO6O8DNlcaWd4e7HVKPcaD9tQ0LYPhdn/oopbcsRP0GqPsL50z+2RxhFeL7Pa49jdnNELJy5av/+RrjKdS4aV1nEIAJLoxbkoAFRZqMCxMaauxaDxi47jHM52SuVTlRNjr4sWG7eMQh4XOmHKMfg1+Yoz56mj5zXfFSSdv+5dx/rXP7nS8zn+s5tqkRqjxWlUZgugtfvb9+wlM3pReiKsJ7d9vHKh+4ZHENs2tmWL9mIpcJTPV5LnLEKgwT1B3zB5RL9/8EzmzZ7qNe+vMtt4GL18b+OWHAnid6MwrG+f/UmkcYTXy6z2dmEvoG3lkuKUUeqlsgQIuucpqRLnkt3SOA4BQFxVbDwKAL0WWKrCGGMk/XtJf+M4zteyn1I5pV2OIQ/jIw2devtyx7LUoAvboPIX0uIXtt/Ps7DlDnsANMycu0WpPfjhR97v2c8/XNDPPwwfoHSXA3cvE3759I89a7cO1gd09VpwNrZfTOKxLes969wOGP/yH2l7ctv6juXQ3ftQENs2njp6PrelwN2fr7SeU4q2L2fNPUF3M7u7X6mb4Z3mHOPUSg/Sy/fWVnrHHbcdi3uRmZrFextVHt8hvZBHGZDuz6dfuZ68AttJRHl9ebLNc9+OzaFujgIAwvHrI1Gk7wUAKLIwNY5HJf0/JM0YY87cGPsDx3Fey2xWJVSFC9vmdEsvn251LEu1CRuwaE63NHHo7FK2bmt2ThOHzkrK9iJuzyvnIj+/Xy3HKLUH0wyo7B3fvKye5JHv/8QzcHxzvaaF646uLcS7qG9Ot/SVb571/NlNKwasDciy0B7497rADsPrZs6pty/rhRMXl/3ug3dlX16n+/OVlqLdtArTBDDtGq5ZBVb/380Z/fzDj/e7pw+e0e8fPJP6Md52Y2bgxvR3bl3nud/GWZVQNmUJBMYxv+B9TLWNpyHKBbStbn4xCml4K0uAoCzzBICyq2LjUQDotcDAseM4/6eKfZ2Qu+Z0S185dHap3mtrdk5f6UFwNC1u0DtKMMcNWAQFhve8cs6zxEOcwG4UXsHb9tfZfkHcmp3TMwfPdDR/c2s5SovB2wfvWpNbwLGbX0O0sCHJ0f3HOgJfbnDGFtT81fx1Pbltfahs9DRMvPTxPhQmEBnW6z94L9J4mtJ8He3ab1oNrarLcRYbPeZ1AyvMiXjaXyhZZEbe/ex/Wgoat2tf5iilc4y3ZfO747bVB0FNytpvhrnK1uCsygG2K5YVIrbxNES5gF61suY5l1UhSiLlpSwBgrLMEwDKroqNRwGg1+IXgMSSP/zWzLImYQvXHf3ht4rfQMYN/AYFjd3MvZoxHWUE/ALDUjGWOUud9a2k5VlUtvwut5ZjlIDjbauSLTMOWqacRkO07vpeQUHNWwfr2ju+WRf2fVFv7X9IF/Z9MfTfimN+wdFzry7uQ3EvpHc3Z7Rx12vaMHlEG3e9pt3NGet+nnYGbK/+Rnfdtvevzmt2bj7XGm5h9sO0bzlk0cjOK2jcrldNFV1b7lit37j1ZhlJv3Hrzb7leKTljc1cURuc3bTC+zTBNp42AmzpivL9YSt9FKYkUrde1R0uQ8NQqTzzBICyK2o/EAAoEwLHKcgjaygtXoHfbkODdWvAoiiB4SBxsz3doEuUgOOzD29SvRY/p/JL99zu+/OJsWHVBzqfvz5gIp8AtQe+goIwXkunV9WzPXy49V3jXEh3B83aM8i99GJJRRb1aIP2614HNyXv/bMXfzOPi4JeBS/jNHb5xkn7/i6Fb3B27SPv22q28bTdarmRZhsvE9sxNMtja5TPSlrBzfYb1O7+O3HobCbB47IECMoyTwAou/GRhh69r9GRBPXofcUq8wYARRemxjEqpLuOb9BS7vqA0c9/Nb8UCI5ao/i2VXXPxk9xs3LjXmgmDfBEqaHq1VQrSrZpqLIJ3X82ZpzOfV+C5njl2kLkfScttjIhXm65sYQ6bFDM1YtXksX7FWa/7kU29TI9Lm40PtLQoVMXOxo7/ub6WzO/KLAF0NKseT+6/5jnNgwq1xDUzDLs/mj7rV61R7Pdb+lBX8BMNadb1rrxK1dkVwrCqwmu7QI6rRJNvSxZVdSGvXHmCQBIzquHz8unW9pyx2qOuQAQEoHjFJSlgYybhekKChw0hgb1/pUPNT8f/4Lvobtv97zwfOhu/6xayV6HN46owdtuUWuodjcs2zB5JPTfCprn1NHzmu9qgDe/4MTKLHUDXxNjwx0NqLxE2XfS9O2zPwn9u06Ixo55ySLYHma/9rq5keUxy2v/7BZUjiWq3c2ZjqCxJB2/cFm7mzOZ1vL1CqCl3czNb/smOaZlkQGfBa8bj37jZeBm4No+JR9YVuz4NXCN8rcPfvdSxwX0we9e8ryATqsmfK9XJvk1DC1Ss8WiNTYFgCqqcq8EAOgVSlWk4Ilt6yON5yVqFqYkXbVkRIW94Au68PQLXkStw+vHa1loFIOWpcO28W5xA2VedSHTqvnZvix2fKShfTuK2SwrSnDBtr8GuaUHzZ6yCGaH2a97HUQPsx8GlWOJynZs8xq3HXHihFEPfnf5TTG/C5ReCjo2uQ1O8xSm5q3tO6IsgW8vQSWivDLZbeV3wtaq9vvb7X0J2lWxvnRRPp8AgN6o4ncZAPQageMU7B3frCe3rbc2kCuKqAGkNJa4B9UGvmWl/y4YpQ6vHzcwGrVZlhub+NBSz9M23m3PI5sUtexrc7qliZe66kK+dNZa2zNM3cn6wGKArDE0qH07Nnfcae/nu+71WvaHwrSzbKXlddu8eO3zWZYfCLMfHvl++CzyMKKsCEjztXvdpyjKBcq+HXd7fsEbqTDfT2FqNkdd7VEGfjfDbPXqbTdHXjxxMVLTuSjZv2nVOLaVpkraSDaOonw+AQC9QTNSAEiOwHFK9o5v1oV9X9Rb+x/ShX1fLMRFebc0M7TCXvAFZYv9/MPgDOL2OrxJjI80dHxyu/7k8XtDB3Gf2LqYNW5LDguqIxr3dyXpuVfPeZaksGVdh6k7OX99MRP++OR2z0Bxj3uaZWJ0/7HI2aO2peFpuvZR+s0yu+u2dcuj2VKYLOj2MgNeWfVlVpQLlPGRhr72+L1LNw7cY+7aocGOBqdZcbdrWLasT9sxqQrHKi+2W5G2z7gbeA/bNNFP92fxwbvWpNLAzathbL1m9OzDm2LNM4mifD4BAL1BM1IASI7AccX4BWG2ffa2VP5GlAu+NLLF3Au6qA15bKaOng8VxP31T66MfQOgezs8ffBM5Oew1fC0ZTmHrTvpV7LkphXeh4Q8DxRRM3XdIEoUSYIGYUsfxC2j4cevfItXVnkvRMnud+uNphX4Sqr9MxtXLy9QVtb8o6fjI42l+bjH3F68x+3bNQqvrM80btoVjV/Qe+G6o+deXV42IuyN36CyC7abvqvqA8s+iy+fbunR+xpqDA1aV6qEMT7S0NTv3tPxPFO/e08uq1wIIABAf2k/L03yXQYA/YzmeBUS1PTlr3/yi1jPOzRY1y03rYjV+bthad4VpWSEGzCO0pDHKwDqdlIPG8z46S+u6Ynn39CLTz0Q+u+6f6d7O/RC2KW2fkH7X1mCm+mHPMPb88gmTRw661sTNIrBeq0j2FrmoIFtmxtJxye393YyEbgxsKI1LHE/q0k+s+68p46eD33MrA94l70YkHS7TwPEawFNCN159Po9jluPvl+yPoMOZV43DXduXefZaNaL33fBsw9v0sRLZztWs9RrRjfVa8v+7tz8gg6d+vHSzcrW7JwOnboYa78pSiO4OJ9PAEC5FeU7CADKiozjCglq+hK3C/2mtZ+MPaeJsWHPJapRAnVuwDhKDcLurNy4GXDHL1yO9PtSsiZ+SUQJuniVBGhOt1KpcZu28ZGGph7rzFZLor0mcM0YPXpfspPJPJc+D1myB23jvRDms+beu6De6CJr/Ncs3gCwJZuGSULN4z2O89y2Gzi2FQdZ1AzvlTjHsL3jmzW6MVyJEb9jjy37dzbkCpfjFy7rieffCD3vInLLVr25/yFr2Sakp2rliAAAAPoNgeOUFOHEOKsAwfELl5MtJe8OikSMTroBqCSBuF4Gc9PKMLYFRgbrA4mX2nZvRzfY1w9ePHFxKet6wXH08ulWos/rKkuDR9t4mmzJ43n2DQvzWXNLLKQVdE8SWE1bnPIbfuUYRvcfS7Sd87ixYWvg2S3MstEv3XO752Nt42UQpg54t+Z0S3958YPA3wvzXeAVOI1ysynODVX0p6KVIwIAAEB0BI5TUJQT414FCIJqKLabOnp+WYmB+etO6MdLH9d2jHOx7eplBmNaTQhtgZFH7/tMKrW62rdjXlnSYTSnW/rKobMdn68kumNtUfZnLz9890qk8SS69y1bU79eNPuzCfNZc0sspFVvtEgB9KCVH1El2d93N2f0kw+WPz7r8ixhD4Fhsj5tJYpeOHGxtNmLbr3FKMIco5PUbczzZhOqK+3jIQAAAHqPGscpKEqdzomx4Y7aulJngGDApNdQKGwgNo0saDc71H0v4zSaG1pVj1Wq43OfviXyY6I0/vNz5Ps/sY7vHU+nqYO7HYpcGuAPvzWjhQg7rq2utp9e1aFOqr3BZXO6pQFjPPc3R4uZqnnU7ly1sqYr18LdhKhivdGilN/Y3ZzxrIk7WB/IvClM3LJIXvzet+46/mUyPtKI9F0WdIxKWtc8z5tN8Of2ZyjjMbIox0MAAADER+A4BbYLul4Ho4KCMGl2oQ+bxbzWEsSLkgXdXg8y6sW261cxs2nf+8W1yI+JE7j0Ygu+vH91PrULSXc7xA2sZ8nNrg0bhEwij5IGcbz1s8X9qjnd0sRLZ31vUiQJqiXZv6JuryI1LGkMDS695rif4TSOeWk4cPKS5/i1j5zM3++a5YZGHEHHpjybKSYRNVM66D1Nun9F+Q6os1atZ4KaHhddUY6HAAAAiI/AcQpsF3RplSyIwi8Is6o+oKvz1z1/FtWDd60J/XteWW9hH9+9pHp3M14d3rmYr3s2RhbWxNiwnjl4Rum8095sF5JRudshbmA9Szu3rov1uDgBv6AYV1EyvtwsredePad5a0e1j8UJqpU9UJFEe8bmhskjsZ5jYmxYz3zzTMeNugGjTEtDeLEFGdMK6Mb523GEOTaVZcWAK6imvNe5Q9B72pqd04bJIxrduFovPvVA5DlF2WRTj90b+fkRT1FWtMUVtBIOAABkoyjXr6gG8kZSkOcFehRzH6UXyrTVnez28ukfRxpvVzNGj973cSDctvS6aE69fTnToLGk1GoGutsxbmA9S1vuWJ33FCQVp4a59HGWVpTs8KhLgqPWpNzdnNHGXa9pw+QRbdz1WqS/VUWHTl1ctrrjurM4bjOYQQpnng0DGylmE4Y5NuVxkzaJoHrFC44Tu37z8QuX9cTzb0R+nF+pCvf9rRmjJ7et56Kjh8pe6sGt5520JwMAAAivSNevqAYCxykYsnSQt43nJc04dtiLFttFf5hgwILj6OXTraUD3IsnwweNu+MIvQwr2JaIZy3OhWSRLz7/4PD3e/a3bltl/6wWqblP2Ez9dlGXBIcpvdOcbml0/zFtmDyiF05cXLpJltfNMtvnO49w4vELlyONS9LNlqafN60YiB0UHVzh/fXuONHLJEQ1MTbc05OLot2kDRLmuJvkBN9vX7PxO060f76/cfIiFx091Kumx1kaH2mEaoQJAADSUaTrV1QDgeMU5JnZlZchn0BbmtoPcFFiA92/mzSscMtK78CO13heQYw4F5K33ri5YXt9eUqrrEoYn7/9k9afFSnjK2ymvyvOkuCgIGz7HeyisH3iyhJOtGWQf/jR9djHE7/PT9YZB2FXXYzuP6Y7J4/Ezq51pZnh3Athj9Xt339pZlW7N37a3/uJsWENWm5gtLvu9PamXr/z2i6UegAAAH6KdP2KaiBwnIJZy0W/bTxLXheEWehlbLQIBzhbw68sGreFCRCkdSE5v7AY3qnX+vtQ4JehV6SML/ez4Jch3e43198aObsrKAgbtMwexZd1xsE3Qq4OCbN8Lky4NE4mfrtefW+6oszX/czHrfnezbZ0UdKykgI2vbyp1+8o9QAAAKIq0vUrqqG/o0UpKcoHM6iWTZqlM/zqIaat3w5wn12zSpI0utG7xu/oxtWpXUi6ge84TQB7Je/EfVuQZ/bqtZ4v2V51IzP8obtvD/X7xy9cjt1Q0qYIN3KQXJbbsbvGcxi2YHaYpwpTM98mjxpwUVYOuN9/e8c368lt6zvqDf/6J1d6Psb23SEFN1trLymAYqDUAwAAiIIVS0jbirwnUAVF6RoddEGYZumMXgVz03ofb1tVj9RQLImaMYnKVVx474ok6cWnHtAXvvbn+uG7V5Z+9rlP36IXn3pAu5sz+rsPfiVH0t998CudevtyZS8m8y43YAvyXLm2sJSp1ytXbwT6v332J6Ef842TF/X6D97r6Kjrx/ZZcbOc1w4NFqpMRd5G9x/reG8HjHfgdCDvOyBdinhDLm4wO0lzz6DvzSyE/fx0f//tHd+sveObO37nieff6FgxMbpxtV586gHrc7J0Eb1GV3cAAHrL/Z5N4/uX73FIBI5TkeYHM4mgC8I0S2ds+FT2QYdGiu/jQ3ffrhdOhG+ul0TSGsdu0Kk53dJbf3+142dv/f3VZYGCBceJ/doKFssqJL+ASq9LNrh7VpQM8evOx4Gq9mXpNrbPipvl/OBda6z7W9KbJmXU/d7asm3jZOFmpagZB3mWfwk7nga/z0l9QProukKfR/gFib3YbvwU8UYCys/N6He/K9u/g7joBAAgO+MjjcTftXyPw0XguEKCLgjTzBT8v2J0bY8qzaWyB7/bm6CxtBjwTuN93vPKOc13RZvmrzvWerwHTl6K/DcKFMsqrKpl2AYFu20Z1u647eeNoUEdn9yuDZNHIs2nSnex495IsGUpZyVO7euspR3M3t2c0YGTl7TgOKoZo51b1y3L1pXyCaT63VyZvy49uW2951zT4LdCqvuzCCSVR0Y/AABIB9/jcFHjOAV51Ej0ElTLJmkDoXZlCzj2spdPWtnYUesOx8n0DNOILy+3rKwF/1IPeH2uqiwoA9P289bsnEb3H4v0t5rTLT1z8EzHsfOZg2d6fuzMW6+zkY9fuKwNPWoE5yerhl+7mzN64cTFpWOiuyrDq973xNiw6rXO42C9ZjLNyPZrPCdJLwY0F0zSzM/WbE3SsvMYIClKoyCqXjcrBQDY2c4Hq3ieyPePPzKOU1CUOzHjIw2devtyR5bVo/d9vEQhSkOeIhjdf6yU2YcnfvR+Ln83TpmAopYVMJK++jvZZNxF5e5/v3/wTOlumMRx62Dd86bFrYPBNY6jnkTsOvx9dd/TuS7pmYNn9JVvng3MFu13K2vJbvzkvdwsrVUl3TfAbKsvDpy85L0fdX+wM/6gb/iU/yoG22G5Od3Sc6+e66hBHmcbei1dHN1/rOeld/pdlVZb2FAaBVGwJBoAisUWXyhy8lkcfP8EI+M4BUW5E9Ocbunl062OLKuXT7eW7pakOZ+0skH9Djl5ZW4nlTQYG/cwvHPrukR/t0iK9l3UT18Y1z7yDh6542muXLA1NbsuhcoWLZq4melDN4LyUXWXsonDvcmZh427XtOGySPauOu1RNt322dv6/i37RjsNT519LxnSaAs35M4pZ7cE1qvxpVpbMO4GaBkZ8RTlJVqWbN9X6T5PYLq8EvEAZJ44vk3tGHyyNL/nnj+jbynBJRClHPqMuP7JxiB4xTY7rj0+k6MbYd/+uAZje4/poEUp3PvultTeZ6gQ04ZP7BJt3uYw/CT29Yv/Z2aMZnWxMzDdUf6w28VK1B4a8zgXtlctQRz3fFvn/1JL6ezJE4N717wWvIf1Z5HNqke4wCd1jlbXsvG07o5MH1xtuPfUb6T87jxG2ezeX2/t3NLxYQJPHoFe4dWRT++5R38LHPQul8uUIJq5gPtKG2CLHQ3FZcWS3YRPAaC2cqrBZVdKxu+f4IROE5BUe7E+O3Yrdm5VOto9rIcQxof2HoP9/Skmb9h4s57xzfrwr4v6q39D+nCvi9WKmjsunKtWMumi5YFHSSrL/SotbfTUrU72+3GRxqaeuyejiB0UisiBKKLclMk7s2B7psdtmOw13hRbvwGCfM9GCZw25xuaeLQ2Y5g78Shs/owRpmKKMHPtIO8ttdRluBxv1yg9MvrRDpsJUwobYIkbE3FbeMAPhbUQ6sq+P4JRuA4BbdZMnVs41np5Y7dyyBOGq/r8fvXpzCTcPaOb9aT2+L/vQrHx0rNa4l4UT25bX1q9WOLomiBPFd3tmVc4yMNHZ/crjf3P5TKtvsowp3Cory1aX2vuMfgMKsyinLjN0jY78GgrNU9r5zzLM1hW2ngJ2xQMIvMZNvr2PPKuY6/W9SM5H65QOmX14l09EuAAgDKwtZUuWplHPn+CUbgOAW268teX3d67fBZ6VUQJ+4HtjvZzm9ZZBaZmVXMAO53RQ1cennhxEVtmDyS9zQCRfnslaGGd1BzsSIFrtq9f3W+EIG1ND9jYVdl2BKz0yztFNWgxxKZKDVh/bI501wxEDYomEVZBtvrcMfzLqMRpF8uUCbGhlXvauJZr5nKvU6ko18CFGkq8g0yANXQndxSxWMy3z/BVuQ9gSoIuoDpFXfHnjp63lqfcWiwrltuWrHUxfv9Kx/GyjTqbkaUhUaCLuPdyXZ+9SqPT24vRZCt36zqZX2REIqWgVgFGz416PnZ/PVPrtTf/3JeC46jmjHauXVdJW7GFLk7bxG6B+dxc8CWmJ1maaduRv51jn9z/dCysSg1YXuVzTkxNtzRgVryDn7mUUfaL1jt7t/N6Zamjp5fOh+Ke74RR/v5Wh5/v5cWuj5M3f8G2o2PNCr5OciCe4PMPdYV4XscAMqK7x9/BI5TUDPGM6iUR4aiu8N3n0xIixd0ex7Z1PGBaE639PTBM5H/zls/y74+Xa+W2mcRNKbhQnI77vtM3lNYEieDozz5ydEMmPSCarZa6X//y3ld2PfFdP5IBKP7jy0FcbLQHbjy4gaz8jA3v6DnXj3XEczKkvvdWaWbA2EEfXy86i6GrQkblLWa5ud3fKShU29f1oGTl5a246P39eak+7ZVdc/yQW6JML8yGs3plp579VzH4/MIuIS9QEkzwN3rYPlzr55btr9ddxbHuTgDkglzgwwAgDQQOE5BEWskhs1mOfV2vMYAWWYKFdHQYN0zg3zIo6mUV/deRPftsz8pRCCpOd3SxEtnIz+uqjlVaSaLFe3Y6R7Xsjy++QUAvW74xRWU1Wrz/tX5pYBalu/DLStrOvdvfjuz5w+rPiB5Lbop2IIHrR3yzs7vXkXkBo3bb4K0f/en+fltTrf08unW0ud1wXH08umWttyxOvOgxedv/6Tn9+znb/+kpMWGj17f2YP1AetnrIgBlzQzCvPITrT1BihKz4A8s86BpGg+CQDoFQLHKWhYLuiyqJ0bhVc2S/dJctzAQNhs6iTZ2KP7jxXmJH7PI5s0cehsRzOe+oDRnkc2Lftdgsbp6HWpF5vnXj2n+YWqhoGRlO34b+OXxeuVPRRX0ffYK9fSeZ02YQNCH1neKNt4XmxlIbxWEfkFB23fyXHkme1mW63gjttOMeY+uu7bfyLrgEvUQGWa7zHZiZ1Y5h+MwHqx2a7jaD4JAEhbwXJqysnWtCZKM5u0+DVJ8GoWE1fYC09bzcowtSyL1MxmfKSh++/srOt8/523ZXICXaYmbL2wspbv+xE3MyqLWRctCxLRBJUR6KcsoSyPc1EaoxWluW2QsE07ghrRpZnNn2e2W9BqBdtxO+jlZxlwidOwL833mOzETlk0baySojeYRP802UxqdOPqSOMAgOUIQ6TA1rQmSjObNLhL6ttP8iZeOrt0kpdmNlvYi/6945v15Lb1S79fM0ZPblsfugRBWifxSUMUu5szyzKJj1+4rN3NmYTPvBxN2Ba5u1htoJyB9Cy2Yow+lshYlBtwfvVfdzdncs0SrhmjwR7emVhwnMw6wUcJCNmOLuU86gQHB73KK8VlC7J2j8e9aH/i+Te0YfLI0v+y7h2QdcAlTqByaJX39rKN+wm7vfoFgXR/BNaLL+wNxX5355pPRBoHACwXeJVojPlTY8y7xpi/6sWEyijNk0+/jOEgXkvq5xccPffqudjzsYkS3Nxyx2r9xq03y0j6jVtv1pY7Pr5YDHNxnsa8kwZkDpy8FGk8a0n2k7Jwd7E5oqWVZcsmzzvLPCsvn255flZ3N2f0womLqf6tVRGDwAuOo2s9LsnScZPz0NnUjmNRvpPrln3NNh7W7uaMNu56TRsmj2jjrtcS32QMm/13qyUw7I6nmegdNtvt3Du/8Hy8bVzy7hVw/MLlTIPHWQdc4pwrppkRT3ZiJwLp/gisl8P4SEPHJ7frzf0P6fjkdoLGHl486X1+ZRsHACwX5sryf5WUfwebAlu1shZp3CbpsrCgJiRpngzfFjLbpTnd0tMHz3S8pqcPnll6TWGufeJk1qStaE28WD7YO2klPFOBZLk7PrXKc/y2VfVcboy0r4zIgi1bK4sbUFdj3HBZSLNzWkTz1x3teeVcKs8VJSBkC5YnCaK7NwLam8a9cOJiouCxLfvvK9/sDLjbdl13fDbFpmRhs91s9er96tjbegVk1UOgMTSYecDFdi7jSNbj3AeW98g27md8pKFH72t0HOf8VkFUHYF0fwTWy6EfEkmSKktJKgAossDAseM4fyGJbl8+rlqa/NjGbbJeFuZ1khxX2C/biUNnIo0n+VtVYwvOGyOWD/ZQWrE06gIt98N3r3iO//QX15bdGNndnMn84qg90JcVr2ytLP5eGWulp9UQM++AUBYrVGxZfguO03Hj0BYYns3gBnJZdR+LB6Se7Bu/8ikVFjeDPIrmdEsvn251HOdsqyD6Acv8/U2MDS9beVGvGQLrBRKUnAMAQFpWpPVExpgvS/qyJK1fvz6tpy0F2yV/1FBA0mVhQ4N1zwtvt6ahezLc3iH5vV/8KlZmVdgLfFvSW5RkuDiZNVXw+ds/6ZldZYsxsXwwGwMmneBxj6sAVMrc/EJHKQe3tIGk0l3k9ypw18+10r2+6ybGhnu2r6SxQmV0/7GOOa8YsH9vujcOx0caWjs06Fl3293vHrxrTWplUdxVUu6NTDf4KeX7uWxOt1QzxvP9XlUfWJaNf13SqbcvZz7noLJLc/MLeu7Vcx37ra0vxfxC9BUFfskJYV97c7qV2+cqC+Mj/ZtxHUr3R6h/v1YK6ZmDZ6zj7NcA0lK1737Ek1rg2HGcr0v6uiRt2bKlr04tbIGlqEvcgy74gux5ZJMmDp3VfNtk6gNGex7ZtPTv7pPkDZNHok0yB/2aIfV//Shaor9t/0EyOa7ehw+3tEHZTlwevGtN3lPoC3kGhIzxvsEXJQm8OwgbdLO1NTun0f3H9OBda3Twe5c6+h20Zwmm2bQ3jUCkzejG1Z43ToMa6knS05ZgymC9pquWQOwLJy6Gbtqbpfevzi+VF/P7Pr8ScUWblDw5wW3A7O5bbgNmqXw38IqsKBfoU0fPd1xPSIvfu2l8vssq620T9fltXwt0BgGQlqImCaD3WD2dgptWeL+NtnGbpMtrx0camnrsno5ld1OP3dPxoe6uhZW3oOvofq43FzVhkIAU+k1apQ16yStw1+jTm2NVNWj57reN20QtQdSanVsWNJbU8e80by5m2TzrxaceWBYkHt24Wi8+9UDs59y3I//AcJ5utjTMdKRQS9uDGjAjuaS9TtJEc7xOWW+bIm17AHBlXUoV5ZFaxnE/sy0/DFqW2G18pKFTb1/WgZOXtOA4sRqX+GVZeWWL5M0vNtpgKUQkaWaSAciG10X3xNhwx7EZyeWZtWdrTBinYWHUII1tH5o4tLh02VbCIY6kq6SCJAkSY7kPP7Lvf2Gyh4IaMJdRUbJ73bl85Ztnl30+w2TxZ/E6bq4PeF7H2G5AVF2WKyyyeP7R/ccKsV8DyE8a3w3cRIQr8NvfGHNA0huSho0xPzbG/Ivsp1UutqzZqK2Jsm5c4pUtkje/TLvW7JwOnUqnFmM/4AAOFJ8tqFa0Y3OZ5Z25ZWtMGKdhYVpBWDf+k2bt67ybEEblBkdtdjf9f55UVg0ru1eS2fZzv7JLeWQP5Z1Jmfdxwmsuts+n3/ldVq/jV5YbXbbxqss6eJL287fvDxOHzub+eQPQW2l9N9jOQ/u1lGg/CwwcO46z03Gc2x3HqTuO8xnHcf59LyZWJmk1x8t6KUCaWSFpLa0OKq9w/MJlPfH8G6n8rarjAF4slB9AN1tH+olDZ3o/mQrLe1ldGs3xpGyCsLetqqf2XOMjDe3bsbmjPNa+HZtTy2zb3ZzRxl2vacPkEW3c9VriwK6t0ZzrhRMX9cTzb4QKwnYLE7zd9tnbYs076O+GvTAM6rvR61VoeS/Dz/s4ETSXdn7nd1m9jrSubaoi6+DJrYPex2bbeBRuTwgA/SOt7wZbrIYSmf2nP9cbFVTad5uzrGe8amU6u86R7/8k8He8GuT0uzJlefUrvlDRzZZV3KcJXJmxBcDax93vxyzYbhpFuZmUdhDWlWLCcaZ2N2f0womLHSuwXjhxMfOs4OMXLkfOzgkbvH3rZ+kHZqNcGNaySXiOLe8aiUVafuv3N4PO74r0Oqos6xUW1z7yvnFgG4+qjD0hAMSX1neDLVYTJoaDaiFwXCBDlkwg27gfrwuZNP3w3SupPE+vauNltUTUSy/+0qP3NZZeU5xa2Mje4dM/znsKKCCyi/2lkVkaVD6q/fsxCxNjw6p3Rels2eY2xye3Z3JM/yDF4EGWS/0PnLwUaTwrYYKbYYO3WexvYW6SuIp4gyrP4GaRlt/a/mbNmMAbSEV6HVL40illk/UKizRr4wNAWt8NZehvkPYKNXijOV6B/MqyTM027ido2Vu/2bl1nV440Zt6yZ/+5Er99BfXMv0bB797qSMT6+B3L2nLHasDHoVe4mQfXtgt/LmZpZK0d3xzrOcIWmLdk+/H7kkUJNPX1tAujiybRaVV7iMNQcFNMj7jS2MZflwTY8PadXimYx/uziDtVfM821zCBCYnxoY1ceis5tuKWNcHot2oSot7M8l9He7NJMm/8WJZ+DUglxaDF+0NznduXRf7ewwoiiI1EUV4Yb7jyszdL7vPadO4joA3Mo4LxKt7sd+4F/dOf69r1RXdljtWB9b3S0vWQWNJHRcI7r+pXwagKrLMLM06oDd19LznMTrPZfkuWzZ0HFGyXcssKDunaBmfZdLDxWDLBGWQNqdbmjh0tidNxhJns3a/jzm9r0WqG91rScvr2OrPp1mXHoiqSE1EEU3WqyTyFGblYK9XqPUDMo4rpDnd0sRLZ611NPvZ1NHzvh3Fq4D6ZcWS5wUxUHZZZpammXXrpfAB1ZSyoQeMPL9Xe3WTNm2jG1frLy9+EDk7p+pZPVnKe6mrXwbpnlfOWW/SF+nCe+ro+WXn/fMLTiqZ/1EV/tiXIb/yOmGy3p59eNOya7h6zejZhzelNkcgqixXFiF7QaskyirMysE8VqhVHYHjAllZM7rmEfRdGTIb6LlXz/UsaFy2VHWWjJbP5z59S95TSOQff5bSIUBcWdalf/CuNT0rXVQ0tmzoOGwPK+tN2hefemDZUvMw/QPcn7OUN7pe9p/w4ldawHYzPu5Ner/l3klKPFStVEpZl8UnLa8zPtLQqbcvd+yPj/+jdam99ptWlO3KDUVQteNLVGU9HlVdmP0vzvkF29sfgeMC8Qoa+41388vcaKScYXVTvXcnIGlcWGSdYZaF+kC0eqi27K+ksnreIH/7XjoNGPPy1s/Ktb8BRbJz67rMnvv1H7yX2XMXXb9c7MXRnG7p4Pe6+gd8b7F/QJjgMRcX0S04jkb3H8vl4swtLdA+l6zqIgYFhm1ZfV/55tml37Gxnd/2slSKe7GdxvO0Z922Zuc08VLwe1AExkheMeKwlzDN6Za1f0kar32wXkv8HAhWtcDT0Kq6Z3xhqA9KqFShZnvV9keXbb9sF/U6ogrbO2vcfuwTxye3p/p8Ueou+/n1T64M/J00lhqsWlm+Xf0TN0f7Us4quJtX9ljZV5hkGaAZ3Ug2M6qpZoye3LY+04YWZbuJmCbq7tp5rdqaX3D03Kv0D8hSa3ZOz3zzTE9rZjanW9ZVB+74LSu9A222cT9BtX9t5wsLjqOJl/zrKk+MDS8LCvayVEqYWpNhlfkzWLfU6LGNd7OVRtl1+Psa3X9Md04e0ej+Yx37QpSVeR9Qzi5z7o2PjrroAZ/fovuVpRyAbbxKyl6zvYr7o8tv/4t7HVH27d0L5YumoVJW1HpzB/yH75Yve3U259p/SCbLAM2LTz1A8LhCyloTNgsX9n0x8y7IeS+Pz5MtyNTv6gP2VVt51+HtB9cd6Q8Of78nf8sNdAap17wvkWzjfoKWe/udLwQFTvNugBSm1mRYvfwMus3EvQKycSRdNWorgTI3f93amOxfPvi50PMr0rde2u99UZT5xoeNLVEsrQSyIit7mY4q7o8uv/3vN269WVvuiH6NXPbt3QsEjvtIEYMTfBjtyAwrjzyyfR7bsj7T589SnIwtP7bKOT2sqJNIFrUHC3i4D6UXF5H93DDDFmSKw7ZiKMxKoqJ5/P5yHU+zunGYZxDnao8CEWEDnWnWOLadz7njXjd02gUFTsdHGjo+uV1v7n9Ixye393RZbRnP49uzpL0Csn6Pyzvg2Z4BFyUAVJQwX3O6pWcOnul475852NsVB1nh5mO1BB234/rC1/5cGyaPLP3vC1/780TPZ5PW/rjCEkCyject7PG8282Wi0bbeD/inegjRWxYQ3DU7sG71uQ9BYT06H2NpSzGsA2VkgibMVVUV6+lu8Rt6rF7I40XTRaZGwU83IcS94Qvikaff++kFWT66S+uRRovAlu2ednqXt+55hOZPG8vPn95CxvotO0rcVYsBJWTcG/olFEZz+PjLEmOG2zOglsWpIwByV2Hv78siH39xjhQJFmUAfrC1/582SroH757JbPgcRo+sgSQbOO9sCogmBunxMSHH3lfi9nG+xGB4wq5zVKo3jZeBGGCo/16o6dsF7L97EBXQ5MD372U6cVEmktD85DFhWa9Znz/XWT9XDrBS9Y1xYKy+/pRlFqZZTVYr1mzzcuWNfniSe/6vGmoek2/sN8/tn0lzoqFMOUkxkcaGhr0Pl+3jRdBGY+ncZYkU/8yHVUufVDGz2+Qsq/oi8ttKjc3v7B0jp5GGSBb6cwsSmpWcX+MIup5nS0OXsTEy7xU/GPfX559eJNn8OTZhzflNKNgL5/+ceDvrFxRrhPStJTtQjYrZajlu9D1rbJw3dEffiu7jOCy7xtpZ9NPHT3vWcerLBd0/Vw6wSbLBnbtQRws+vtfFjdLOC1+27xsWZNZHzLK/h3jJ69AZ5hM/z2PbFrWTK0+YLTnkeKex6d5PF1pueFrG48rzhL0Ita/HKx69M6iCCVDvHzpntsjjZeBLdmyykmY3Q0/FxxnKdO4l2WAkirj90lYYUpbRT2vS3OVUVX15zdORY2PNHT/hts6xu7fcFsmB7m0ytqEucN8JeVl7WUxVOBM8V56bMv6UtZrzXK/vbXkd4vTzqbv9QVd2gFHApjLZX2i5gZxsKiMS56jGh9pZLL0tIq8LrjKuKrNS5HLQoyPNDT12D0dmclTj91T+GBFWsfTVStXRBqPK85xIKt6p0l0Jy0EKUKQ1Xb9GPa6sjnd0sRLZztKhky8dDb31yXZz23LvILUtodVOd2hKqsLyvp9koY453U7t66LNN6P0v0mRq52N2d0/MLljrHjFy5rd3Mm9S71//XWcjWSKaN+uJD34yZSTB09X+kTlDjKfvMz7YDu2qFBzwzVsmQRPnjXGr1wIrul51nIOtGJLOzi+/VPrvSsZ1zk5njuBdPU0fN6Z3ZOa4cGl7KIDp26uOwcSirmqpeg+n5J2C64nn14kyZeOtuxuqOXq9rcpcPd2y2O8ZGGnj54Jt0JpmR8JNseCUX2gaXxoG08Lr/jgM3E2LB2HZ7pCCjlfdPp2kK070m3LrOk3PaxT6ys6ecfLk+s+ETIpsnPvXrOc4XZc6+ey/1zU8SsdESX5Xb83Kdv8SxLkVW5sKp+n9yysmZN0GrEPD9wY2UHTi6Wn6wZo51b16UeQyszAscVcuDkJet4mju9kbTljt5dSJU9SIZ4PnHzYhZTWU+4stxtZ0t+U8FdXrmqPhBquVEQW+A1qwaTaZdRKGM2SsTr1ciyzjh2g1A2VcsCvyXkRXkUtqBF93jDcmMnr/fYdiH12Jb1noHjx7bkd6N8wCyWpXC6xv5ox92p/p3G0GBgAC1OsC0t7tJhN2hXhABY2p54/o2O/W9042q9+NQDOc6o93p5E/jQqYtLf6s1O6dDpy767kt57v9pcjMn85q3V9DYb7ybLammCMk2ZU9iwKIst+N3nvmtZQ3yPvfpW/SdZ34r8XP3k+uW5JLB+kCi1S97xzcTKPZB4LhCghp52C7eonIk/eG3Znp20hEn8ax76eTQYF2zKWcsFI3f3bcycoOjti/wNK3wWSN326q67wmp7e7xE9uyCzb04j3J0tyN4mi/SqkZSpbLA2vGZJ79msXNkazn7bdCdsWASdxtOcu5u0tdu7OWXHlnkWXhagbfDWEv4IuYqeflDw5/3zreyyBLdxD31NuXl2XApD2fsBdaeWUv+S0dLlvgzkt30FhaXDH4xPNv9FXwuFfHirjvd1Wy98qakFF0E2PDmjh0VvNt5z/1AVO47zr4y/o4RJA4uSo32SwyahxXSFBR74mx4WXN8+JKK0D5ZIjgWtTMM6+lk/ML1T+QVCloLH1c43libDjzA9U/v99ev+jZhzep5hFYNmZx//3OM7+lJ7etX9pPa8boyW3rM71jWcYu5u3cmGBan0pbED2N4PqFfV9M/BxBsshGyTrY7XdcTho0lrLNRvVa6tr+d5N2zS6iPDOe2ptnuXX2ivge21Y/pLEqIor2BmqS9PLp1tLnecFx9PLpViHqefZS1ZeAe2W6+413K2qzsKh6daxI+n6XXZkzYIcsPT5s4z3XfWrEqtnSyfo4tLs5o427XtOGySPauOs17W5m10y9H5X5O7DoyDiukJ1b13ku1+4o6l2wspF7xzfrzfd+6XuyFiUAUjNGj/+j5dk4ZQqqFrGeYh7czX7q7cupBRhtvn32J76B3gFJ7XtQfcB0NBjo9dIW9+8+9+q51Jfn2TJV0ywdkHYZgl7MOUte2Q1JGWV7uM+yWUTW2ah+n5mqNszLomyLbSWP1wV82pl6vVgJkIfue5RVz7QNiyXgdlmV8bCttsq6GWJZs3pt37lZnoXEPQ5mVcarF750z+2e17pfuuf2HGbTaeroec/6y2U+Xo9uXF2a2v9pyuo4tLs507H/LjjO0r+LWiLBVlYwy14LQfxWA1exlFVRkHFcIXvHN/tmPk4dPd+xfCaJtE6EmtMtffet931/J0rmWRWycdx6ilkVyi8LtxlKL5qG+ZUx8frczF93cu+uOz7SSL3TuNSbrrLbPntbas8lBZfpScqWyTJYH+jISPiTx++N9fxudkOasgypZZlRX9Rs1DTFyaZOGqwJKtsSZ057Htmkeleksz5gtOeR7JulRf1sl+UmUvcpWparKXohreCCLdCVJABW+MzFkPxuLiRh+4hV8H5NKmxvS9i3a2WMFaFxz8vK2FfBlWVpsqSquDLixaceWHYc78f662mxXdMWuUH2H+24e9lN7Sx6LURhWw3sSuM7EMsROK6YveObdWHfF/XW/od0Yd8XOy7u0/ziSqt+q9+SYSle5lnZDxbu3L/zzG8t605f5G71aStKJlEvTgTjLsvP4mQ06AZUGt762eK80woq2N6/tMod2DJZHr3vMx3LypMEO8sUKA3aF+I2Ynty2/rE72MYeQeM4pSaeejuZNlUQYHGOHMaH2lo6rF7Om6etK/EyJJtW9mCL1lmyGcpqARZ0aXVWDCLYFGeNz7SlNU5iu2GetX7heTF1mzUj9f5WhhlDmQWOThru24pyvVMXC8+9YDe2v/Q0v8IGveX8ZGGvvZ793ac633t9+7N/bolKIhZhGNC1VCqoo8MBTT5CivNIJLffBoJOhaXJRvHi3uga063dPlK5/tz+cq8tfHUTSsG9OFH1ajl3OvGSX7n2r1YInt8crs2TB6J/LismuRlXXrD3cdffOoBzyY1UWXdyKLIGS5F9NXf2ayvHDqrhbbjVG3AdPzbS6/ezz2PbPJsYNOrgJH7nfb0wTOhH5P0vQkKKLhzmjp6fqkxW5hjS17Lym0v55abVuj37r59WTO5MMezKKU34hgw/k0lvf5W1qspsrbnlXOpPE8WwSKvfT7uOWeesjpHKXsJqF7L+vhh032+FuZcMs9AZs1IXjHysAnXRS5bU5ZGsFE1p1ulP04imaKVEAqzir4Ix4SqIeO4j6R1nVHUGjztus8/4mbA5cE90O155ZxniQRb46kkQeOilcXo9VJ1v8+GVyZeUU4EJ8aGl2VMlUH7l/mLTz2QODM460YWRc1wKepxbXykof+hKxP1f3jsnsDH9er9zDNTtn0OUSR9b8IEGsdHGssas+XFdlRzx2ctN51nr877rrzyY1tZkFrtzIBN4HXzIuvVFFlLKzs1q0y+7n2+SBfGYWV1jlL2mxZ+svhcJc1gTyvAHFR3NO/zV1tiddiE6yKfk5elEWwUbg311uycHH1cP7bMJSHzFHRug3CCzomLckyoGjKOC6RhuYua1gXCBymcwKedaTBYH9CcpWN5kuLm3ecf9Vp3e7Niaj/Q9XI54NVrvc1Utu3rrl6fZPnt14XPSirZ2YbXl3ncoFj7dsvybngRM1xqA0Zf/R17QMyW/dQrXtvjDw5/37PBhsvr/Qw6VqQ5vyJLurogznmEMd431XqRcBhULzSLz2TWKwv8vmVtK6zSzGArYoObsPLI5Mv6nDwtWZ2jlOX1x5HF/pR0O3ithLHxCzLbrqmkZCs5i2J8pKFTb1/uWFXy6H3F+T4v27lFEBq0puuJbes96xmnVQK0X9zqc41TheNcURX/bLGPZH0XNY0gR9p1Am8OqKmYVr3istRky+vOdK9Le0TJZnuyB1+mQRk0vchKCtP8qju52KuDs6sxNKgnt61XvWv9X/e/e8mWfRH32BQn82kwRpCkaBkubgav337olf3kGqzXYjdbS5IVteO+z1h/Zns/49TeraIk70PcffUff9a7BrltPE1BtX2z+EzmubLA9r0SlMEWpQbyTZb9xzaehiirIvy+6/PI5Cvacd9PFucoZXr9UWW1PyXZDl4rYZ7ctj5yFrPtfKoxNFiIrHrbjcewNySb0y29fLq1dP5XhaboRVbUFXdl1Ys+Mv3Adry4bVW9EMe5qiLjuECyzmz0usNuMzRY15fuiVcnMArbctN2aXw52Wq1FU37tr7NUpPayDsby/b7YRT5/XH3ufZ98brjhO5UHUYRMmiefXiTJl4669sssjsRxfbZMPo4OL/ljtXLjilRaqumyXbDIMqxqV2c7bZvx9165uAZ3+y/bmkem5MEXgfrtdAXt+1zbs3OLX3G3Tvxkpa95/UBo+uStRZx0jrA3z77E89xY+w3zbpfh5fuINmfPH6v5z7+J4/fG23CBRK1BnFjaDDxvuo2sQw7nqadW9d5ZuW4N6+zOF8q4soCyT+DLeh9audX3iMrttVeK2tGC9cV6fyy15l8hV9tlLGqv/4iZoZ6zcnrHM5v3kWvs2u71Ah7CUIGbG8V9XuxzLLuI9MP8jifAYHjwsnyRMbrJPDBu9bo4HcveTYJGh9pBB7YbM1ewpZdDbP8No0vp6IGRf14BRLrNaPH/9E6HfzepWXjzz68KXZAMI/3J8oyyO4v2ZF/82epNHqUinNCHSdAFuaEzuuYkkfg2C/DNcxr7xZ3u2XdBMyvtEKSwGucpVdh5tx9Qdo+NrSqLsdZLHOURtDAtvLDcfzL07ivY3dzJlSQrKoBj+7t6dcEKY0axXlmGnndMOwOLqZ9vlT0gIuXMO+TK48AgK1E2vyCozf3P5TZ301LEYOLvdTvr78Iom6Don//JS2BEud76UlLeYBerGgsuzJ+L6L6uKGRDwLHfSaNu9ntbKW43HFbFqwbRArKNGz/cvKrh9yt+wTEL5jTGBrUlQ8/8gxquM8T9DrS0F1n0O/kz7bNogTe2vm9P4P1WuRM0DCSnIwkuaM4NFiXMYvPUbQTavfzaQsIdQf4i3hC5940aj82uDc2/Liv/c5dR7zrqmrxhCCNC6EoAbiobMe021bV9ezDm2LPOYtmZbYL0qJ8HrpFCZLlGfCwrQpJu0hM1jVI8z4x73VWTtEDLjZh36c8vi/y3oeAflTkgH/S41CcY0qUcwd0Kuv3IqqtiNe//YDAcQp6EVTMUpITjKALV1vWrBtE6v5C8stwsy0xr9dMx/N7HThsBxh3ebTbNdZ2AAp6HUkNGOmPdty9bNwvsOM1bnudQYHfoGDXnlfOpVYn2q15mORkJChLtF4zkqOOTPooy/zzFjYglMcJnS0o5s6vO2s16pye2GpvHFGGk3xOsu3S+K4swxK/P7aUyvjjlEtlZH3i3I8n5lkGXPJuNpbHsakf96E4BuTdPLFsjWhuWjGgDz9a/kpuWlG2V4KsJD0OxT2mlOHcoaiKfCMC/YlrrXwQOE5B1kHFIgv6Ag/zwQ77hWR7rqDnDzOPpD9Pwr3zncZz2eYZVJpgfGR5l+Luu/Hd3Z7rA0aP379O3/rLlq5cWx6YHt24WifefL+jXmptwOirv5N8qbHXfucGNNMIXmZhdONqHb9w2XO8W5QT4zjvYZIAhq0jcHdzh7jvdR6ZIVG2TRhx9+u051E0/fJdGfb7ImkgMesTZ07M01WEICp1govpa5abTV8rWV32wXrNM3BMg1O0S3Ic4pgCQOKGRh6Mk0Ft0y1btjinTp1K/XmLrDndKsSXWB7zKMprL4rR/ccil4vIOhvWuvzfSG/ue8iacd0+J7/tvLs54xnoy3LfKON+98Tzb3QEBkc3rtaLTz3g+btZv3dB29uPbXuXWZRt0w/zyEoZP7dZSfo5RPmw/8OmCvvGnZNHrGV6ylDTGgCAfmeMOe04zpZl4wSOq4OL0GLw2g5hNIYGM6ljKsnaVMrNErUFu7OcU1JVDF72UhUuUoGy43MIoCrKeC4JAAA+ZgscU6qiQqaOnl8WrJybX9DU0fNciPaQ+15/5ZtnlzUz85Nlp/qg5f9xuhTnqTsQvuA4S/8meBwOS3yA/PE5BFAVRSjHAgAA0kfguELKFvyrMrdmsFeW7y0ra541gbPuMu7XGKJsnc8PnLxkHSdwDAAA0FvUnwUAoJoIHFdI2YJ/Vff6D97zHK/XBjRYV6EyMsqWJWLL5I6S4Q0AAID0sIoCAIDqGQjzS8aY3zbGnDfG/K0xZjLrSSGeibHhZZ2Lixz8qzpbpvcHc/Pat2OzGkODMlqs/ZZ3HerxkUbh5uSnZkykcQAAAAAAAEQTmHFsjKlJ+reSviDpx5K+Z4x5xXGcv856coiGJWLF4pcBXsSMjCLOyWbn1nWeZUB2bl2Xw2wAAAAAAACqJ0ypivsl/a3jOD+SJGPMf5T0zyQROC6gMgX/qq5s5R/KJKjZHwAAAAAAAJIJEzhuSGrvRPVjSVuzmQ5QHWSAZ8uv2R8AAAAAAACSSa05njHmy5K+LEnr169P62mBUiMDHAAAAAAAAGUUpjleS1J74dDP3Bjr4DjO1x3H2eI4zpY1a9akNT8AAAAAAAAAQI+FCRx/T9LnjDF3GmNWSvrnkl7JdloAAAAAAAAAgLwElqpwHOcjY8z/S9JRSTVJf+o4zrnMZwYAAAAAAAAAyEWoGseO47wm6bWM5wIAAAAAAAAAKIAwpSoAAAAAAAAAAH2EwDEAAAAAAAAAoAOBYwAAAAAAAABABwLHAAAAAAAAAIAOBI4BAAAAAAAAAB0IHAMAAAAAAAAAOhjHcdJ/UmPek/R26k9cDr8m6e/zngSAQuL4AMALxwYANhwfANhwfADgJe6x4Q7HcdZ0D2YSOO5nxphTjuNsyXseAIqH4wMALxwbANhwfABgw/EBgJe0jw2UqgAAAAAAAAAAdCBwDAAAAAAAAADoQOA4fV/PewIACovjAwAvHBsA2HB8AGDD8QGAl1SPDdQ4BgAAAAAAAAB0IOMYAAAAAAAAANCBwHFKjDG/bYw5b4z5W2PMZN7zAZAfY8yfGmPeNcb8VdvYamPMd4wxP7zx/7flOUcA+TDGrDPGvG6M+WtjzDljzL+6Mc4xAuhjxpibjTHfNcacvXFseO7G+J3GmJM3rjEOGmNW5j1XAPkwxtSMMdPGmG/f+DfHBwAyxrxljJkxxpwxxpy6MZbatQWB4xQYY2qS/q2k/0rS5yXtNMZ8Pt9ZAcjR/yrpt7vGJiX9747jfE7S/37j3wD6z0eSvuI4zuclbZP0L2+cM3CMAPrbh5K2O45zj6R7Jf22MWabpP+PpD92HOcfSHpf0r/Ib4oAcvavJP1N2785PgBwPeg4zr2O42y58e/Uri0IHKfjfkl/6zjOjxzHuSbpP0r6ZznPCUBOHMf5C0mXu4b/maT/cOO//4Ok8V7OCUAxOI7zE8dx/vLGf/9CixeADXGMAPqas+iXN/5Zv/E/R9J2SS/dGOfYAPQpY8xnJD0k6d/d+LcRxwcAdqldWxA4TkdD0qW2f//4xhgAuH7dcZyf3Pjvv5P063lOBkD+jDEbJI1IOimOEUDfu7EM/YykdyV9R9IFSbOO43x041e4xgD6159I+u8lXb/x70+J4wOARY6kPzPGnDbGfPnGWGrXFiuSzg4AEI3jOI4xxsl7HgDyY4z5hKSXJT3tOM7PFxOHFnGMAPqT4zgLku41xgxJ+paku/KdEYAiMMZ8SdK7juOcNsb8Vs7TAVA8/8RxnJYx5tOSvmOM+UH7D5NeW5BxnI6WpHVt//7MjTEAcP3UGHO7JN34/3dzng+AnBhj6loMGr/oOM7hG8McIwBIkhzHmZX0uqQHJA0ZY9xkH64xgP40KukRY8xbWiyLuV3S/yiODwAkOY7TuvH/72rxxvP9SvHagsBxOr4n6XM3upqulPTPJb2S85wAFMsrkv6bG//930j633KcC4Cc3KhJ+O8l/Y3jOF9r+xHHCKCPGWPW3Mg0ljFmUNIXtFgD/XVJv3vj1zg2AH3IcZxdjuN8xnGcDVqMNRxzHOcJcXwA+p4x5hZjzCfd/5b0TyX9lVK8tjCOw0rINBhjvqjFukM1SX/qOM5X850RgLwYYw5I+i1Jvybpp5KeldSU9E1J6yW9Len3HMfpbqAHoOKMMf9E0v8haUYf1yn8Ay3WOeYYAfQpY8zdWmxeU9Nics83Hcf5N8aYz2oxw3C1pGlJTzqO82F+MwWQpxulKv614zhf4vgA4MZx4Fs3/rlC0jccx/mqMeZTSunagsAxAAAAAAAAAKADpSoAAAAAAAAAAB0IHAMAAAAAAAAAOhA4BgAAAAAAAAB0IHAMAAAAAAAAAOhA4BgAAAAAAAAA0IHAMQAAAAAAAACgA4FjAAAAAAAAAEAHAscAAAAAAAAAgA7/f2tQxODf/0OwAAAAAElFTkSuQmCC)"
      ],
      "metadata": {
        "id": "WT8Gf1zHqaLA"
      }
    },
    {
      "cell_type": "markdown",
      "source": [
        "![bar.png](data:image/png;base64,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)"
      ],
      "metadata": {
        "id": "wCsWj9NZqaIE"
      }
    },
    {
      "cell_type": "markdown",
      "source": [
        "![histo.png](data:image/png;base64,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)"
      ],
      "metadata": {
        "id": "f0oSQhVsqZ71"
      }
    },
    {
      "cell_type": "markdown",
      "source": [
        "![line.png](data:image/png;base64,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)"
      ],
      "metadata": {
        "id": "tMZya-vfqsEm"
      }
    },
    {
      "cell_type": "code",
      "source": [],
      "metadata": {
        "id": "BZ6DSw1MgJxK"
      },
      "execution_count": null,
      "outputs": []
    },
    {
      "cell_type": "code",
      "source": [],
      "metadata": {
        "id": "tQ3IR8XCgJp5"
      },
      "execution_count": null,
      "outputs": []
    },
    {
      "cell_type": "code",
      "source": [],
      "metadata": {
        "id": "L4djRZyh9qph"
      },
      "execution_count": null,
      "outputs": []
    },
    {
      "cell_type": "code",
      "source": [],
      "metadata": {
        "id": "bm-HxMyC9qta"
      },
      "execution_count": null,
      "outputs": []
    }
  ]
}